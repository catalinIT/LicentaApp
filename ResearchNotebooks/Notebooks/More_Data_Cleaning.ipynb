{
 "cells": [
  {
   "cell_type": "code",
   "execution_count": 3,
   "id": "d277748a",
   "metadata": {},
   "outputs": [],
   "source": [
    "# for Data Manipulation\n",
    "import pandas as pd\n",
    "import numpy as np\n",
    "import os\n",
    "import csv \n",
    "\n",
    "# for EDA\n",
    "from os import path\n",
    "from PIL import Image\n",
    "from wordcloud import WordCloud, STOPWORDS, ImageColorGenerator\n",
    "import matplotlib.pyplot as plt\n",
    "%matplotlib inline   \n",
    "from collections import Counter\n",
    "\n",
    "# for NLP\n",
    "from textatistic import Textatistic\n",
    "import spacy\n",
    "from spacy import displacy\n",
    "\n",
    "# for Statistics\n",
    "from scipy import stats"
   ]
  },
  {
   "cell_type": "code",
   "execution_count": 4,
   "id": "e9e830e0",
   "metadata": {},
   "outputs": [
    {
     "data": {
      "text/html": [
       "<div>\n",
       "<style scoped>\n",
       "    .dataframe tbody tr th:only-of-type {\n",
       "        vertical-align: middle;\n",
       "    }\n",
       "\n",
       "    .dataframe tbody tr th {\n",
       "        vertical-align: top;\n",
       "    }\n",
       "\n",
       "    .dataframe thead th {\n",
       "        text-align: right;\n",
       "    }\n",
       "</style>\n",
       "<table border=\"1\" class=\"dataframe\">\n",
       "  <thead>\n",
       "    <tr style=\"text-align: right;\">\n",
       "      <th></th>\n",
       "      <th>statement</th>\n",
       "      <th>source</th>\n",
       "      <th>link</th>\n",
       "      <th>veracity</th>\n",
       "    </tr>\n",
       "  </thead>\n",
       "  <tbody>\n",
       "    <tr>\n",
       "      <th>0</th>\n",
       "      <td>\"Books banned in Texas include 1984, Maus, and The Handmaid's Tale, but not Mein Kampf.\"</td>\n",
       "      <td>Tweets</td>\n",
       "      <td>/factchecks/2022/feb/14/tweets/those-titles-arent-banned-statewide-could-be-distr/</td>\n",
       "      <td>0</td>\n",
       "    </tr>\n",
       "    <tr>\n",
       "      <th>1</th>\n",
       "      <td>A video shows that “OnlyFans has guys on campus encouraging your daughters to do porn for ‘financial freedom.’”</td>\n",
       "      <td>Tweets</td>\n",
       "      <td>/factchecks/2022/feb/14/tweets/no-onlyfans-isnt-recruiting-adult-film-stars-colle/</td>\n",
       "      <td>0</td>\n",
       "    </tr>\n",
       "    <tr>\n",
       "      <th>2</th>\n",
       "      <td>“Nevada ranks 50th in election integrity ratings.”</td>\n",
       "      <td>Jesse Haw</td>\n",
       "      <td>/factchecks/2022/feb/14/jesse-haw/fact-checking-claim-nevada-ranks-close-last-electi/</td>\n",
       "      <td>1</td>\n",
       "    </tr>\n",
       "  </tbody>\n",
       "</table>\n",
       "</div>"
      ],
      "text/plain": [
       "                                                                                                         statement  \\\n",
       "0                         \"Books banned in Texas include 1984, Maus, and The Handmaid's Tale, but not Mein Kampf.\"   \n",
       "1  A video shows that “OnlyFans has guys on campus encouraging your daughters to do porn for ‘financial freedom.’”   \n",
       "2                                                               “Nevada ranks 50th in election integrity ratings.”   \n",
       "\n",
       "      source  \\\n",
       "0     Tweets   \n",
       "1     Tweets   \n",
       "2  Jesse Haw   \n",
       "\n",
       "                                                                                    link  \\\n",
       "0     /factchecks/2022/feb/14/tweets/those-titles-arent-banned-statewide-could-be-distr/   \n",
       "1     /factchecks/2022/feb/14/tweets/no-onlyfans-isnt-recruiting-adult-film-stars-colle/   \n",
       "2  /factchecks/2022/feb/14/jesse-haw/fact-checking-claim-nevada-ranks-close-last-electi/   \n",
       "\n",
       "   veracity  \n",
       "0         0  \n",
       "1         0  \n",
       "2         1  "
      ]
     },
     "execution_count": 4,
     "metadata": {},
     "output_type": "execute_result"
    }
   ],
   "source": [
    "# Use cleaner absolute path to find file\n",
    "path = os.path.abspath('2022_03_13_politifact_cleaned_data.csv')\n",
    "df = pd.read_csv(path, index_col=0)\n",
    "\n",
    "# to see statement in full\n",
    "pd.set_option('display.max_colwidth', 200) \n",
    "\n",
    "# See sample of data\n",
    "df.head(3)"
   ]
  },
  {
   "cell_type": "markdown",
   "id": "3f0aec40",
   "metadata": {},
   "source": [
    "# Should remove statements that begin with \"Says entity said\" as there are 2 reasons this may be false: speaker is false or statement is false."
   ]
  },
  {
   "cell_type": "markdown",
   "id": "7e4adc5d",
   "metadata": {},
   "source": [
    "Filter for sentences that begin with a quotation"
   ]
  },
  {
   "cell_type": "code",
   "execution_count": 5,
   "id": "cdd53ce0",
   "metadata": {},
   "outputs": [
    {
     "data": {
      "text/html": [
       "<div>\n",
       "<style scoped>\n",
       "    .dataframe tbody tr th:only-of-type {\n",
       "        vertical-align: middle;\n",
       "    }\n",
       "\n",
       "    .dataframe tbody tr th {\n",
       "        vertical-align: top;\n",
       "    }\n",
       "\n",
       "    .dataframe thead th {\n",
       "        text-align: right;\n",
       "    }\n",
       "</style>\n",
       "<table border=\"1\" class=\"dataframe\">\n",
       "  <thead>\n",
       "    <tr style=\"text-align: right;\">\n",
       "      <th></th>\n",
       "      <th>statement</th>\n",
       "      <th>source</th>\n",
       "      <th>link</th>\n",
       "      <th>veracity</th>\n",
       "    </tr>\n",
       "  </thead>\n",
       "  <tbody>\n",
       "    <tr>\n",
       "      <th>0</th>\n",
       "      <td>\"Books banned in Texas include 1984, Maus, and The Handmaid's Tale, but not Mein Kampf.\"</td>\n",
       "      <td>Tweets</td>\n",
       "      <td>/factchecks/2022/feb/14/tweets/those-titles-arent-banned-statewide-could-be-distr/</td>\n",
       "      <td>0</td>\n",
       "    </tr>\n",
       "    <tr>\n",
       "      <th>82</th>\n",
       "      <td>\"In Joe Biden’s America, your children are more likely to have access to a crack pipe than a mask-free education.\"</td>\n",
       "      <td>Troy Nehls</td>\n",
       "      <td>/factchecks/2022/feb/10/troy-nehls/claim-kids-more-likely-have-access-crack-pipes-mas/</td>\n",
       "      <td>0</td>\n",
       "    </tr>\n",
       "    <tr>\n",
       "      <th>150</th>\n",
       "      <td>\"Books banned in Texas include 1984, Maus, and The Handmaid's Tale, but not Mein Kampf.\"</td>\n",
       "      <td>Tweets</td>\n",
       "      <td>/factchecks/2022/feb/14/tweets/those-titles-arent-banned-statewide-could-be-distr/</td>\n",
       "      <td>0</td>\n",
       "    </tr>\n",
       "    <tr>\n",
       "      <th>232</th>\n",
       "      <td>\"In Joe Biden’s America, your children are more likely to have access to a crack pipe than a mask-free education.\"</td>\n",
       "      <td>Troy Nehls</td>\n",
       "      <td>/factchecks/2022/feb/10/troy-nehls/claim-kids-more-likely-have-access-crack-pipes-mas/</td>\n",
       "      <td>0</td>\n",
       "    </tr>\n",
       "    <tr>\n",
       "      <th>300</th>\n",
       "      <td>\"Books banned in Texas include 1984, Maus, and The Handmaid's Tale, but not Mein Kampf.\"</td>\n",
       "      <td>Tweets</td>\n",
       "      <td>/factchecks/2022/feb/14/tweets/those-titles-arent-banned-statewide-could-be-distr/</td>\n",
       "      <td>0</td>\n",
       "    </tr>\n",
       "    <tr>\n",
       "      <th>382</th>\n",
       "      <td>\"In Joe Biden’s America, your children are more likely to have access to a crack pipe than a mask-free education.\"</td>\n",
       "      <td>Troy Nehls</td>\n",
       "      <td>/factchecks/2022/feb/10/troy-nehls/claim-kids-more-likely-have-access-crack-pipes-mas/</td>\n",
       "      <td>0</td>\n",
       "    </tr>\n",
       "    <tr>\n",
       "      <th>450</th>\n",
       "      <td>\"Books banned in Texas include 1984, Maus, and The Handmaid's Tale, but not Mein Kampf.\"</td>\n",
       "      <td>Tweets</td>\n",
       "      <td>/factchecks/2022/feb/14/tweets/those-titles-arent-banned-statewide-could-be-distr/</td>\n",
       "      <td>0</td>\n",
       "    </tr>\n",
       "    <tr>\n",
       "      <th>532</th>\n",
       "      <td>\"In Joe Biden’s America, your children are more likely to have access to a crack pipe than a mask-free education.\"</td>\n",
       "      <td>Troy Nehls</td>\n",
       "      <td>/factchecks/2022/feb/10/troy-nehls/claim-kids-more-likely-have-access-crack-pipes-mas/</td>\n",
       "      <td>0</td>\n",
       "    </tr>\n",
       "    <tr>\n",
       "      <th>600</th>\n",
       "      <td>\"Books banned in Texas include 1984, Maus, and The Handmaid's Tale, but not Mein Kampf.\"</td>\n",
       "      <td>Tweets</td>\n",
       "      <td>/factchecks/2022/feb/14/tweets/those-titles-arent-banned-statewide-could-be-distr/</td>\n",
       "      <td>0</td>\n",
       "    </tr>\n",
       "    <tr>\n",
       "      <th>682</th>\n",
       "      <td>\"In Joe Biden’s America, your children are more likely to have access to a crack pipe than a mask-free education.\"</td>\n",
       "      <td>Troy Nehls</td>\n",
       "      <td>/factchecks/2022/feb/10/troy-nehls/claim-kids-more-likely-have-access-crack-pipes-mas/</td>\n",
       "      <td>0</td>\n",
       "    </tr>\n",
       "  </tbody>\n",
       "</table>\n",
       "</div>"
      ],
      "text/plain": [
       "                                                                                                              statement  \\\n",
       "0                              \"Books banned in Texas include 1984, Maus, and The Handmaid's Tale, but not Mein Kampf.\"   \n",
       "82   \"In Joe Biden’s America, your children are more likely to have access to a crack pipe than a mask-free education.\"   \n",
       "150                            \"Books banned in Texas include 1984, Maus, and The Handmaid's Tale, but not Mein Kampf.\"   \n",
       "232  \"In Joe Biden’s America, your children are more likely to have access to a crack pipe than a mask-free education.\"   \n",
       "300                            \"Books banned in Texas include 1984, Maus, and The Handmaid's Tale, but not Mein Kampf.\"   \n",
       "382  \"In Joe Biden’s America, your children are more likely to have access to a crack pipe than a mask-free education.\"   \n",
       "450                            \"Books banned in Texas include 1984, Maus, and The Handmaid's Tale, but not Mein Kampf.\"   \n",
       "532  \"In Joe Biden’s America, your children are more likely to have access to a crack pipe than a mask-free education.\"   \n",
       "600                            \"Books banned in Texas include 1984, Maus, and The Handmaid's Tale, but not Mein Kampf.\"   \n",
       "682  \"In Joe Biden’s America, your children are more likely to have access to a crack pipe than a mask-free education.\"   \n",
       "\n",
       "         source  \\\n",
       "0        Tweets   \n",
       "82   Troy Nehls   \n",
       "150      Tweets   \n",
       "232  Troy Nehls   \n",
       "300      Tweets   \n",
       "382  Troy Nehls   \n",
       "450      Tweets   \n",
       "532  Troy Nehls   \n",
       "600      Tweets   \n",
       "682  Troy Nehls   \n",
       "\n",
       "                                                                                       link  \\\n",
       "0        /factchecks/2022/feb/14/tweets/those-titles-arent-banned-statewide-could-be-distr/   \n",
       "82   /factchecks/2022/feb/10/troy-nehls/claim-kids-more-likely-have-access-crack-pipes-mas/   \n",
       "150      /factchecks/2022/feb/14/tweets/those-titles-arent-banned-statewide-could-be-distr/   \n",
       "232  /factchecks/2022/feb/10/troy-nehls/claim-kids-more-likely-have-access-crack-pipes-mas/   \n",
       "300      /factchecks/2022/feb/14/tweets/those-titles-arent-banned-statewide-could-be-distr/   \n",
       "382  /factchecks/2022/feb/10/troy-nehls/claim-kids-more-likely-have-access-crack-pipes-mas/   \n",
       "450      /factchecks/2022/feb/14/tweets/those-titles-arent-banned-statewide-could-be-distr/   \n",
       "532  /factchecks/2022/feb/10/troy-nehls/claim-kids-more-likely-have-access-crack-pipes-mas/   \n",
       "600      /factchecks/2022/feb/14/tweets/those-titles-arent-banned-statewide-could-be-distr/   \n",
       "682  /factchecks/2022/feb/10/troy-nehls/claim-kids-more-likely-have-access-crack-pipes-mas/   \n",
       "\n",
       "     veracity  \n",
       "0           0  \n",
       "82          0  \n",
       "150         0  \n",
       "232         0  \n",
       "300         0  \n",
       "382         0  \n",
       "450         0  \n",
       "532         0  \n",
       "600         0  \n",
       "682         0  "
      ]
     },
     "execution_count": 5,
     "metadata": {},
     "output_type": "execute_result"
    }
   ],
   "source": [
    "df[df.statement.str.match(r\"\\\"\")==True][0:100:10]"
   ]
  },
  {
   "cell_type": "code",
   "execution_count": 6,
   "id": "6e636a37",
   "metadata": {},
   "outputs": [
    {
     "data": {
      "text/html": [
       "<div>\n",
       "<style scoped>\n",
       "    .dataframe tbody tr th:only-of-type {\n",
       "        vertical-align: middle;\n",
       "    }\n",
       "\n",
       "    .dataframe tbody tr th {\n",
       "        vertical-align: top;\n",
       "    }\n",
       "\n",
       "    .dataframe thead th {\n",
       "        text-align: right;\n",
       "    }\n",
       "</style>\n",
       "<table border=\"1\" class=\"dataframe\">\n",
       "  <thead>\n",
       "    <tr style=\"text-align: right;\">\n",
       "      <th></th>\n",
       "      <th>statement</th>\n",
       "      <th>source</th>\n",
       "      <th>link</th>\n",
       "      <th>veracity</th>\n",
       "    </tr>\n",
       "  </thead>\n",
       "  <tbody>\n",
       "    <tr>\n",
       "      <th>1</th>\n",
       "      <td>A video shows that “OnlyFans has guys on campus encouraging your daughters to do porn for ‘financial freedom.’”</td>\n",
       "      <td>Tweets</td>\n",
       "      <td>/factchecks/2022/feb/14/tweets/no-onlyfans-isnt-recruiting-adult-film-stars-colle/</td>\n",
       "      <td>0</td>\n",
       "    </tr>\n",
       "    <tr>\n",
       "      <th>11</th>\n",
       "      <td>In England, “official data shows children are up to 52 times more likely to die following COVID-19 vaccination than unvaccinated children.”</td>\n",
       "      <td>Bloggers</td>\n",
       "      <td>/factchecks/2022/feb/11/blog-posting/no-covid-19-vaccine-not-increasing-child-mortality/</td>\n",
       "      <td>0</td>\n",
       "    </tr>\n",
       "    <tr>\n",
       "      <th>24</th>\n",
       "      <td>“MSNBC announced Trump won 2020 election.”</td>\n",
       "      <td>Facebook posts</td>\n",
       "      <td>/factchecks/2022/feb/10/facebook-posts/no-msnbc-didnt-announce-donald-trump-won-2020-elec/</td>\n",
       "      <td>0</td>\n",
       "    </tr>\n",
       "    <tr>\n",
       "      <th>37</th>\n",
       "      <td>“New Jersey and Maryland produce more solar power than Florida, the Sunshine State!”</td>\n",
       "      <td>Charlie Crist</td>\n",
       "      <td>/factchecks/2022/feb/11/charlie-crist/florida-produces-more-solar-power-most-states-thou/</td>\n",
       "      <td>1</td>\n",
       "    </tr>\n",
       "    <tr>\n",
       "      <th>48</th>\n",
       "      <td>“Joe Biden uses the ATF to illegally track your gun transactions.”</td>\n",
       "      <td>JD Vance</td>\n",
       "      <td>/factchecks/2022/feb/10/jd-vance/jd-vance-wrongly-says-atf-illegally-tracking-gun-s/</td>\n",
       "      <td>0</td>\n",
       "    </tr>\n",
       "    <tr>\n",
       "      <th>63</th>\n",
       "      <td>“The second booster has eight strains of HIV.”</td>\n",
       "      <td>Facebook posts</td>\n",
       "      <td>/factchecks/2022/feb/14/facebook-posts/covid-19-vaccines-do-not-contain-hiv/</td>\n",
       "      <td>0</td>\n",
       "    </tr>\n",
       "    <tr>\n",
       "      <th>74</th>\n",
       "      <td>Says Bob Saget predicted his death</td>\n",
       "      <td>Facebook posts</td>\n",
       "      <td>/factchecks/2022/feb/10/facebook-posts/no-bob-saget-didnt-predict-his-death/</td>\n",
       "      <td>0</td>\n",
       "    </tr>\n",
       "    <tr>\n",
       "      <th>86</th>\n",
       "      <td>Says C.S. Lewis wrote, “They believed blindly everything they heard or read in the papers. They gave up their freedoms.”</td>\n",
       "      <td>Facebook posts</td>\n",
       "      <td>/factchecks/2022/feb/10/facebook-posts/cs-lewis-didnt-write-pandemic-passage/</td>\n",
       "      <td>0</td>\n",
       "    </tr>\n",
       "    <tr>\n",
       "      <th>99</th>\n",
       "      <td>Arizona House bill to “decertify” 2020 results “could effectively recall the Biden electors.”</td>\n",
       "      <td>Bloggers</td>\n",
       "      <td>/factchecks/2022/feb/11/blog-posting/gop-lawmakers-proposal-decertify-arizona-election-/</td>\n",
       "      <td>0</td>\n",
       "    </tr>\n",
       "    <tr>\n",
       "      <th>110</th>\n",
       "      <td>Says remdesivir is responsible for killing patients hospitalized with COVID-19.</td>\n",
       "      <td>Nicole Sirotek</td>\n",
       "      <td>/factchecks/2022/feb/10/nicole-sirotek/no-hospitalized-covid-19-patients-werent-killed-re/</td>\n",
       "      <td>0</td>\n",
       "    </tr>\n",
       "  </tbody>\n",
       "</table>\n",
       "</div>"
      ],
      "text/plain": [
       "                                                                                                                                       statement  \\\n",
       "1                                A video shows that “OnlyFans has guys on campus encouraging your daughters to do porn for ‘financial freedom.’”   \n",
       "11   In England, “official data shows children are up to 52 times more likely to die following COVID-19 vaccination than unvaccinated children.”   \n",
       "24                                                                                                    “MSNBC announced Trump won 2020 election.”   \n",
       "37                                                          “New Jersey and Maryland produce more solar power than Florida, the Sunshine State!”   \n",
       "48                                                                            “Joe Biden uses the ATF to illegally track your gun transactions.”   \n",
       "63                                                                                                “The second booster has eight strains of HIV.”   \n",
       "74                                                                                                            Says Bob Saget predicted his death   \n",
       "86                      Says C.S. Lewis wrote, “They believed blindly everything they heard or read in the papers. They gave up their freedoms.”   \n",
       "99                                                 Arizona House bill to “decertify” 2020 results “could effectively recall the Biden electors.”   \n",
       "110                                                              Says remdesivir is responsible for killing patients hospitalized with COVID-19.   \n",
       "\n",
       "             source  \\\n",
       "1            Tweets   \n",
       "11         Bloggers   \n",
       "24   Facebook posts   \n",
       "37    Charlie Crist   \n",
       "48         JD Vance   \n",
       "63   Facebook posts   \n",
       "74   Facebook posts   \n",
       "86   Facebook posts   \n",
       "99         Bloggers   \n",
       "110  Nicole Sirotek   \n",
       "\n",
       "                                                                                           link  \\\n",
       "1            /factchecks/2022/feb/14/tweets/no-onlyfans-isnt-recruiting-adult-film-stars-colle/   \n",
       "11     /factchecks/2022/feb/11/blog-posting/no-covid-19-vaccine-not-increasing-child-mortality/   \n",
       "24   /factchecks/2022/feb/10/facebook-posts/no-msnbc-didnt-announce-donald-trump-won-2020-elec/   \n",
       "37    /factchecks/2022/feb/11/charlie-crist/florida-produces-more-solar-power-most-states-thou/   \n",
       "48         /factchecks/2022/feb/10/jd-vance/jd-vance-wrongly-says-atf-illegally-tracking-gun-s/   \n",
       "63                 /factchecks/2022/feb/14/facebook-posts/covid-19-vaccines-do-not-contain-hiv/   \n",
       "74                 /factchecks/2022/feb/10/facebook-posts/no-bob-saget-didnt-predict-his-death/   \n",
       "86                /factchecks/2022/feb/10/facebook-posts/cs-lewis-didnt-write-pandemic-passage/   \n",
       "99     /factchecks/2022/feb/11/blog-posting/gop-lawmakers-proposal-decertify-arizona-election-/   \n",
       "110  /factchecks/2022/feb/10/nicole-sirotek/no-hospitalized-covid-19-patients-werent-killed-re/   \n",
       "\n",
       "     veracity  \n",
       "1           0  \n",
       "11          0  \n",
       "24          0  \n",
       "37          1  \n",
       "48          0  \n",
       "63          0  \n",
       "74          0  \n",
       "86          0  \n",
       "99          0  \n",
       "110         0  "
      ]
     },
     "execution_count": 6,
     "metadata": {},
     "output_type": "execute_result"
    }
   ],
   "source": [
    "df[df.statement.str.match(r\"\\\"\")==False][0:100:10]"
   ]
  },
  {
   "cell_type": "code",
   "execution_count": 7,
   "id": "53558a77",
   "metadata": {},
   "outputs": [
    {
     "data": {
      "text/plain": [
       "Counter({True: 8591, False: 25921})"
      ]
     },
     "execution_count": 7,
     "metadata": {},
     "output_type": "execute_result"
    }
   ],
   "source": [
    "# Let's see how much data remains with this filtering method, i.e., how many are True\n",
    "Counter(df.statement.str.match(r\"\\\"\"))"
   ]
  },
  {
   "cell_type": "code",
   "execution_count": 9,
   "id": "ec8e4e65",
   "metadata": {},
   "outputs": [
    {
     "data": {
      "text/plain": [
       "Counter({True: 8591, False: 25921})"
      ]
     },
     "execution_count": 9,
     "metadata": {},
     "output_type": "execute_result"
    }
   ],
   "source": [
    "# verify above results using a different method\n",
    "Counter(df.statement.str.startswith('\"'))"
   ]
  },
  {
   "cell_type": "markdown",
   "id": "de1eda51",
   "metadata": {},
   "source": [
    "# Conclusion: 3415 rows survive"
   ]
  },
  {
   "cell_type": "code",
   "execution_count": 10,
   "id": "284332b1",
   "metadata": {},
   "outputs": [
    {
     "data": {
      "text/html": [
       "<div>\n",
       "<style scoped>\n",
       "    .dataframe tbody tr th:only-of-type {\n",
       "        vertical-align: middle;\n",
       "    }\n",
       "\n",
       "    .dataframe tbody tr th {\n",
       "        vertical-align: top;\n",
       "    }\n",
       "\n",
       "    .dataframe thead th {\n",
       "        text-align: right;\n",
       "    }\n",
       "</style>\n",
       "<table border=\"1\" class=\"dataframe\">\n",
       "  <thead>\n",
       "    <tr style=\"text-align: right;\">\n",
       "      <th></th>\n",
       "      <th>statement</th>\n",
       "      <th>source</th>\n",
       "      <th>link</th>\n",
       "      <th>veracity</th>\n",
       "    </tr>\n",
       "  </thead>\n",
       "  <tbody>\n",
       "    <tr>\n",
       "      <th>10</th>\n",
       "      <td>Says a Washington Post headline and graphic about COVID-19 deaths are misleading.</td>\n",
       "      <td>Facebook posts</td>\n",
       "      <td>/factchecks/2022/feb/11/facebook-posts/facebook-post-cries-foul-washington-post-headline-/</td>\n",
       "      <td>0</td>\n",
       "    </tr>\n",
       "    <tr>\n",
       "      <th>80</th>\n",
       "      <td>Says remdesivir is responsible for killing patients hospitalized with COVID-19.</td>\n",
       "      <td>Nicole Sirotek</td>\n",
       "      <td>/factchecks/2022/feb/10/nicole-sirotek/no-hospitalized-covid-19-patients-werent-killed-re/</td>\n",
       "      <td>0</td>\n",
       "    </tr>\n",
       "    <tr>\n",
       "      <th>160</th>\n",
       "      <td>Says a Washington Post headline and graphic about COVID-19 deaths are misleading.</td>\n",
       "      <td>Facebook posts</td>\n",
       "      <td>/factchecks/2022/feb/11/facebook-posts/facebook-post-cries-foul-washington-post-headline-/</td>\n",
       "      <td>0</td>\n",
       "    </tr>\n",
       "    <tr>\n",
       "      <th>230</th>\n",
       "      <td>Says remdesivir is responsible for killing patients hospitalized with COVID-19.</td>\n",
       "      <td>Nicole Sirotek</td>\n",
       "      <td>/factchecks/2022/feb/10/nicole-sirotek/no-hospitalized-covid-19-patients-werent-killed-re/</td>\n",
       "      <td>0</td>\n",
       "    </tr>\n",
       "    <tr>\n",
       "      <th>310</th>\n",
       "      <td>Says a Washington Post headline and graphic about COVID-19 deaths are misleading.</td>\n",
       "      <td>Facebook posts</td>\n",
       "      <td>/factchecks/2022/feb/11/facebook-posts/facebook-post-cries-foul-washington-post-headline-/</td>\n",
       "      <td>0</td>\n",
       "    </tr>\n",
       "    <tr>\n",
       "      <th>380</th>\n",
       "      <td>Says remdesivir is responsible for killing patients hospitalized with COVID-19.</td>\n",
       "      <td>Nicole Sirotek</td>\n",
       "      <td>/factchecks/2022/feb/10/nicole-sirotek/no-hospitalized-covid-19-patients-werent-killed-re/</td>\n",
       "      <td>0</td>\n",
       "    </tr>\n",
       "    <tr>\n",
       "      <th>460</th>\n",
       "      <td>Says a Washington Post headline and graphic about COVID-19 deaths are misleading.</td>\n",
       "      <td>Facebook posts</td>\n",
       "      <td>/factchecks/2022/feb/11/facebook-posts/facebook-post-cries-foul-washington-post-headline-/</td>\n",
       "      <td>0</td>\n",
       "    </tr>\n",
       "    <tr>\n",
       "      <th>530</th>\n",
       "      <td>Says remdesivir is responsible for killing patients hospitalized with COVID-19.</td>\n",
       "      <td>Nicole Sirotek</td>\n",
       "      <td>/factchecks/2022/feb/10/nicole-sirotek/no-hospitalized-covid-19-patients-werent-killed-re/</td>\n",
       "      <td>0</td>\n",
       "    </tr>\n",
       "    <tr>\n",
       "      <th>610</th>\n",
       "      <td>Says a Washington Post headline and graphic about COVID-19 deaths are misleading.</td>\n",
       "      <td>Facebook posts</td>\n",
       "      <td>/factchecks/2022/feb/11/facebook-posts/facebook-post-cries-foul-washington-post-headline-/</td>\n",
       "      <td>0</td>\n",
       "    </tr>\n",
       "    <tr>\n",
       "      <th>680</th>\n",
       "      <td>Says remdesivir is responsible for killing patients hospitalized with COVID-19.</td>\n",
       "      <td>Nicole Sirotek</td>\n",
       "      <td>/factchecks/2022/feb/10/nicole-sirotek/no-hospitalized-covid-19-patients-werent-killed-re/</td>\n",
       "      <td>0</td>\n",
       "    </tr>\n",
       "  </tbody>\n",
       "</table>\n",
       "</div>"
      ],
      "text/plain": [
       "                                                                             statement  \\\n",
       "10   Says a Washington Post headline and graphic about COVID-19 deaths are misleading.   \n",
       "80     Says remdesivir is responsible for killing patients hospitalized with COVID-19.   \n",
       "160  Says a Washington Post headline and graphic about COVID-19 deaths are misleading.   \n",
       "230    Says remdesivir is responsible for killing patients hospitalized with COVID-19.   \n",
       "310  Says a Washington Post headline and graphic about COVID-19 deaths are misleading.   \n",
       "380    Says remdesivir is responsible for killing patients hospitalized with COVID-19.   \n",
       "460  Says a Washington Post headline and graphic about COVID-19 deaths are misleading.   \n",
       "530    Says remdesivir is responsible for killing patients hospitalized with COVID-19.   \n",
       "610  Says a Washington Post headline and graphic about COVID-19 deaths are misleading.   \n",
       "680    Says remdesivir is responsible for killing patients hospitalized with COVID-19.   \n",
       "\n",
       "             source  \\\n",
       "10   Facebook posts   \n",
       "80   Nicole Sirotek   \n",
       "160  Facebook posts   \n",
       "230  Nicole Sirotek   \n",
       "310  Facebook posts   \n",
       "380  Nicole Sirotek   \n",
       "460  Facebook posts   \n",
       "530  Nicole Sirotek   \n",
       "610  Facebook posts   \n",
       "680  Nicole Sirotek   \n",
       "\n",
       "                                                                                           link  \\\n",
       "10   /factchecks/2022/feb/11/facebook-posts/facebook-post-cries-foul-washington-post-headline-/   \n",
       "80   /factchecks/2022/feb/10/nicole-sirotek/no-hospitalized-covid-19-patients-werent-killed-re/   \n",
       "160  /factchecks/2022/feb/11/facebook-posts/facebook-post-cries-foul-washington-post-headline-/   \n",
       "230  /factchecks/2022/feb/10/nicole-sirotek/no-hospitalized-covid-19-patients-werent-killed-re/   \n",
       "310  /factchecks/2022/feb/11/facebook-posts/facebook-post-cries-foul-washington-post-headline-/   \n",
       "380  /factchecks/2022/feb/10/nicole-sirotek/no-hospitalized-covid-19-patients-werent-killed-re/   \n",
       "460  /factchecks/2022/feb/11/facebook-posts/facebook-post-cries-foul-washington-post-headline-/   \n",
       "530  /factchecks/2022/feb/10/nicole-sirotek/no-hospitalized-covid-19-patients-werent-killed-re/   \n",
       "610  /factchecks/2022/feb/11/facebook-posts/facebook-post-cries-foul-washington-post-headline-/   \n",
       "680  /factchecks/2022/feb/10/nicole-sirotek/no-hospitalized-covid-19-patients-werent-killed-re/   \n",
       "\n",
       "     veracity  \n",
       "10          0  \n",
       "80          0  \n",
       "160         0  \n",
       "230         0  \n",
       "310         0  \n",
       "380         0  \n",
       "460         0  \n",
       "530         0  \n",
       "610         0  \n",
       "680         0  "
      ]
     },
     "execution_count": 10,
     "metadata": {},
     "output_type": "execute_result"
    }
   ],
   "source": [
    "df[df.statement.str.contains(r\"Says|Quotes|Say|Said|say|saying|said\")==True][0:100:10]"
   ]
  },
  {
   "cell_type": "code",
   "execution_count": 11,
   "id": "cc55fe6f",
   "metadata": {
    "scrolled": true
   },
   "outputs": [
    {
     "data": {
      "text/html": [
       "<div>\n",
       "<style scoped>\n",
       "    .dataframe tbody tr th:only-of-type {\n",
       "        vertical-align: middle;\n",
       "    }\n",
       "\n",
       "    .dataframe tbody tr th {\n",
       "        vertical-align: top;\n",
       "    }\n",
       "\n",
       "    .dataframe thead th {\n",
       "        text-align: right;\n",
       "    }\n",
       "</style>\n",
       "<table border=\"1\" class=\"dataframe\">\n",
       "  <thead>\n",
       "    <tr style=\"text-align: right;\">\n",
       "      <th></th>\n",
       "      <th>statement</th>\n",
       "      <th>source</th>\n",
       "      <th>link</th>\n",
       "      <th>veracity</th>\n",
       "    </tr>\n",
       "  </thead>\n",
       "  <tbody>\n",
       "    <tr>\n",
       "      <th>0</th>\n",
       "      <td>\"Books banned in Texas include 1984, Maus, and The Handmaid's Tale, but not Mein Kampf.\"</td>\n",
       "      <td>Tweets</td>\n",
       "      <td>/factchecks/2022/feb/14/tweets/those-titles-arent-banned-statewide-could-be-distr/</td>\n",
       "      <td>0</td>\n",
       "    </tr>\n",
       "    <tr>\n",
       "      <th>11</th>\n",
       "      <td>In England, “official data shows children are up to 52 times more likely to die following COVID-19 vaccination than unvaccinated children.”</td>\n",
       "      <td>Bloggers</td>\n",
       "      <td>/factchecks/2022/feb/11/blog-posting/no-covid-19-vaccine-not-increasing-child-mortality/</td>\n",
       "      <td>0</td>\n",
       "    </tr>\n",
       "    <tr>\n",
       "      <th>24</th>\n",
       "      <td>“MSNBC announced Trump won 2020 election.”</td>\n",
       "      <td>Facebook posts</td>\n",
       "      <td>/factchecks/2022/feb/10/facebook-posts/no-msnbc-didnt-announce-donald-trump-won-2020-elec/</td>\n",
       "      <td>0</td>\n",
       "    </tr>\n",
       "    <tr>\n",
       "      <th>36</th>\n",
       "      <td>COVID spelled backward is “divoc” which means \"possession of the evil spirit\" in Hebrew.</td>\n",
       "      <td>Facebook posts</td>\n",
       "      <td>/factchecks/2022/feb/11/facebook-posts/covid-spelled-backward-divoc-which-means-possessio/</td>\n",
       "      <td>0</td>\n",
       "    </tr>\n",
       "    <tr>\n",
       "      <th>48</th>\n",
       "      <td>“Joe Biden uses the ATF to illegally track your gun transactions.”</td>\n",
       "      <td>JD Vance</td>\n",
       "      <td>/factchecks/2022/feb/10/jd-vance/jd-vance-wrongly-says-atf-illegally-tracking-gun-s/</td>\n",
       "      <td>0</td>\n",
       "    </tr>\n",
       "    <tr>\n",
       "      <th>62</th>\n",
       "      <td>“Nevada ranks 50th in election integrity ratings.”</td>\n",
       "      <td>Jesse Haw</td>\n",
       "      <td>/factchecks/2022/feb/14/jesse-haw/fact-checking-claim-nevada-ranks-close-last-electi/</td>\n",
       "      <td>1</td>\n",
       "    </tr>\n",
       "    <tr>\n",
       "      <th>73</th>\n",
       "      <td>\"The use of ballot drop boxes and ballot harvesting is illegal.”</td>\n",
       "      <td>Kevin Nicholson</td>\n",
       "      <td>/factchecks/2022/feb/11/kevin-nicholson/wisconsin-gop-gubernatorial-candidate-kevin-nichol/</td>\n",
       "      <td>1</td>\n",
       "    </tr>\n",
       "    <tr>\n",
       "      <th>87</th>\n",
       "      <td>\"Biden and most Democrats want to cap insulin prices at $35 per month. All 50 Republicans in the Senate are opposed to it.”</td>\n",
       "      <td>Facebook posts</td>\n",
       "      <td>/factchecks/2022/feb/10/facebook-posts/republicans-opposed-build-back-better-whole-not-ne/</td>\n",
       "      <td>1</td>\n",
       "    </tr>\n",
       "    <tr>\n",
       "      <th>98</th>\n",
       "      <td>“We all know China created COVID.”</td>\n",
       "      <td>Dave McCormick</td>\n",
       "      <td>/factchecks/2022/feb/11/dave-mccormick/response-dr-oz-no-evidence-senate-hopeful-mccormic/</td>\n",
       "      <td>0</td>\n",
       "    </tr>\n",
       "    <tr>\n",
       "      <th>111</th>\n",
       "      <td>The Biden administration “is spending $30 million on crack pipes.”</td>\n",
       "      <td>Sean Spicer</td>\n",
       "      <td>/factchecks/2022/feb/10/sean-spicer/no-white-house-isnt-spending-30-million-crack-pipe/</td>\n",
       "      <td>1</td>\n",
       "    </tr>\n",
       "  </tbody>\n",
       "</table>\n",
       "</div>"
      ],
      "text/plain": [
       "                                                                                                                                       statement  \\\n",
       "0                                                       \"Books banned in Texas include 1984, Maus, and The Handmaid's Tale, but not Mein Kampf.\"   \n",
       "11   In England, “official data shows children are up to 52 times more likely to die following COVID-19 vaccination than unvaccinated children.”   \n",
       "24                                                                                                    “MSNBC announced Trump won 2020 election.”   \n",
       "36                                                      COVID spelled backward is “divoc” which means \"possession of the evil spirit\" in Hebrew.   \n",
       "48                                                                            “Joe Biden uses the ATF to illegally track your gun transactions.”   \n",
       "62                                                                                            “Nevada ranks 50th in election integrity ratings.”   \n",
       "73                                                                              \"The use of ballot drop boxes and ballot harvesting is illegal.”   \n",
       "87                   \"Biden and most Democrats want to cap insulin prices at $35 per month. All 50 Republicans in the Senate are opposed to it.”   \n",
       "98                                                                                                            “We all know China created COVID.”   \n",
       "111                                                                           The Biden administration “is spending $30 million on crack pipes.”   \n",
       "\n",
       "              source  \\\n",
       "0             Tweets   \n",
       "11          Bloggers   \n",
       "24    Facebook posts   \n",
       "36    Facebook posts   \n",
       "48          JD Vance   \n",
       "62         Jesse Haw   \n",
       "73   Kevin Nicholson   \n",
       "87    Facebook posts   \n",
       "98    Dave McCormick   \n",
       "111      Sean Spicer   \n",
       "\n",
       "                                                                                            link  \\\n",
       "0             /factchecks/2022/feb/14/tweets/those-titles-arent-banned-statewide-could-be-distr/   \n",
       "11      /factchecks/2022/feb/11/blog-posting/no-covid-19-vaccine-not-increasing-child-mortality/   \n",
       "24    /factchecks/2022/feb/10/facebook-posts/no-msnbc-didnt-announce-donald-trump-won-2020-elec/   \n",
       "36    /factchecks/2022/feb/11/facebook-posts/covid-spelled-backward-divoc-which-means-possessio/   \n",
       "48          /factchecks/2022/feb/10/jd-vance/jd-vance-wrongly-says-atf-illegally-tracking-gun-s/   \n",
       "62         /factchecks/2022/feb/14/jesse-haw/fact-checking-claim-nevada-ranks-close-last-electi/   \n",
       "73   /factchecks/2022/feb/11/kevin-nicholson/wisconsin-gop-gubernatorial-candidate-kevin-nichol/   \n",
       "87    /factchecks/2022/feb/10/facebook-posts/republicans-opposed-build-back-better-whole-not-ne/   \n",
       "98    /factchecks/2022/feb/11/dave-mccormick/response-dr-oz-no-evidence-senate-hopeful-mccormic/   \n",
       "111      /factchecks/2022/feb/10/sean-spicer/no-white-house-isnt-spending-30-million-crack-pipe/   \n",
       "\n",
       "     veracity  \n",
       "0           0  \n",
       "11          0  \n",
       "24          0  \n",
       "36          0  \n",
       "48          0  \n",
       "62          1  \n",
       "73          1  \n",
       "87          1  \n",
       "98          0  \n",
       "111         1  "
      ]
     },
     "execution_count": 11,
     "metadata": {},
     "output_type": "execute_result"
    }
   ],
   "source": [
    "df[df.statement.str.contains(r\"Says|Quotes|Say|Said|say|saying|said\")==False][0:100:10]"
   ]
  },
  {
   "cell_type": "code",
   "execution_count": 12,
   "id": "2c1a1612",
   "metadata": {},
   "outputs": [
    {
     "data": {
      "text/plain": [
       "Counter({False: 28208, True: 6304})"
      ]
     },
     "execution_count": 12,
     "metadata": {},
     "output_type": "execute_result"
    }
   ],
   "source": [
    "Counter(df.statement.str.contains(r\"Says|Quotes|Say|Said|say|saying|said\"))"
   ]
  },
  {
   "cell_type": "markdown",
   "id": "c071d10e",
   "metadata": {},
   "source": [
    "# We'll use a begins-with-and-ends-with-quotations filter going forward\n"
   ]
  },
  {
   "cell_type": "code",
   "execution_count": 13,
   "id": "a7544f31",
   "metadata": {},
   "outputs": [
    {
     "name": "stdout",
     "output_type": "stream",
     "text": [
      "<class 'pandas.core.frame.DataFrame'>\n",
      "Int64Index: 8591 entries, 0 to 11187\n",
      "Data columns (total 4 columns):\n",
      " #   Column     Non-Null Count  Dtype \n",
      "---  ------     --------------  ----- \n",
      " 0   statement  8591 non-null   object\n",
      " 1   source     8591 non-null   object\n",
      " 2   link       8591 non-null   object\n",
      " 3   veracity   8591 non-null   int64 \n",
      "dtypes: int64(1), object(3)\n",
      "memory usage: 335.6+ KB\n"
     ]
    }
   ],
   "source": [
    "quote_df = df[df.statement.str.match(r'\\\"')==True]\n",
    "quote_df.info()"
   ]
  },
  {
   "cell_type": "code",
   "execution_count": 14,
   "id": "54a02f79",
   "metadata": {},
   "outputs": [
    {
     "name": "stdout",
     "output_type": "stream",
     "text": [
      "<class 'pandas.core.frame.DataFrame'>\n",
      "Int64Index: 6555 entries, 0 to 11187\n",
      "Data columns (total 4 columns):\n",
      " #   Column     Non-Null Count  Dtype \n",
      "---  ------     --------------  ----- \n",
      " 0   statement  6555 non-null   object\n",
      " 1   source     6555 non-null   object\n",
      " 2   link       6555 non-null   object\n",
      " 3   veracity   6555 non-null   int64 \n",
      "dtypes: int64(1), object(3)\n",
      "memory usage: 256.1+ KB\n"
     ]
    }
   ],
   "source": [
    "# remove sentences that don't end with a quotation\n",
    "quote_df = quote_df[quote_df.statement.str.endswith('\"')==True]\n",
    "quote_df.info()"
   ]
  },
  {
   "cell_type": "code",
   "execution_count": 15,
   "id": "ff25c26e",
   "metadata": {},
   "outputs": [
    {
     "name": "stdout",
     "output_type": "stream",
     "text": [
      "<class 'pandas.core.frame.DataFrame'>\n",
      "Int64Index: 6395 entries, 0 to 11187\n",
      "Data columns (total 4 columns):\n",
      " #   Column     Non-Null Count  Dtype \n",
      "---  ------     --------------  ----- \n",
      " 0   statement  6395 non-null   object\n",
      " 1   source     6395 non-null   object\n",
      " 2   link       6395 non-null   object\n",
      " 3   veracity   6395 non-null   int64 \n",
      "dtypes: int64(1), object(3)\n",
      "memory usage: 249.8+ KB\n"
     ]
    }
   ],
   "source": [
    "# remove sentences that are several quotes strung together\n",
    "quote_df = quote_df[quote_df.statement.str.contains(r'\\\"{1}.+\\\"{1}.+\\\"{1}')==False]\n",
    "quote_df.info()"
   ]
  },
  {
   "cell_type": "code",
   "execution_count": 16,
   "id": "56d9547a",
   "metadata": {},
   "outputs": [
    {
     "data": {
      "text/plain": [
       "0    4098\n",
       "1    2297\n",
       "Name: veracity, dtype: int64"
      ]
     },
     "execution_count": 16,
     "metadata": {},
     "output_type": "execute_result"
    }
   ],
   "source": [
    "quote_df.veracity.value_counts()"
   ]
  },
  {
   "cell_type": "markdown",
   "id": "0a6b4ea8",
   "metadata": {},
   "source": [
    "\n",
    "quote_df.describe(include='all')"
   ]
  },
  {
   "cell_type": "code",
   "execution_count": 18,
   "id": "b366fe6d",
   "metadata": {},
   "outputs": [
    {
     "data": {
      "text/plain": [
       "Tweets             837\n",
       "Troy Nehls         833\n",
       "Barack Obama       229\n",
       "Donald Trump       196\n",
       "Hillary Clinton    122\n",
       "Bloggers           119\n",
       "John McCain         81\n",
       "Mitt Romney         70\n",
       "Rick Scott          62\n",
       "Marco Rubio         58\n",
       "Name: source, dtype: int64"
      ]
     },
     "execution_count": 18,
     "metadata": {},
     "output_type": "execute_result"
    }
   ],
   "source": [
    "# top 10 sources\n",
    "quote_df.source.value_counts()[:10]"
   ]
  },
  {
   "cell_type": "markdown",
   "id": "054d55ab",
   "metadata": {},
   "source": [
    "There is an imbalance in the sources (some appear far too often)# There is an imbalance in the sources (some appear far too often)"
   ]
  },
  {
   "cell_type": "markdown",
   "id": "52cfb7a8",
   "metadata": {},
   "source": [
    "# By examining the source frequency's mean and median, we can determine how many times most sources are quoted to figure out a way to balance the data"
   ]
  },
  {
   "cell_type": "code",
   "execution_count": 19,
   "id": "35b8825c",
   "metadata": {},
   "outputs": [
    {
     "data": {
      "text/plain": [
       "3.724519510774607"
      ]
     },
     "execution_count": 19,
     "metadata": {},
     "output_type": "execute_result"
    }
   ],
   "source": [
    "quote_df.source.value_counts().mean()"
   ]
  },
  {
   "cell_type": "code",
   "execution_count": 20,
   "id": "7439a948",
   "metadata": {},
   "outputs": [
    {
     "data": {
      "text/plain": [
       "1.0"
      ]
     },
     "execution_count": 20,
     "metadata": {},
     "output_type": "execute_result"
    }
   ],
   "source": [
    "quote_df.source.value_counts().median()"
   ]
  },
  {
   "cell_type": "code",
   "execution_count": 21,
   "id": "16083f26",
   "metadata": {},
   "outputs": [
    {
     "data": {
      "text/plain": [
       "1568"
      ]
     },
     "execution_count": 21,
     "metadata": {},
     "output_type": "execute_result"
    }
   ],
   "source": [
    "sum(quote_df.source.value_counts() <= 4)"
   ]
  },
  {
   "cell_type": "code",
   "execution_count": 22,
   "id": "dc13d565",
   "metadata": {},
   "outputs": [],
   "source": [
    "quote_df['freq'] = quote_df.groupby('source')['source'].transform('count')"
   ]
  },
  {
   "cell_type": "code",
   "execution_count": 24,
   "id": "fbac28c5",
   "metadata": {
    "scrolled": true
   },
   "outputs": [
    {
     "name": "stdout",
     "output_type": "stream",
     "text": [
      "<class 'pandas.core.frame.DataFrame'>\n",
      "Int64Index: 2165 entries, 3 to 11183\n",
      "Data columns (total 5 columns):\n",
      " #   Column     Non-Null Count  Dtype \n",
      "---  ------     --------------  ----- \n",
      " 0   statement  2165 non-null   object\n",
      " 1   source     2165 non-null   object\n",
      " 2   link       2165 non-null   object\n",
      " 3   veracity   2165 non-null   int64 \n",
      " 4   freq       2165 non-null   int64 \n",
      "dtypes: int64(2), object(3)\n",
      "memory usage: 101.5+ KB\n"
     ]
    }
   ],
   "source": [
    "quote_df[quote_df.freq <= 4].info()"
   ]
  },
  {
   "cell_type": "markdown",
   "id": "f0817d0c",
   "metadata": {},
   "source": [
    "# New dataframe will only tolerate a single source appearing 4 times"
   ]
  },
  {
   "cell_type": "code",
   "execution_count": 26,
   "id": "5c5f1fe7",
   "metadata": {},
   "outputs": [],
   "source": [
    "balanced_df = quote_df[quote_df.freq <= 4]"
   ]
  },
  {
   "cell_type": "code",
   "execution_count": 27,
   "id": "3f76c510",
   "metadata": {},
   "outputs": [
    {
     "data": {
      "text/html": [
       "<div>\n",
       "<style scoped>\n",
       "    .dataframe tbody tr th:only-of-type {\n",
       "        vertical-align: middle;\n",
       "    }\n",
       "\n",
       "    .dataframe tbody tr th {\n",
       "        vertical-align: top;\n",
       "    }\n",
       "\n",
       "    .dataframe thead th {\n",
       "        text-align: right;\n",
       "    }\n",
       "</style>\n",
       "<table border=\"1\" class=\"dataframe\">\n",
       "  <thead>\n",
       "    <tr style=\"text-align: right;\">\n",
       "      <th></th>\n",
       "      <th>statement</th>\n",
       "      <th>source</th>\n",
       "      <th>link</th>\n",
       "      <th>veracity</th>\n",
       "      <th>freq</th>\n",
       "    </tr>\n",
       "  </thead>\n",
       "  <tbody>\n",
       "    <tr>\n",
       "      <th>count</th>\n",
       "      <td>2165</td>\n",
       "      <td>2165</td>\n",
       "      <td>2165</td>\n",
       "      <td>2165.000000</td>\n",
       "      <td>2165.000000</td>\n",
       "    </tr>\n",
       "    <tr>\n",
       "      <th>unique</th>\n",
       "      <td>2161</td>\n",
       "      <td>1568</td>\n",
       "      <td>2165</td>\n",
       "      <td>NaN</td>\n",
       "      <td>NaN</td>\n",
       "    </tr>\n",
       "    <tr>\n",
       "      <th>top</th>\n",
       "      <td>\"Tim Kaine doesn’t want a border at all. He wants to get rid of Immigration and Customs Enforcement and basically the border patrol as well.\"</td>\n",
       "      <td>Republican Governors Association</td>\n",
       "      <td>/web/20180705082623/https://www.politifact.com/truth-o-meter/statements/2018/jul/03/corey-stewart/corey-stewart-falsely-claims-sen-tim-kaine-wants-d/</td>\n",
       "      <td>NaN</td>\n",
       "      <td>NaN</td>\n",
       "    </tr>\n",
       "    <tr>\n",
       "      <th>freq</th>\n",
       "      <td>2</td>\n",
       "      <td>4</td>\n",
       "      <td>1</td>\n",
       "      <td>NaN</td>\n",
       "      <td>NaN</td>\n",
       "    </tr>\n",
       "    <tr>\n",
       "      <th>mean</th>\n",
       "      <td>NaN</td>\n",
       "      <td>NaN</td>\n",
       "      <td>NaN</td>\n",
       "      <td>0.494226</td>\n",
       "      <td>1.787067</td>\n",
       "    </tr>\n",
       "    <tr>\n",
       "      <th>std</th>\n",
       "      <td>NaN</td>\n",
       "      <td>NaN</td>\n",
       "      <td>NaN</td>\n",
       "      <td>0.500082</td>\n",
       "      <td>1.010764</td>\n",
       "    </tr>\n",
       "    <tr>\n",
       "      <th>min</th>\n",
       "      <td>NaN</td>\n",
       "      <td>NaN</td>\n",
       "      <td>NaN</td>\n",
       "      <td>0.000000</td>\n",
       "      <td>1.000000</td>\n",
       "    </tr>\n",
       "    <tr>\n",
       "      <th>25%</th>\n",
       "      <td>NaN</td>\n",
       "      <td>NaN</td>\n",
       "      <td>NaN</td>\n",
       "      <td>0.000000</td>\n",
       "      <td>1.000000</td>\n",
       "    </tr>\n",
       "    <tr>\n",
       "      <th>50%</th>\n",
       "      <td>NaN</td>\n",
       "      <td>NaN</td>\n",
       "      <td>NaN</td>\n",
       "      <td>0.000000</td>\n",
       "      <td>1.000000</td>\n",
       "    </tr>\n",
       "    <tr>\n",
       "      <th>75%</th>\n",
       "      <td>NaN</td>\n",
       "      <td>NaN</td>\n",
       "      <td>NaN</td>\n",
       "      <td>1.000000</td>\n",
       "      <td>2.000000</td>\n",
       "    </tr>\n",
       "    <tr>\n",
       "      <th>max</th>\n",
       "      <td>NaN</td>\n",
       "      <td>NaN</td>\n",
       "      <td>NaN</td>\n",
       "      <td>1.000000</td>\n",
       "      <td>4.000000</td>\n",
       "    </tr>\n",
       "  </tbody>\n",
       "</table>\n",
       "</div>"
      ],
      "text/plain": [
       "                                                                                                                                            statement  \\\n",
       "count                                                                                                                                            2165   \n",
       "unique                                                                                                                                           2161   \n",
       "top     \"Tim Kaine doesn’t want a border at all. He wants to get rid of Immigration and Customs Enforcement and basically the border patrol as well.\"   \n",
       "freq                                                                                                                                                2   \n",
       "mean                                                                                                                                              NaN   \n",
       "std                                                                                                                                               NaN   \n",
       "min                                                                                                                                               NaN   \n",
       "25%                                                                                                                                               NaN   \n",
       "50%                                                                                                                                               NaN   \n",
       "75%                                                                                                                                               NaN   \n",
       "max                                                                                                                                               NaN   \n",
       "\n",
       "                                  source  \\\n",
       "count                               2165   \n",
       "unique                              1568   \n",
       "top     Republican Governors Association   \n",
       "freq                                   4   \n",
       "mean                                 NaN   \n",
       "std                                  NaN   \n",
       "min                                  NaN   \n",
       "25%                                  NaN   \n",
       "50%                                  NaN   \n",
       "75%                                  NaN   \n",
       "max                                  NaN   \n",
       "\n",
       "                                                                                                                                                         link  \\\n",
       "count                                                                                                                                                    2165   \n",
       "unique                                                                                                                                                   2165   \n",
       "top     /web/20180705082623/https://www.politifact.com/truth-o-meter/statements/2018/jul/03/corey-stewart/corey-stewart-falsely-claims-sen-tim-kaine-wants-d/   \n",
       "freq                                                                                                                                                        1   \n",
       "mean                                                                                                                                                      NaN   \n",
       "std                                                                                                                                                       NaN   \n",
       "min                                                                                                                                                       NaN   \n",
       "25%                                                                                                                                                       NaN   \n",
       "50%                                                                                                                                                       NaN   \n",
       "75%                                                                                                                                                       NaN   \n",
       "max                                                                                                                                                       NaN   \n",
       "\n",
       "           veracity         freq  \n",
       "count   2165.000000  2165.000000  \n",
       "unique          NaN          NaN  \n",
       "top             NaN          NaN  \n",
       "freq            NaN          NaN  \n",
       "mean       0.494226     1.787067  \n",
       "std        0.500082     1.010764  \n",
       "min        0.000000     1.000000  \n",
       "25%        0.000000     1.000000  \n",
       "50%        0.000000     1.000000  \n",
       "75%        1.000000     2.000000  \n",
       "max        1.000000     4.000000  "
      ]
     },
     "execution_count": 27,
     "metadata": {},
     "output_type": "execute_result"
    }
   ],
   "source": [
    "# how many unique sources?\n",
    "balanced_df.describe(include='all')"
   ]
  },
  {
   "cell_type": "code",
   "execution_count": 28,
   "id": "763f0d8f",
   "metadata": {},
   "outputs": [
    {
     "data": {
      "text/plain": [
       "0    1095\n",
       "1    1070\n",
       "Name: veracity, dtype: int64"
      ]
     },
     "execution_count": 28,
     "metadata": {},
     "output_type": "execute_result"
    }
   ],
   "source": [
    "balanced_df.veracity.value_counts()"
   ]
  },
  {
   "cell_type": "code",
   "execution_count": 29,
   "id": "7bf1e62e",
   "metadata": {},
   "outputs": [
    {
     "data": {
      "text/plain": [
       "Republican Governors Association    4\n",
       "Adam Hasner                         4\n",
       "Joseph Kyrillos                     4\n",
       "Betty Sutton                        4\n",
       "Lamar Alexander                     4\n",
       "Mark Warner                         4\n",
       "Hank Johnson                        4\n",
       "Adam Putnam                         4\n",
       "Catherine Hanaway                   4\n",
       "Kamala Harris                       4\n",
       "Name: source, dtype: int64"
      ]
     },
     "execution_count": 29,
     "metadata": {},
     "output_type": "execute_result"
    }
   ],
   "source": [
    "# top 10 sources\n",
    "balanced_df.source.value_counts()[:10]"
   ]
  },
  {
   "cell_type": "markdown",
   "id": "0743b153",
   "metadata": {},
   "source": [
    "# 2165 balanced rows survived"
   ]
  },
  {
   "cell_type": "code",
   "execution_count": 30,
   "id": "b8e57f4f",
   "metadata": {},
   "outputs": [],
   "source": [
    "balanced_df.to_csv('politifact_balanced_data.csv')"
   ]
  },
  {
   "cell_type": "code",
   "execution_count": null,
   "id": "13aabe6f",
   "metadata": {},
   "outputs": [],
   "source": []
  }
 ],
 "metadata": {
  "kernelspec": {
   "display_name": "Python 3 (ipykernel)",
   "language": "python",
   "name": "python3"
  },
  "language_info": {
   "codemirror_mode": {
    "name": "ipython",
    "version": 3
   },
   "file_extension": ".py",
   "mimetype": "text/x-python",
   "name": "python",
   "nbconvert_exporter": "python",
   "pygments_lexer": "ipython3",
   "version": "3.9.7"
  }
 },
 "nbformat": 4,
 "nbformat_minor": 5
}
