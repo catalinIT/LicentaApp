{
 "cells": [
  {
   "cell_type": "code",
   "execution_count": 4,
   "id": "f652df08",
   "metadata": {
    "scrolled": true
   },
   "outputs": [],
   "source": [
    "import pandas as pd\n",
    "\n",
    "path = r\"C:\\Users\\catat\\OpenDeception\\OpenDeception\\7Truth7LiesDataset.csv\"\n",
    "df = pd.read_csv(path,  on_bad_lines='skip')"
   ]
  },
  {
   "cell_type": "code",
   "execution_count": 5,
   "id": "2aeb00e0",
   "metadata": {},
   "outputs": [
    {
     "data": {
      "text/html": [
       "<div>\n",
       "<style scoped>\n",
       "    .dataframe tbody tr th:only-of-type {\n",
       "        vertical-align: middle;\n",
       "    }\n",
       "\n",
       "    .dataframe tbody tr th {\n",
       "        vertical-align: top;\n",
       "    }\n",
       "\n",
       "    .dataframe thead th {\n",
       "        text-align: right;\n",
       "    }\n",
       "</style>\n",
       "<table border=\"1\" class=\"dataframe\">\n",
       "  <thead>\n",
       "    <tr style=\"text-align: right;\">\n",
       "      <th></th>\n",
       "      <th>id</th>\n",
       "      <th>_gender</th>\n",
       "      <th>age</th>\n",
       "      <th>education</th>\n",
       "      <th>country</th>\n",
       "      <th>text</th>\n",
       "      <th>class</th>\n",
       "    </tr>\n",
       "  </thead>\n",
       "  <tbody>\n",
       "    <tr>\n",
       "      <th>0</th>\n",
       "      <td>1_f_l_1</td>\n",
       "      <td>Female</td>\n",
       "      <td>26</td>\n",
       "      <td>'Bachelors degree'</td>\n",
       "      <td>Canada</td>\n",
       "      <td>'There is a great deal of truth to the anti-va...</td>\n",
       "      <td>lie</td>\n",
       "    </tr>\n",
       "    <tr>\n",
       "      <th>1</th>\n",
       "      <td>1_f_l_2</td>\n",
       "      <td>Female</td>\n",
       "      <td>26</td>\n",
       "      <td>'Bachelors degree'</td>\n",
       "      <td>Canada</td>\n",
       "      <td>'Jenny mccarthy is a learned doctor who deserv...</td>\n",
       "      <td>lie</td>\n",
       "    </tr>\n",
       "    <tr>\n",
       "      <th>2</th>\n",
       "      <td>1_f_l_3</td>\n",
       "      <td>Female</td>\n",
       "      <td>26</td>\n",
       "      <td>'Bachelors degree'</td>\n",
       "      <td>Canada</td>\n",
       "      <td>'Driving doesn\\'t really require any practice.'</td>\n",
       "      <td>lie</td>\n",
       "    </tr>\n",
       "    <tr>\n",
       "      <th>3</th>\n",
       "      <td>1_f_l_4</td>\n",
       "      <td>Female</td>\n",
       "      <td>26</td>\n",
       "      <td>'Bachelors degree'</td>\n",
       "      <td>Canada</td>\n",
       "      <td>'Drinking and driving is a winning and safe co...</td>\n",
       "      <td>lie</td>\n",
       "    </tr>\n",
       "    <tr>\n",
       "      <th>4</th>\n",
       "      <td>1_f_l_5</td>\n",
       "      <td>Female</td>\n",
       "      <td>26</td>\n",
       "      <td>'Bachelors degree'</td>\n",
       "      <td>Canada</td>\n",
       "      <td>'Good hygiene isn\\'t really important or attra...</td>\n",
       "      <td>lie</td>\n",
       "    </tr>\n",
       "  </tbody>\n",
       "</table>\n",
       "</div>"
      ],
      "text/plain": [
       "        id _gender  age           education country  \\\n",
       "0  1_f_l_1  Female   26  'Bachelors degree'  Canada   \n",
       "1  1_f_l_2  Female   26  'Bachelors degree'  Canada   \n",
       "2  1_f_l_3  Female   26  'Bachelors degree'  Canada   \n",
       "3  1_f_l_4  Female   26  'Bachelors degree'  Canada   \n",
       "4  1_f_l_5  Female   26  'Bachelors degree'  Canada   \n",
       "\n",
       "                                                text class  \n",
       "0  'There is a great deal of truth to the anti-va...   lie  \n",
       "1  'Jenny mccarthy is a learned doctor who deserv...   lie  \n",
       "2    'Driving doesn\\'t really require any practice.'   lie  \n",
       "3  'Drinking and driving is a winning and safe co...   lie  \n",
       "4  'Good hygiene isn\\'t really important or attra...   lie  "
      ]
     },
     "execution_count": 5,
     "metadata": {},
     "output_type": "execute_result"
    }
   ],
   "source": [
    "df.head()"
   ]
  },
  {
   "cell_type": "code",
   "execution_count": 6,
   "id": "b8f470d1",
   "metadata": {},
   "outputs": [
    {
     "name": "stdout",
     "output_type": "stream",
     "text": [
      "<class 'pandas.core.frame.DataFrame'>\n",
      "RangeIndex: 3945 entries, 0 to 3944\n",
      "Data columns (total 7 columns):\n",
      " #   Column     Non-Null Count  Dtype \n",
      "---  ------     --------------  ----- \n",
      " 0   id         3945 non-null   object\n",
      " 1   _gender    3945 non-null   object\n",
      " 2   age        3945 non-null   int64 \n",
      " 3   education  3945 non-null   object\n",
      " 4   country    3945 non-null   object\n",
      " 5   text       3945 non-null   object\n",
      " 6   class      3945 non-null   object\n",
      "dtypes: int64(1), object(6)\n",
      "memory usage: 215.9+ KB\n"
     ]
    }
   ],
   "source": [
    "df.info()"
   ]
  },
  {
   "cell_type": "code",
   "execution_count": 7,
   "id": "1e56f176",
   "metadata": {},
   "outputs": [],
   "source": [
    "# drop the unnecessary columns\n",
    "df_relevant = df[['text', 'class']]"
   ]
  },
  {
   "cell_type": "code",
   "execution_count": 8,
   "id": "54dc5bc1",
   "metadata": {},
   "outputs": [
    {
     "data": {
      "text/html": [
       "<div>\n",
       "<style scoped>\n",
       "    .dataframe tbody tr th:only-of-type {\n",
       "        vertical-align: middle;\n",
       "    }\n",
       "\n",
       "    .dataframe tbody tr th {\n",
       "        vertical-align: top;\n",
       "    }\n",
       "\n",
       "    .dataframe thead th {\n",
       "        text-align: right;\n",
       "    }\n",
       "</style>\n",
       "<table border=\"1\" class=\"dataframe\">\n",
       "  <thead>\n",
       "    <tr style=\"text-align: right;\">\n",
       "      <th></th>\n",
       "      <th>text</th>\n",
       "      <th>class</th>\n",
       "    </tr>\n",
       "  </thead>\n",
       "  <tbody>\n",
       "    <tr>\n",
       "      <th>0</th>\n",
       "      <td>'There is a great deal of truth to the anti-va...</td>\n",
       "      <td>lie</td>\n",
       "    </tr>\n",
       "    <tr>\n",
       "      <th>1</th>\n",
       "      <td>'Jenny mccarthy is a learned doctor who deserv...</td>\n",
       "      <td>lie</td>\n",
       "    </tr>\n",
       "    <tr>\n",
       "      <th>2</th>\n",
       "      <td>'Driving doesn\\'t really require any practice.'</td>\n",
       "      <td>lie</td>\n",
       "    </tr>\n",
       "    <tr>\n",
       "      <th>3</th>\n",
       "      <td>'Drinking and driving is a winning and safe co...</td>\n",
       "      <td>lie</td>\n",
       "    </tr>\n",
       "    <tr>\n",
       "      <th>4</th>\n",
       "      <td>'Good hygiene isn\\'t really important or attra...</td>\n",
       "      <td>lie</td>\n",
       "    </tr>\n",
       "  </tbody>\n",
       "</table>\n",
       "</div>"
      ],
      "text/plain": [
       "                                                text class\n",
       "0  'There is a great deal of truth to the anti-va...   lie\n",
       "1  'Jenny mccarthy is a learned doctor who deserv...   lie\n",
       "2    'Driving doesn\\'t really require any practice.'   lie\n",
       "3  'Drinking and driving is a winning and safe co...   lie\n",
       "4  'Good hygiene isn\\'t really important or attra...   lie"
      ]
     },
     "execution_count": 8,
     "metadata": {},
     "output_type": "execute_result"
    }
   ],
   "source": [
    "df_relevant.head()"
   ]
  },
  {
   "cell_type": "code",
   "execution_count": 9,
   "id": "4b8bc85f",
   "metadata": {},
   "outputs": [],
   "source": [
    "#rename the class column \n",
    "df_relevant = df_relevant.rename(columns = {'text': 'statement', 'class': 'veracity'})"
   ]
  },
  {
   "cell_type": "code",
   "execution_count": 10,
   "id": "c2f30dd7",
   "metadata": {
    "scrolled": true
   },
   "outputs": [
    {
     "data": {
      "text/html": [
       "<div>\n",
       "<style scoped>\n",
       "    .dataframe tbody tr th:only-of-type {\n",
       "        vertical-align: middle;\n",
       "    }\n",
       "\n",
       "    .dataframe tbody tr th {\n",
       "        vertical-align: top;\n",
       "    }\n",
       "\n",
       "    .dataframe thead th {\n",
       "        text-align: right;\n",
       "    }\n",
       "</style>\n",
       "<table border=\"1\" class=\"dataframe\">\n",
       "  <thead>\n",
       "    <tr style=\"text-align: right;\">\n",
       "      <th></th>\n",
       "      <th>statement</th>\n",
       "      <th>veracity</th>\n",
       "    </tr>\n",
       "  </thead>\n",
       "  <tbody>\n",
       "    <tr>\n",
       "      <th>0</th>\n",
       "      <td>'There is a great deal of truth to the anti-va...</td>\n",
       "      <td>lie</td>\n",
       "    </tr>\n",
       "    <tr>\n",
       "      <th>1</th>\n",
       "      <td>'Jenny mccarthy is a learned doctor who deserv...</td>\n",
       "      <td>lie</td>\n",
       "    </tr>\n",
       "    <tr>\n",
       "      <th>2</th>\n",
       "      <td>'Driving doesn\\'t really require any practice.'</td>\n",
       "      <td>lie</td>\n",
       "    </tr>\n",
       "    <tr>\n",
       "      <th>3</th>\n",
       "      <td>'Drinking and driving is a winning and safe co...</td>\n",
       "      <td>lie</td>\n",
       "    </tr>\n",
       "    <tr>\n",
       "      <th>4</th>\n",
       "      <td>'Good hygiene isn\\'t really important or attra...</td>\n",
       "      <td>lie</td>\n",
       "    </tr>\n",
       "  </tbody>\n",
       "</table>\n",
       "</div>"
      ],
      "text/plain": [
       "                                           statement veracity\n",
       "0  'There is a great deal of truth to the anti-va...      lie\n",
       "1  'Jenny mccarthy is a learned doctor who deserv...      lie\n",
       "2    'Driving doesn\\'t really require any practice.'      lie\n",
       "3  'Drinking and driving is a winning and safe co...      lie\n",
       "4  'Good hygiene isn\\'t really important or attra...      lie"
      ]
     },
     "execution_count": 10,
     "metadata": {},
     "output_type": "execute_result"
    }
   ],
   "source": [
    "df_relevant.head()"
   ]
  },
  {
   "cell_type": "markdown",
   "id": "2794620d",
   "metadata": {},
   "source": [
    "# Replacing the values from the veracity column with boolean values"
   ]
  },
  {
   "cell_type": "code",
   "execution_count": 11,
   "id": "5f8c4319",
   "metadata": {},
   "outputs": [
    {
     "data": {
      "text/plain": [
       "lie      1978\n",
       "truth    1967\n",
       "Name: veracity, dtype: int64"
      ]
     },
     "execution_count": 11,
     "metadata": {},
     "output_type": "execute_result"
    }
   ],
   "source": [
    "df_relevant['veracity'].value_counts()"
   ]
  },
  {
   "cell_type": "markdown",
   "id": "c5a7c5ba",
   "metadata": {},
   "source": [
    "## we can observe that the samples in the dateset are fairly balanced"
   ]
  },
  {
   "cell_type": "code",
   "execution_count": 12,
   "id": "d41145cd",
   "metadata": {},
   "outputs": [],
   "source": [
    "df_relevant['veracity'] = df_relevant['veracity'].replace(['truth'], 1)"
   ]
  },
  {
   "cell_type": "code",
   "execution_count": 13,
   "id": "943d1560",
   "metadata": {},
   "outputs": [],
   "source": [
    "df_relevant['veracity'] = df_relevant['veracity'].replace(['lie'], 0)"
   ]
  },
  {
   "cell_type": "code",
   "execution_count": 14,
   "id": "e022b1c2",
   "metadata": {},
   "outputs": [
    {
     "data": {
      "text/plain": [
       "0    1978\n",
       "1    1967\n",
       "Name: veracity, dtype: int64"
      ]
     },
     "execution_count": 14,
     "metadata": {},
     "output_type": "execute_result"
    }
   ],
   "source": [
    "df_relevant['veracity'].value_counts()"
   ]
  },
  {
   "cell_type": "markdown",
   "id": "2aeeed07",
   "metadata": {},
   "source": [
    "#  Remove the quotation signs from the statements column "
   ]
  },
  {
   "cell_type": "code",
   "execution_count": 21,
   "id": "22372fce",
   "metadata": {
    "scrolled": true
   },
   "outputs": [],
   "source": [
    "df_relevant['statement'] = df_relevant['statement'].str.replace(\"'\",\"\")"
   ]
  },
  {
   "cell_type": "code",
   "execution_count": 22,
   "id": "b3b91c52",
   "metadata": {},
   "outputs": [
    {
     "data": {
      "text/plain": [
       "0    There is a great deal of truth to the anti-vax...\n",
       "1    Jenny mccarthy is a learned doctor who deserve...\n",
       "2         Driving doesn\\t really require any practice.\n",
       "3    Drinking and driving is a winning and safe com...\n",
       "4    Good hygiene isn\\t really important or attract...\n",
       "Name: statement, dtype: object"
      ]
     },
     "execution_count": 22,
     "metadata": {},
     "output_type": "execute_result"
    }
   ],
   "source": [
    "df_relevant['statement'].head()"
   ]
  },
  {
   "cell_type": "markdown",
   "id": "e5f1bd5c",
   "metadata": {},
   "source": [
    "# Export the new df to a separate csv"
   ]
  },
  {
   "cell_type": "code",
   "execution_count": 23,
   "id": "4e835308",
   "metadata": {},
   "outputs": [],
   "source": [
    "df_relevant.to_csv('sevenDataset_cleaned.csv')"
   ]
  },
  {
   "cell_type": "code",
   "execution_count": null,
   "id": "fa1a0e86",
   "metadata": {},
   "outputs": [],
   "source": []
  }
 ],
 "metadata": {
  "kernelspec": {
   "display_name": "Python 3 (ipykernel)",
   "language": "python",
   "name": "python3"
  },
  "language_info": {
   "codemirror_mode": {
    "name": "ipython",
    "version": 3
   },
   "file_extension": ".py",
   "mimetype": "text/x-python",
   "name": "python",
   "nbconvert_exporter": "python",
   "pygments_lexer": "ipython3",
   "version": "3.9.7"
  }
 },
 "nbformat": 4,
 "nbformat_minor": 5
}
