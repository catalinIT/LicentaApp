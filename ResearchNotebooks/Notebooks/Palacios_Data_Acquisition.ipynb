{
 "cells": [
  {
   "cell_type": "code",
   "execution_count": 1,
   "id": "f0292f30",
   "metadata": {},
   "outputs": [],
   "source": [
    "# Packages for Web-Scraping\n",
    "from requests import get\n",
    "from bs4 import BeautifulSoup\n",
    "from time import time\n",
    "from time import sleep\n",
    "from random import randint\n",
    "from IPython.display import clear_output\n",
    "from warnings import warn\n",
    "\n",
    "# Packages for Saving File after Scraping\n",
    "import numpy as np\n",
    "import pandas as pd"
   ]
  },
  {
   "cell_type": "code",
   "execution_count": 2,
   "id": "27235454",
   "metadata": {},
   "outputs": [
    {
     "name": "stdout",
     "output_type": "stream",
     "text": [
      "\n",
      "<!DOCTYPE html>\n",
      "<html lang=\"en-US\" dir=\"ltr\">\n",
      "<head>\n",
      "<meta charset=\"utf-8\">\n",
      "<meta http-equiv=\"x-ua-compatible\" content=\"ie=edge\">\n",
      "<meta name=\"viewport\" content=\"width=device-width, initial-scale=1\">\n",
      "<title> | PolitiFact </title>\n",
      "<meta name=\"description\" content=\"PolitiFact is a fact-checking website that rates the accuracy of claims by elected officials and others on its Truth-O-Meter.\" />\n",
      "<meta name=\"twitter:username\" content=\"PolitiFact\" />\n",
      "<meta name=\"twitter:card\" content=\"summary\" />\n",
      "<meta\n"
     ]
    }
   ],
   "source": [
    "# url 1st page info, response object, and sample\n",
    "url = 'https://www.politifact.com/factchecks/list/?page=1'\n",
    "response = get(url)\n",
    "print(response.text[:500])"
   ]
  },
  {
   "cell_type": "code",
   "execution_count": 3,
   "id": "e660b9f0",
   "metadata": {},
   "outputs": [
    {
     "data": {
      "text/plain": [
       "bs4.BeautifulSoup"
      ]
     },
     "execution_count": 3,
     "metadata": {},
     "output_type": "execute_result"
    }
   ],
   "source": [
    "# 1st page BeautifulSoup object, confirm type\n",
    "html_soup = BeautifulSoup(response.text, 'html.parser')\n",
    "type(html_soup)"
   ]
  },
  {
   "cell_type": "code",
   "execution_count": 4,
   "id": "0711a9b2",
   "metadata": {},
   "outputs": [
    {
     "name": "stdout",
     "output_type": "stream",
     "text": [
      "<class 'bs4.element.ResultSet'>\n",
      "30\n"
     ]
    }
   ],
   "source": [
    "# finding each row of data we want to scrape, confirm type, check length\n",
    "statement_containers = html_soup.find_all('div', class_ = 'm-statement__content')\n",
    "print(type(statement_containers))\n",
    "print(len(statement_containers))"
   ]
  },
  {
   "cell_type": "code",
   "execution_count": 5,
   "id": "cb9d29ba",
   "metadata": {},
   "outputs": [
    {
     "data": {
      "text/plain": [
       "<div class=\"m-statement__content\">\n",
       "<div class=\"m-statement__body\">\n",
       "<div class=\"m-statement__quote-wrap\">\n",
       "<div class=\"m-statement__quote\">\n",
       "<a href=\"/factchecks/2022/feb/14/tweets/no-onlyfans-isnt-recruiting-adult-film-stars-colle/\">\n",
       "A video shows that “OnlyFans has guys on campus encouraging your daughters to do porn for ‘financial freedom.’”\n",
       "</a>\n",
       "</div>\n",
       "</div>\n",
       "<div class=\"m-statement__meter\">\n",
       "<div class=\"c-image\" style=\"padding-top: 89.49771689497716%;\">\n",
       "<img alt=\"false\" class=\"c-image__thumb\" height=\"196\" src=\"https://static.politifact.com/img/meter-false-th.jpg\" width=\"219\"/>\n",
       "<picture>\n",
       "<img alt=\"false\" class=\"c-image__original\" height=\"196\" src=\"https://static.politifact.com/img/meter-false.jpg\" width=\"219\"/>\n",
       "</picture>\n",
       "</div>\n",
       "</div>\n",
       "<footer class=\"m-statement__footer\">\n",
       "By Bill McCarthy • February 14, 2022\n",
       "</footer>\n",
       "</div>\n",
       "</div>"
      ]
     },
     "execution_count": 5,
     "metadata": {},
     "output_type": "execute_result"
    }
   ],
   "source": [
    "s = statement_containers[1]\n",
    "s"
   ]
  },
  {
   "cell_type": "code",
   "execution_count": 6,
   "id": "64392a13",
   "metadata": {
    "scrolled": false
   },
   "outputs": [
    {
     "data": {
      "text/plain": [
       "'A video shows that “OnlyFans has guys on campus encouraging your daughters to do porn for ‘financial freedom.’”'"
      ]
     },
     "execution_count": 6,
     "metadata": {},
     "output_type": "execute_result"
    }
   ],
   "source": [
    "s.find('div', class_ = 'm-statement__quote').get_text(strip=True)"
   ]
  },
  {
   "cell_type": "code",
   "execution_count": 7,
   "id": "59499fe8",
   "metadata": {},
   "outputs": [
    {
     "name": "stdout",
     "output_type": "stream",
     "text": [
      "<class 'bs4.element.ResultSet'>\n",
      "30\n"
     ]
    }
   ],
   "source": [
    "list_container = html_soup.find('ul', class_ = 'o-listicle__list')\n",
    "list_items_container = html_soup.find_all('li', class_ = 'o-listicle__item')\n",
    "print(type(list_items_container))\n",
    "print(len(list_items_container))"
   ]
  },
  {
   "cell_type": "code",
   "execution_count": 8,
   "id": "5d193390",
   "metadata": {},
   "outputs": [
    {
     "name": "stdout",
     "output_type": "stream",
     "text": [
      "<class 'bs4.element.ResultSet'>\n",
      "30\n"
     ]
    }
   ],
   "source": [
    "statement_containers = html_soup.find_all('div', class_ = 'm-statement__quote')\n",
    "print(type(statement_containers))\n",
    "print(len(statement_containers))"
   ]
  },
  {
   "cell_type": "markdown",
   "id": "fbace53a",
   "metadata": {},
   "source": [
    "Extractig the data for a single list item"
   ]
  },
  {
   "cell_type": "code",
   "execution_count": 9,
   "id": "2bcf95c3",
   "metadata": {},
   "outputs": [
    {
     "data": {
      "text/plain": [
       "<li class=\"o-listicle__item\">\n",
       "<article class=\"m-statement m-statement--is-medium m-statement--false\">\n",
       "<div class=\"m-statement__author\">\n",
       "<div class=\"m-statement__avatar\">\n",
       "<div class=\"m-statement__image\">\n",
       "<div class=\"c-image\" style=\"padding-top: 119.27710843373494%;\">\n",
       "<img class=\"c-image__thumb\" height=\"99\" src=\"https://static.politifact.com/CACHE/images/politifact/mugs/Twitter/5a09f91f97a11c38d58405becf218e8c.jpg\" width=\"83\"/>\n",
       "<picture>\n",
       "<img class=\"c-image__original\" height=\"178\" src=\"https://static.politifact.com/CACHE/images/politifact/mugs/Twitter/58840a801728fb16b65bf50c585680f2.jpg\" width=\"166\"/>\n",
       "</picture>\n",
       "</div>\n",
       "</div>\n",
       "</div>\n",
       "<div class=\"m-statement__meta\">\n",
       "<a class=\"m-statement__name\" href=\"/personalities/tweets/\" title=\"Tweets\">\n",
       "Tweets\n",
       "</a>\n",
       "<div class=\"m-statement__desc\">\n",
       "stated on February 1, 2022 in a post:\n",
       "</div>\n",
       "</div>\n",
       "</div>\n",
       "<div class=\"m-statement__content\">\n",
       "<div class=\"m-statement__body\">\n",
       "<div class=\"m-statement__quote-wrap\">\n",
       "<div class=\"m-statement__quote\">\n",
       "<a href=\"/factchecks/2022/feb/14/tweets/those-titles-arent-banned-statewide-could-be-distr/\">\n",
       "\"Books banned in Texas include 1984, Maus, and The Handmaid's Tale, but not Mein Kampf.\"\n",
       "</a>\n",
       "</div>\n",
       "</div>\n",
       "<div class=\"m-statement__meter\">\n",
       "<div class=\"c-image\" style=\"padding-top: 89.49771689497716%;\">\n",
       "<img alt=\"false\" class=\"c-image__thumb\" height=\"196\" src=\"https://static.politifact.com/img/meter-false-th.jpg\" width=\"219\"/>\n",
       "<picture>\n",
       "<img alt=\"false\" class=\"c-image__original\" height=\"196\" src=\"https://static.politifact.com/img/meter-false.jpg\" width=\"219\"/>\n",
       "</picture>\n",
       "</div>\n",
       "</div>\n",
       "<footer class=\"m-statement__footer\">\n",
       "By Nusaiba Mizan • February 14, 2022\n",
       "</footer>\n",
       "</div>\n",
       "</div>\n",
       "</article>\n",
       "</li>"
      ]
     },
     "execution_count": 9,
     "metadata": {},
     "output_type": "execute_result"
    }
   ],
   "source": [
    "first_item = list_items_container[0]\n",
    "first_item"
   ]
  },
  {
   "cell_type": "code",
   "execution_count": 10,
   "id": "92bb7fd2",
   "metadata": {},
   "outputs": [
    {
     "data": {
      "text/plain": [
       "'\"Books banned in Texas include 1984, Maus, and The Handmaid\\'s Tale, but not Mein Kampf.\"'"
      ]
     },
     "execution_count": 10,
     "metadata": {},
     "output_type": "execute_result"
    }
   ],
   "source": [
    "#actual statement\n",
    "first_item.find('div', class_ = 'm-statement__quote').a.text[1:-1]"
   ]
  },
  {
   "cell_type": "code",
   "execution_count": 11,
   "id": "485cdc05",
   "metadata": {
    "scrolled": true
   },
   "outputs": [
    {
     "data": {
      "text/plain": [
       "'Tweets'"
      ]
     },
     "execution_count": 11,
     "metadata": {},
     "output_type": "execute_result"
    }
   ],
   "source": [
    "#statement source\n",
    "first_item.find('div', class_ = 'm-statement__meta').a.text[1:-1]"
   ]
  },
  {
   "cell_type": "code",
   "execution_count": 12,
   "id": "074c9db0",
   "metadata": {
    "scrolled": true
   },
   "outputs": [
    {
     "data": {
      "text/plain": [
       "'/factchecks/2022/feb/14/tweets/those-titles-arent-banned-statewide-could-be-distr/'"
      ]
     },
     "execution_count": 12,
     "metadata": {},
     "output_type": "execute_result"
    }
   ],
   "source": [
    "#statement source\n",
    "first_item.find('div', class_ = 'm-statement__quote').a['href']"
   ]
  },
  {
   "cell_type": "code",
   "execution_count": 13,
   "id": "b0e621ab",
   "metadata": {
    "scrolled": true
   },
   "outputs": [
    {
     "data": {
      "text/plain": [
       "'false'"
      ]
     },
     "execution_count": 13,
     "metadata": {},
     "output_type": "execute_result"
    }
   ],
   "source": [
    "#finding the statement label\n",
    "first_item.find('div', class_ = 'm-statement__content').picture.img['alt']"
   ]
  },
  {
   "cell_type": "markdown",
   "id": "6fba8f5f",
   "metadata": {},
   "source": [
    "Create the feature list for the first element "
   ]
  },
  {
   "cell_type": "code",
   "execution_count": 14,
   "id": "13023d26",
   "metadata": {},
   "outputs": [],
   "source": [
    "# Lists to store the scraped data in\n",
    "statement = []\n",
    "source = []\n",
    "link = []\n",
    "veracity = []\n",
    "\n",
    "# Extract data from individual container\n",
    "for container in list_items_container:\n",
    "# statement\n",
    "    sta = container.find('div', class_ = 'm-statement__quote').a.text[1:-1]\n",
    "    statement.append(sta)\n",
    "# source\n",
    "    sou = container.find('div', class_ = 'm-statement__meta').a.text[1:-1]\n",
    "    source.append(sou)\n",
    "# link\n",
    "    lin = container.find('div', class_ = 'm-statement__quote').a['href']\n",
    "    link.append(lin)\n",
    "# veracity\n",
    "    ver = container.find('div', class_ = 'm-statement__content').picture.img['alt']\n",
    "    veracity.append(ver)"
   ]
  },
  {
   "cell_type": "code",
   "execution_count": 15,
   "id": "899be5fc",
   "metadata": {},
   "outputs": [
    {
     "name": "stdout",
     "output_type": "stream",
     "text": [
      "<class 'pandas.core.frame.DataFrame'>\n",
      "RangeIndex: 30 entries, 0 to 29\n",
      "Data columns (total 4 columns):\n",
      " #   Column     Non-Null Count  Dtype \n",
      "---  ------     --------------  ----- \n",
      " 0   statement  30 non-null     object\n",
      " 1   source     30 non-null     object\n",
      " 2   link       30 non-null     object\n",
      " 3   veracity   30 non-null     object\n",
      "dtypes: object(4)\n",
      "memory usage: 1.1+ KB\n",
      "None\n"
     ]
    },
    {
     "data": {
      "text/html": [
       "<div>\n",
       "<style scoped>\n",
       "    .dataframe tbody tr th:only-of-type {\n",
       "        vertical-align: middle;\n",
       "    }\n",
       "\n",
       "    .dataframe tbody tr th {\n",
       "        vertical-align: top;\n",
       "    }\n",
       "\n",
       "    .dataframe thead th {\n",
       "        text-align: right;\n",
       "    }\n",
       "</style>\n",
       "<table border=\"1\" class=\"dataframe\">\n",
       "  <thead>\n",
       "    <tr style=\"text-align: right;\">\n",
       "      <th></th>\n",
       "      <th>statement</th>\n",
       "      <th>source</th>\n",
       "      <th>link</th>\n",
       "      <th>veracity</th>\n",
       "    </tr>\n",
       "  </thead>\n",
       "  <tbody>\n",
       "    <tr>\n",
       "      <th>0</th>\n",
       "      <td>\"Books banned in Texas include 1984, Maus, and...</td>\n",
       "      <td>Tweets</td>\n",
       "      <td>/factchecks/2022/feb/14/tweets/those-titles-ar...</td>\n",
       "      <td>false</td>\n",
       "    </tr>\n",
       "    <tr>\n",
       "      <th>1</th>\n",
       "      <td>A video shows that “OnlyFans has guys on campu...</td>\n",
       "      <td>Tweets</td>\n",
       "      <td>/factchecks/2022/feb/14/tweets/no-onlyfans-isn...</td>\n",
       "      <td>false</td>\n",
       "    </tr>\n",
       "    <tr>\n",
       "      <th>2</th>\n",
       "      <td>“Nevada ranks 50th in election integrity ratin...</td>\n",
       "      <td>Jesse Haw</td>\n",
       "      <td>/factchecks/2022/feb/14/jesse-haw/fact-checkin...</td>\n",
       "      <td>barely-true</td>\n",
       "    </tr>\n",
       "    <tr>\n",
       "      <th>3</th>\n",
       "      <td>“The second booster has eight strains of HIV.”</td>\n",
       "      <td>Facebook posts</td>\n",
       "      <td>/factchecks/2022/feb/14/facebook-posts/covid-1...</td>\n",
       "      <td>pants-fire</td>\n",
       "    </tr>\n",
       "    <tr>\n",
       "      <th>4</th>\n",
       "      <td>Virginia’s economic growth “has stalled at les...</td>\n",
       "      <td>Glenn Youngkin</td>\n",
       "      <td>/factchecks/2022/feb/14/glenn-youngkin/has-vir...</td>\n",
       "      <td>mostly-true</td>\n",
       "    </tr>\n",
       "    <tr>\n",
       "      <th>5</th>\n",
       "      <td>COVID-19 vaccines caused a 40% increase in dea...</td>\n",
       "      <td>Bloggers</td>\n",
       "      <td>/factchecks/2022/feb/11/blog-posting/no-covid-...</td>\n",
       "      <td>false</td>\n",
       "    </tr>\n",
       "    <tr>\n",
       "      <th>6</th>\n",
       "      <td>COVID spelled backward is “divoc” which means ...</td>\n",
       "      <td>Facebook posts</td>\n",
       "      <td>/factchecks/2022/feb/11/facebook-posts/covid-s...</td>\n",
       "      <td>false</td>\n",
       "    </tr>\n",
       "    <tr>\n",
       "      <th>7</th>\n",
       "      <td>“New Jersey and Maryland produce more solar po...</td>\n",
       "      <td>Charlie Crist</td>\n",
       "      <td>/factchecks/2022/feb/11/charlie-crist/florida-...</td>\n",
       "      <td>barely-true</td>\n",
       "    </tr>\n",
       "    <tr>\n",
       "      <th>8</th>\n",
       "      <td>“We all know China created COVID.”</td>\n",
       "      <td>Dave McCormick</td>\n",
       "      <td>/factchecks/2022/feb/11/dave-mccormick/respons...</td>\n",
       "      <td>false</td>\n",
       "    </tr>\n",
       "    <tr>\n",
       "      <th>9</th>\n",
       "      <td>Arizona House bill to “decertify” 2020 results...</td>\n",
       "      <td>Bloggers</td>\n",
       "      <td>/factchecks/2022/feb/11/blog-posting/gop-lawma...</td>\n",
       "      <td>pants-fire</td>\n",
       "    </tr>\n",
       "    <tr>\n",
       "      <th>10</th>\n",
       "      <td>Says a Washington Post headline and graphic ab...</td>\n",
       "      <td>Facebook posts</td>\n",
       "      <td>/factchecks/2022/feb/11/facebook-posts/faceboo...</td>\n",
       "      <td>false</td>\n",
       "    </tr>\n",
       "    <tr>\n",
       "      <th>11</th>\n",
       "      <td>In England, “official data shows children are ...</td>\n",
       "      <td>Bloggers</td>\n",
       "      <td>/factchecks/2022/feb/11/blog-posting/no-covid-...</td>\n",
       "      <td>false</td>\n",
       "    </tr>\n",
       "    <tr>\n",
       "      <th>12</th>\n",
       "      <td>“A larger percentage of Illinoisans have been ...</td>\n",
       "      <td>JB Pritzker</td>\n",
       "      <td>/factchecks/2022/feb/11/jb-pritzker/does-illin...</td>\n",
       "      <td>mostly-true</td>\n",
       "    </tr>\n",
       "    <tr>\n",
       "      <th>13</th>\n",
       "      <td>\"The use of ballot drop boxes and ballot harve...</td>\n",
       "      <td>Kevin Nicholson</td>\n",
       "      <td>/factchecks/2022/feb/11/kevin-nicholson/wiscon...</td>\n",
       "      <td>barely-true</td>\n",
       "    </tr>\n",
       "    <tr>\n",
       "      <th>14</th>\n",
       "      <td>Says Bob Saget predicted his death</td>\n",
       "      <td>Facebook posts</td>\n",
       "      <td>/factchecks/2022/feb/10/facebook-posts/no-bob-...</td>\n",
       "      <td>false</td>\n",
       "    </tr>\n",
       "    <tr>\n",
       "      <th>15</th>\n",
       "      <td>Requesting a chargeback is “a better way to ge...</td>\n",
       "      <td>Facebook posts</td>\n",
       "      <td>/factchecks/2022/feb/10/facebook-posts/request...</td>\n",
       "      <td>barely-true</td>\n",
       "    </tr>\n",
       "    <tr>\n",
       "      <th>16</th>\n",
       "      <td>“Got the old killdozer loaded up heading for O...</td>\n",
       "      <td>Facebook posts</td>\n",
       "      <td>/factchecks/2022/feb/10/facebook-posts/bulldoz...</td>\n",
       "      <td>false</td>\n",
       "    </tr>\n",
       "    <tr>\n",
       "      <th>17</th>\n",
       "      <td>Girl Scouts support \"Planned Parenthood and pr...</td>\n",
       "      <td>Facebook posts</td>\n",
       "      <td>/factchecks/2022/feb/10/facebook-posts/girl-sc...</td>\n",
       "      <td>false</td>\n",
       "    </tr>\n",
       "    <tr>\n",
       "      <th>18</th>\n",
       "      <td>“Joe Biden uses the ATF to illegally track you...</td>\n",
       "      <td>JD Vance</td>\n",
       "      <td>/factchecks/2022/feb/10/jd-vance/jd-vance-wron...</td>\n",
       "      <td>false</td>\n",
       "    </tr>\n",
       "    <tr>\n",
       "      <th>19</th>\n",
       "      <td>“A grand jury trial begins into crimes against...</td>\n",
       "      <td>Facebook posts</td>\n",
       "      <td>/factchecks/2022/feb/10/facebook-posts/viral-v...</td>\n",
       "      <td>pants-fire</td>\n",
       "    </tr>\n",
       "    <tr>\n",
       "      <th>20</th>\n",
       "      <td>Says remdesivir is responsible for killing pat...</td>\n",
       "      <td>Nicole Sirotek</td>\n",
       "      <td>/factchecks/2022/feb/10/nicole-sirotek/no-hosp...</td>\n",
       "      <td>false</td>\n",
       "    </tr>\n",
       "    <tr>\n",
       "      <th>21</th>\n",
       "      <td>The Biden administration “is spending $30 mill...</td>\n",
       "      <td>Sean Spicer</td>\n",
       "      <td>/factchecks/2022/feb/10/sean-spicer/no-white-h...</td>\n",
       "      <td>barely-true</td>\n",
       "    </tr>\n",
       "    <tr>\n",
       "      <th>22</th>\n",
       "      <td>\"In Joe Biden’s America, your children are mor...</td>\n",
       "      <td>Troy Nehls</td>\n",
       "      <td>/factchecks/2022/feb/10/troy-nehls/claim-kids-...</td>\n",
       "      <td>pants-fire</td>\n",
       "    </tr>\n",
       "    <tr>\n",
       "      <th>23</th>\n",
       "      <td>“Greg Casar passed paid sick leave.\"</td>\n",
       "      <td>Greg Casar</td>\n",
       "      <td>/factchecks/2022/feb/10/greg-casar/texas-us-ho...</td>\n",
       "      <td>half-true</td>\n",
       "    </tr>\n",
       "    <tr>\n",
       "      <th>24</th>\n",
       "      <td>“MSNBC announced Trump won 2020 election.”</td>\n",
       "      <td>Facebook posts</td>\n",
       "      <td>/factchecks/2022/feb/10/facebook-posts/no-msnb...</td>\n",
       "      <td>pants-fire</td>\n",
       "    </tr>\n",
       "    <tr>\n",
       "      <th>25</th>\n",
       "      <td>Kendall Jenner edited a photo to look like she...</td>\n",
       "      <td>Viral image</td>\n",
       "      <td>/factchecks/2022/feb/10/viral-image/kendall-je...</td>\n",
       "      <td>false</td>\n",
       "    </tr>\n",
       "    <tr>\n",
       "      <th>26</th>\n",
       "      <td>Says C.S. Lewis wrote, “They believed blindly ...</td>\n",
       "      <td>Facebook posts</td>\n",
       "      <td>/factchecks/2022/feb/10/facebook-posts/cs-lewi...</td>\n",
       "      <td>false</td>\n",
       "    </tr>\n",
       "    <tr>\n",
       "      <th>27</th>\n",
       "      <td>\"Biden and most Democrats want to cap insulin ...</td>\n",
       "      <td>Facebook posts</td>\n",
       "      <td>/factchecks/2022/feb/10/facebook-posts/republi...</td>\n",
       "      <td>barely-true</td>\n",
       "    </tr>\n",
       "    <tr>\n",
       "      <th>28</th>\n",
       "      <td>Comedian Heather McDonald collapsed on stage a...</td>\n",
       "      <td>Facebook posts</td>\n",
       "      <td>/factchecks/2022/feb/09/facebook-posts/no-evid...</td>\n",
       "      <td>false</td>\n",
       "    </tr>\n",
       "    <tr>\n",
       "      <th>29</th>\n",
       "      <td>Eric Schmitt “sponsored a bill to spend $480 m...</td>\n",
       "      <td>Team PAC</td>\n",
       "      <td>/factchecks/2022/feb/09/team-pac/race-open-us-...</td>\n",
       "      <td>half-true</td>\n",
       "    </tr>\n",
       "  </tbody>\n",
       "</table>\n",
       "</div>"
      ],
      "text/plain": [
       "                                            statement           source  \\\n",
       "0   \"Books banned in Texas include 1984, Maus, and...           Tweets   \n",
       "1   A video shows that “OnlyFans has guys on campu...           Tweets   \n",
       "2   “Nevada ranks 50th in election integrity ratin...        Jesse Haw   \n",
       "3      “The second booster has eight strains of HIV.”   Facebook posts   \n",
       "4   Virginia’s economic growth “has stalled at les...   Glenn Youngkin   \n",
       "5   COVID-19 vaccines caused a 40% increase in dea...         Bloggers   \n",
       "6   COVID spelled backward is “divoc” which means ...   Facebook posts   \n",
       "7   “New Jersey and Maryland produce more solar po...    Charlie Crist   \n",
       "8                  “We all know China created COVID.”   Dave McCormick   \n",
       "9   Arizona House bill to “decertify” 2020 results...         Bloggers   \n",
       "10  Says a Washington Post headline and graphic ab...   Facebook posts   \n",
       "11  In England, “official data shows children are ...         Bloggers   \n",
       "12  “A larger percentage of Illinoisans have been ...      JB Pritzker   \n",
       "13  \"The use of ballot drop boxes and ballot harve...  Kevin Nicholson   \n",
       "14                 Says Bob Saget predicted his death   Facebook posts   \n",
       "15  Requesting a chargeback is “a better way to ge...   Facebook posts   \n",
       "16  “Got the old killdozer loaded up heading for O...   Facebook posts   \n",
       "17  Girl Scouts support \"Planned Parenthood and pr...   Facebook posts   \n",
       "18  “Joe Biden uses the ATF to illegally track you...         JD Vance   \n",
       "19  “A grand jury trial begins into crimes against...   Facebook posts   \n",
       "20  Says remdesivir is responsible for killing pat...   Nicole Sirotek   \n",
       "21  The Biden administration “is spending $30 mill...      Sean Spicer   \n",
       "22  \"In Joe Biden’s America, your children are mor...       Troy Nehls   \n",
       "23               “Greg Casar passed paid sick leave.\"       Greg Casar   \n",
       "24         “MSNBC announced Trump won 2020 election.”   Facebook posts   \n",
       "25  Kendall Jenner edited a photo to look like she...      Viral image   \n",
       "26  Says C.S. Lewis wrote, “They believed blindly ...   Facebook posts   \n",
       "27  \"Biden and most Democrats want to cap insulin ...   Facebook posts   \n",
       "28  Comedian Heather McDonald collapsed on stage a...   Facebook posts   \n",
       "29  Eric Schmitt “sponsored a bill to spend $480 m...         Team PAC   \n",
       "\n",
       "                                                 link     veracity  \n",
       "0   /factchecks/2022/feb/14/tweets/those-titles-ar...        false  \n",
       "1   /factchecks/2022/feb/14/tweets/no-onlyfans-isn...        false  \n",
       "2   /factchecks/2022/feb/14/jesse-haw/fact-checkin...  barely-true  \n",
       "3   /factchecks/2022/feb/14/facebook-posts/covid-1...   pants-fire  \n",
       "4   /factchecks/2022/feb/14/glenn-youngkin/has-vir...  mostly-true  \n",
       "5   /factchecks/2022/feb/11/blog-posting/no-covid-...        false  \n",
       "6   /factchecks/2022/feb/11/facebook-posts/covid-s...        false  \n",
       "7   /factchecks/2022/feb/11/charlie-crist/florida-...  barely-true  \n",
       "8   /factchecks/2022/feb/11/dave-mccormick/respons...        false  \n",
       "9   /factchecks/2022/feb/11/blog-posting/gop-lawma...   pants-fire  \n",
       "10  /factchecks/2022/feb/11/facebook-posts/faceboo...        false  \n",
       "11  /factchecks/2022/feb/11/blog-posting/no-covid-...        false  \n",
       "12  /factchecks/2022/feb/11/jb-pritzker/does-illin...  mostly-true  \n",
       "13  /factchecks/2022/feb/11/kevin-nicholson/wiscon...  barely-true  \n",
       "14  /factchecks/2022/feb/10/facebook-posts/no-bob-...        false  \n",
       "15  /factchecks/2022/feb/10/facebook-posts/request...  barely-true  \n",
       "16  /factchecks/2022/feb/10/facebook-posts/bulldoz...        false  \n",
       "17  /factchecks/2022/feb/10/facebook-posts/girl-sc...        false  \n",
       "18  /factchecks/2022/feb/10/jd-vance/jd-vance-wron...        false  \n",
       "19  /factchecks/2022/feb/10/facebook-posts/viral-v...   pants-fire  \n",
       "20  /factchecks/2022/feb/10/nicole-sirotek/no-hosp...        false  \n",
       "21  /factchecks/2022/feb/10/sean-spicer/no-white-h...  barely-true  \n",
       "22  /factchecks/2022/feb/10/troy-nehls/claim-kids-...   pants-fire  \n",
       "23  /factchecks/2022/feb/10/greg-casar/texas-us-ho...    half-true  \n",
       "24  /factchecks/2022/feb/10/facebook-posts/no-msnb...   pants-fire  \n",
       "25  /factchecks/2022/feb/10/viral-image/kendall-je...        false  \n",
       "26  /factchecks/2022/feb/10/facebook-posts/cs-lewi...        false  \n",
       "27  /factchecks/2022/feb/10/facebook-posts/republi...  barely-true  \n",
       "28  /factchecks/2022/feb/09/facebook-posts/no-evid...        false  \n",
       "29  /factchecks/2022/feb/09/team-pac/race-open-us-...    half-true  "
      ]
     },
     "execution_count": 15,
     "metadata": {},
     "output_type": "execute_result"
    }
   ],
   "source": [
    "# 1st page df\n",
    "test_df = pd.DataFrame(\n",
    "    {'statement': statement,\n",
    "     'source': source,\n",
    "     'link': link,\n",
    "     'veracity': veracity\n",
    "})\n",
    "print(test_df.info())\n",
    "test_df"
   ]
  },
  {
   "cell_type": "code",
   "execution_count": 16,
   "id": "0e1327cf",
   "metadata": {},
   "outputs": [
    {
     "name": "stdout",
     "output_type": "stream",
     "text": [
      "Request: 5; Frequency: 0.49718085459976785 requests/s\n"
     ]
    }
   ],
   "source": [
    "# Testing 5 pages\n",
    "pages = [str(i) for i in range(1,5)]\n",
    "start_time = time()\n",
    "requests = 0\n",
    "for _ in range(5):\n",
    "# request goes here\n",
    "    requests += 1\n",
    "    sleep(randint(1,3))\n",
    "    current_time = time()\n",
    "    elapsed_time = current_time - start_time\n",
    "    print('Request: {}; Frequency: {} requests/s'.format(requests, requests/elapsed_time))\n",
    "    clear_output(wait = True)"
   ]
  },
  {
   "cell_type": "code",
   "execution_count": 17,
   "id": "20370251",
   "metadata": {},
   "outputs": [
    {
     "name": "stdout",
     "output_type": "stream",
     "text": [
      "Request:833; Frequency: 0.07692828062164547 requests/s\n"
     ]
    }
   ],
   "source": [
    "# If above is problem-free, proceed to scrape all pages\n",
    "# Scraping 834 pages takes about 4-5 hours\n",
    "\n",
    "# Lists to store all the scraped data in\n",
    "statement = []\n",
    "source = []\n",
    "link = []\n",
    "veracity = []\n",
    "\n",
    "# Preparing the monitoring of the loop\n",
    "start_time = time()\n",
    "requests = 0\n",
    "\n",
    "# For every page in the interval\n",
    "pages = [str(i) for i in range(1,834)]\n",
    "for page in pages:\n",
    "\n",
    "    # Make a get request\n",
    "    response = get('https://www.politifact.com/factchecks/list/?page=' + page)\n",
    "\n",
    "    # Pause the loop in random intervals so your IP address doesn't get banned\n",
    "    sleep(randint(8,15))\n",
    "\n",
    "    # Monitor the requests\n",
    "    requests += 1\n",
    "    elapsed_time = time() - start_time\n",
    "    print('Request:{}; Frequency: {} requests/s'.format(requests, requests/elapsed_time))\n",
    "    clear_output(wait = True)\n",
    "\n",
    "    # Throw a warning for non-200 status codes\n",
    "    if response.status_code != 200:\n",
    "        warn('Request: {}; Status code: {}'.format(requests, response.status_code))\n",
    "\n",
    "    # Parse the content of the request with BeautifulSoup\n",
    "    page_html = BeautifulSoup(response.text, 'html.parser')\n",
    "\n",
    "    # Select all the containers from a single page\n",
    "    list_container = page_html.find('ul', class_ = 'o-listicle__list')\n",
    "    list_items_container = html_soup.find_all('li', class_ = 'o-listicle__item')\n",
    "\n",
    "    for container in list_items_container:\n",
    "    # statement\n",
    "        sta = container.find('div', class_ = 'm-statement__quote').a.text[1:-1]\n",
    "        statement.append(sta)\n",
    "    # source\n",
    "        sou = container.find('div', class_ = 'm-statement__meta').a.text[1:-1]\n",
    "        source.append(sou)\n",
    "    # link\n",
    "        lin = container.find('div', class_ = 'm-statement__quote').a['href']\n",
    "        link.append(lin)\n",
    "    # veracity\n",
    "        ver = container.find('div', class_ = 'm-statement__content').picture.img['alt']\n",
    "        veracity.append(ver)"
   ]
  },
  {
   "cell_type": "code",
   "execution_count": 18,
   "id": "5c69e63d",
   "metadata": {},
   "outputs": [
    {
     "name": "stdout",
     "output_type": "stream",
     "text": [
      "<class 'pandas.core.frame.DataFrame'>\n",
      "RangeIndex: 24990 entries, 0 to 24989\n",
      "Data columns (total 4 columns):\n",
      " #   Column     Non-Null Count  Dtype \n",
      "---  ------     --------------  ----- \n",
      " 0   statement  24990 non-null  object\n",
      " 1   source     24990 non-null  object\n",
      " 2   link       24990 non-null  object\n",
      " 3   veracity   24990 non-null  object\n",
      "dtypes: object(4)\n",
      "memory usage: 781.1+ KB\n",
      "None\n"
     ]
    },
    {
     "data": {
      "text/html": [
       "<div>\n",
       "<style scoped>\n",
       "    .dataframe tbody tr th:only-of-type {\n",
       "        vertical-align: middle;\n",
       "    }\n",
       "\n",
       "    .dataframe tbody tr th {\n",
       "        vertical-align: top;\n",
       "    }\n",
       "\n",
       "    .dataframe thead th {\n",
       "        text-align: right;\n",
       "    }\n",
       "</style>\n",
       "<table border=\"1\" class=\"dataframe\">\n",
       "  <thead>\n",
       "    <tr style=\"text-align: right;\">\n",
       "      <th></th>\n",
       "      <th>statement</th>\n",
       "      <th>source</th>\n",
       "      <th>link</th>\n",
       "      <th>veracity</th>\n",
       "    </tr>\n",
       "  </thead>\n",
       "  <tbody>\n",
       "    <tr>\n",
       "      <th>24988</th>\n",
       "      <td>Comedian Heather McDonald collapsed on stage a...</td>\n",
       "      <td>Facebook posts</td>\n",
       "      <td>/factchecks/2022/feb/09/facebook-posts/no-evid...</td>\n",
       "      <td>false</td>\n",
       "    </tr>\n",
       "    <tr>\n",
       "      <th>24989</th>\n",
       "      <td>Eric Schmitt “sponsored a bill to spend $480 m...</td>\n",
       "      <td>Team PAC</td>\n",
       "      <td>/factchecks/2022/feb/09/team-pac/race-open-us-...</td>\n",
       "      <td>half-true</td>\n",
       "    </tr>\n",
       "  </tbody>\n",
       "</table>\n",
       "</div>"
      ],
      "text/plain": [
       "                                               statement          source  \\\n",
       "24988  Comedian Heather McDonald collapsed on stage a...  Facebook posts   \n",
       "24989  Eric Schmitt “sponsored a bill to spend $480 m...        Team PAC   \n",
       "\n",
       "                                                    link   veracity  \n",
       "24988  /factchecks/2022/feb/09/facebook-posts/no-evid...      false  \n",
       "24989  /factchecks/2022/feb/09/team-pac/race-open-us-...  half-true  "
      ]
     },
     "execution_count": 18,
     "metadata": {},
     "output_type": "execute_result"
    }
   ],
   "source": [
    "# make a dataframe\n",
    "politifact_df = pd.DataFrame(\n",
    "    {'statement': statement,\n",
    "     'source': source,\n",
    "     'link': link,\n",
    "     'veracity': veracity\n",
    "})\n",
    "print(politifact_df.info())\n",
    "politifact_df.tail(2)"
   ]
  },
  {
   "cell_type": "code",
   "execution_count": 19,
   "id": "957fa6e1",
   "metadata": {},
   "outputs": [
    {
     "name": "stdout",
     "output_type": "stream",
     "text": [
      "<class 'pandas.core.frame.DataFrame'>\n",
      "RangeIndex: 24990 entries, 0 to 24989\n",
      "Data columns (total 4 columns):\n",
      " #   Column     Non-Null Count  Dtype \n",
      "---  ------     --------------  ----- \n",
      " 0   statement  24990 non-null  object\n",
      " 1   source     24990 non-null  object\n",
      " 2   link       24990 non-null  object\n",
      " 3   veracity   24990 non-null  object\n",
      "dtypes: object(4)\n",
      "memory usage: 781.1+ KB\n",
      "None\n"
     ]
    },
    {
     "data": {
      "text/html": [
       "<div>\n",
       "<style scoped>\n",
       "    .dataframe tbody tr th:only-of-type {\n",
       "        vertical-align: middle;\n",
       "    }\n",
       "\n",
       "    .dataframe tbody tr th {\n",
       "        vertical-align: top;\n",
       "    }\n",
       "\n",
       "    .dataframe thead th {\n",
       "        text-align: right;\n",
       "    }\n",
       "</style>\n",
       "<table border=\"1\" class=\"dataframe\">\n",
       "  <thead>\n",
       "    <tr style=\"text-align: right;\">\n",
       "      <th></th>\n",
       "      <th>statement</th>\n",
       "      <th>source</th>\n",
       "      <th>link</th>\n",
       "      <th>veracity</th>\n",
       "    </tr>\n",
       "  </thead>\n",
       "  <tbody>\n",
       "    <tr>\n",
       "      <th>24988</th>\n",
       "      <td>Comedian Heather McDonald collapsed on stage a...</td>\n",
       "      <td>Facebook posts</td>\n",
       "      <td>/factchecks/2022/feb/09/facebook-posts/no-evid...</td>\n",
       "      <td>false</td>\n",
       "    </tr>\n",
       "    <tr>\n",
       "      <th>24989</th>\n",
       "      <td>Eric Schmitt “sponsored a bill to spend $480 m...</td>\n",
       "      <td>Team PAC</td>\n",
       "      <td>/factchecks/2022/feb/09/team-pac/race-open-us-...</td>\n",
       "      <td>half-true</td>\n",
       "    </tr>\n",
       "  </tbody>\n",
       "</table>\n",
       "</div>"
      ],
      "text/plain": [
       "                                               statement          source  \\\n",
       "24988  Comedian Heather McDonald collapsed on stage a...  Facebook posts   \n",
       "24989  Eric Schmitt “sponsored a bill to spend $480 m...        Team PAC   \n",
       "\n",
       "                                                    link   veracity  \n",
       "24988  /factchecks/2022/feb/09/facebook-posts/no-evid...      false  \n",
       "24989  /factchecks/2022/feb/09/team-pac/race-open-us-...  half-true  "
      ]
     },
     "execution_count": 19,
     "metadata": {},
     "output_type": "execute_result"
    }
   ],
   "source": [
    "print(politifact_df.info())\n",
    "politifact_df.tail(2)"
   ]
  },
  {
   "cell_type": "code",
   "execution_count": 20,
   "id": "3e059d7a",
   "metadata": {},
   "outputs": [],
   "source": [
    "politifact_df.to_csv('politifact.csv')"
   ]
  },
  {
   "cell_type": "code",
   "execution_count": null,
   "id": "47fb029f",
   "metadata": {},
   "outputs": [],
   "source": []
  }
 ],
 "metadata": {
  "kernelspec": {
   "display_name": "Python 3 (ipykernel)",
   "language": "python",
   "name": "python3"
  },
  "language_info": {
   "codemirror_mode": {
    "name": "ipython",
    "version": 3
   },
   "file_extension": ".py",
   "mimetype": "text/x-python",
   "name": "python",
   "nbconvert_exporter": "python",
   "pygments_lexer": "ipython3",
   "version": "3.9.7"
  }
 },
 "nbformat": 4,
 "nbformat_minor": 5
}
