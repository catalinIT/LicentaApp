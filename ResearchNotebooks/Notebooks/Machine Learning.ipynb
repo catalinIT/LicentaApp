{
 "cells": [
  {
   "cell_type": "code",
   "execution_count": 1,
   "id": "a5a2d634",
   "metadata": {},
   "outputs": [],
   "source": [
    "# Packages for Data Manipulation\n",
    "import numpy as np\n",
    "import pandas as pd\n",
    "import os\n",
    "from collections import Counter\n",
    "import spacy\n",
    "\n",
    "# for NLP\n",
    "import re\n",
    "import unicodedata\n",
    "from bs4 import BeautifulSoup\n",
    "\n",
    "# Packages for Graphics\n",
    "import matplotlib as mpl\n",
    "import matplotlib.pyplot as plt\n",
    "import seaborn as sns\n",
    "\n",
    "# Packages for ML\n",
    "from sklearn.feature_extraction.text import CountVectorizer\n",
    "from sklearn.feature_extraction.text import TfidfVectorizer\n",
    "from sklearn.model_selection import train_test_split\n",
    "from sklearn.model_selection import GridSearchCV\n",
    "from sklearn.model_selection import KFold\n",
    "from sklearn.model_selection import cross_val_score\n",
    "\n",
    "from sklearn.ensemble import RandomForestClassifier\n",
    "from sklearn.linear_model import LogisticRegression\n",
    "from sklearn.naive_bayes import MultinomialNB\n",
    "\n",
    "from sklearn import metrics\n",
    "from sklearn.metrics import accuracy_score\n",
    "from sklearn.metrics import roc_curve\n",
    "from sklearn.metrics import roc_auc_score\n",
    "from sklearn.metrics import precision_recall_curve\n",
    "from sklearn.metrics import average_precision_score\n",
    "from sklearn.metrics import classification_report\n",
    "from sklearn.metrics import confusion_matrix\n",
    "from sklearn.metrics import fbeta_score\n",
    "from sklearn.pipeline import Pipeline\n",
    "from sklearn.preprocessing import StandardScaler\n",
    "\n",
    "# to see all the cells and data in the dataframes\n",
    "pd.set_option('display.width', 500)\n",
    "pd.set_option('display.max_columns', 300)\n",
    "pd.set_option('display.max_colwidth', 300) \n",
    "\n",
    "# to hide warnings about train/test size for train_test_split\n",
    "import warnings\n",
    "warnings.filterwarnings('ignore')"
   ]
  },
  {
   "cell_type": "code",
   "execution_count": 2,
   "id": "bddd3d39",
   "metadata": {},
   "outputs": [
    {
     "data": {
      "text/html": [
       "<div>\n",
       "<style scoped>\n",
       "    .dataframe tbody tr th:only-of-type {\n",
       "        vertical-align: middle;\n",
       "    }\n",
       "\n",
       "    .dataframe tbody tr th {\n",
       "        vertical-align: top;\n",
       "    }\n",
       "\n",
       "    .dataframe thead th {\n",
       "        text-align: right;\n",
       "    }\n",
       "</style>\n",
       "<table border=\"1\" class=\"dataframe\">\n",
       "  <thead>\n",
       "    <tr style=\"text-align: right;\">\n",
       "      <th></th>\n",
       "      <th>veracity</th>\n",
       "      <th>statement</th>\n",
       "    </tr>\n",
       "  </thead>\n",
       "  <tbody>\n",
       "    <tr>\n",
       "      <th>3</th>\n",
       "      <td>0</td>\n",
       "      <td>\"Tim Kaine doesn’t want a border at all. He wants to get rid of Immigration and Customs Enforcement and basically the border patrol as well.\"</td>\n",
       "    </tr>\n",
       "    <tr>\n",
       "      <th>5</th>\n",
       "      <td>0</td>\n",
       "      <td>\"The deficit ... is coming down, and it’s coming down rapidly.\"</td>\n",
       "    </tr>\n",
       "    <tr>\n",
       "      <th>20</th>\n",
       "      <td>1</td>\n",
       "      <td>\"Migrant mother and ‘crying girl’ on Time cover never separated.\"</td>\n",
       "    </tr>\n",
       "    <tr>\n",
       "      <th>23</th>\n",
       "      <td>0</td>\n",
       "      <td>\"Fact: Over 90,000 kids were detained under Obama. And no one cared.\"</td>\n",
       "    </tr>\n",
       "    <tr>\n",
       "      <th>24</th>\n",
       "      <td>0</td>\n",
       "      <td>\"$1 billion—that’s how much Bruce Rauner has wasted with his budget crisis.\"</td>\n",
       "    </tr>\n",
       "  </tbody>\n",
       "</table>\n",
       "</div>"
      ],
      "text/plain": [
       "    veracity                                                                                                                                      statement\n",
       "3          0  \"Tim Kaine doesn’t want a border at all. He wants to get rid of Immigration and Customs Enforcement and basically the border patrol as well.\"\n",
       "5          0                                                                                \"The deficit ... is coming down, and it’s coming down rapidly.\"\n",
       "20         1                                                                              \"Migrant mother and ‘crying girl’ on Time cover never separated.\"\n",
       "23         0                                                                          \"Fact: Over 90,000 kids were detained under Obama. And no one cared.\"\n",
       "24         0                                                                   \"$1 billion—that’s how much Bruce Rauner has wasted with his budget crisis.\""
      ]
     },
     "execution_count": 2,
     "metadata": {},
     "output_type": "execute_result"
    }
   ],
   "source": [
    "# csv to df\n",
    "path = os.path.abspath('politifact_balanced_data.csv')\n",
    "df = pd.read_csv(path, index_col=0)\n",
    "\n",
    "# specify rows of importance\n",
    "df = df[[\"veracity\", \"statement\"]]\n",
    "\n",
    "# See sample of data\n",
    "df.head(5)"
   ]
  },
  {
   "cell_type": "code",
   "execution_count": 3,
   "id": "dda80cf6",
   "metadata": {},
   "outputs": [
    {
     "name": "stdout",
     "output_type": "stream",
     "text": [
      "<class 'pandas.core.frame.DataFrame'>\n",
      "Int64Index: 2165 entries, 3 to 11183\n",
      "Data columns (total 2 columns):\n",
      " #   Column     Non-Null Count  Dtype \n",
      "---  ------     --------------  ----- \n",
      " 0   veracity   2165 non-null   int64 \n",
      " 1   statement  2165 non-null   object\n",
      "dtypes: int64(1), object(1)\n",
      "memory usage: 50.7+ KB\n"
     ]
    }
   ],
   "source": [
    "df.info()"
   ]
  },
  {
   "cell_type": "code",
   "execution_count": 4,
   "id": "000b4db1",
   "metadata": {},
   "outputs": [
    {
     "name": "stdout",
     "output_type": "stream",
     "text": [
      "true statements:  1070\n",
      "false statements:  1095\n",
      "chance of truth baseline:  0.49\n",
      "chance of false baseline:  0.51\n"
     ]
    }
   ],
   "source": [
    "# this cell is most useful for imbalanced data; here we use it only for verification\n",
    "# ratio of true to false in the data set (i.e., our \"chance\" baseline)\n",
    "print(\"true statements: \", round(len(df.veracity[df.veracity == 1]),2))\n",
    "print(\"false statements: \", round(len(df.veracity[df.veracity == 0]),2))\n",
    "\n",
    "tru_count = len(df.veracity[df.veracity == 1])\n",
    "fal_count = len(df.veracity[df.veracity == 0])\n",
    "\n",
    "print(\"chance of truth baseline: \", round(tru_count/(tru_count + fal_count),2)) # len(df) as denominator also works\n",
    "print(\"chance of false baseline: \", round(fal_count/(tru_count + fal_count),2))"
   ]
  },
  {
   "cell_type": "markdown",
   "id": "7ed86547",
   "metadata": {},
   "source": [
    "# Creating normalized text"
   ]
  },
  {
   "cell_type": "code",
   "execution_count": 5,
   "id": "63c4fed2",
   "metadata": {},
   "outputs": [],
   "source": [
    "import en_core_web_sm\n",
    "\n",
    "nlp = en_core_web_sm.load()\n",
    "\n",
    "def strip_html_tags(text):\n",
    "            soup = BeautifulSoup(text, \"html.parser\")\n",
    "            [s.extract() for s in soup([\"iframe\", \"script\"])]\n",
    "            stripped_text = soup.get_text()\n",
    "            stripped_text = re.sub(r'[\\r|\\n|\\r\\n]+', '\\n', stripped_text)\n",
    "            return stripped_text\n",
    "        \n",
    "def remove_accented_characters(text):\n",
    "    text = unicodedata.normalize('NFKD', text).encode('ascii', 'ignore').decode('utf-8', 'ignore')\n",
    "    return text"
   ]
  },
  {
   "cell_type": "code",
   "execution_count": 6,
   "id": "0ea89bdd",
   "metadata": {},
   "outputs": [],
   "source": [
    "# lemmatization function\n",
    "def normalize(text, \n",
    "              remove_html = False, \n",
    "              lowercase = False,\n",
    "              lemmatize = False,\n",
    "              remove_extra_newlines = False,\n",
    "              remove_stopwords = False,\n",
    "              remove_non_alphabetic = False,\n",
    "              remove_accented_char = False,\n",
    "              ):\n",
    "        \n",
    "    # remove html\n",
    "    if remove_html:\n",
    "        text = strip_html_tags(text)\n",
    "\n",
    "    # lowercase all text\n",
    "    if lowercase:\n",
    "        text = text.lower()\n",
    "        \n",
    "    # lemmatize\n",
    "    if lemmatize:        \n",
    "        text = nlp(text)\n",
    "        text = ' '.join([word.lemma_ if word.lemma_ != '-PRON-' else word.text for word in text])\n",
    "        \n",
    "    # remove extra new lines    \n",
    "    if remove_extra_newlines:\n",
    "        text = re.sub(r'[\\r|\\n|\\r\\n]+', ' ', text)\n",
    "    \n",
    "    # remove stopwords\n",
    "    if remove_stopwords:\n",
    "        stopwords = spacy.lang.en.stop_words.STOP_WORDS\n",
    "        text = nlp(text)\n",
    "        text = ' '.join([token.text for token in text if token.text not in stopwords])\n",
    "    \n",
    "    # remove non-alphabetic characters\n",
    "    if remove_non_alphabetic:\n",
    "        text = nlp(text)\n",
    "        text = ' '.join([token.text for token in text if token.text.isalpha()])\n",
    "        \n",
    "    # remove accented characters\n",
    "    if remove_accented_char:\n",
    "        text = remove_accented_characters(text)\n",
    "\n",
    "    return text"
   ]
  },
  {
   "cell_type": "markdown",
   "id": "87117112",
   "metadata": {},
   "source": [
    "# Light Normalization"
   ]
  },
  {
   "cell_type": "code",
   "execution_count": 7,
   "id": "2cda8109",
   "metadata": {},
   "outputs": [
    {
     "data": {
      "text/plain": [
       "\"@ ! i don'ttt, won't, a feel    can't not using the  nlp 27x maaaah?\""
      ]
     },
     "execution_count": 7,
     "metadata": {},
     "output_type": "execute_result"
    }
   ],
   "source": [
    "# sample of light normalizer\n",
    "string = \"@ ! i DON'TTT, won't, a féél    can't not USING the  NLP 27x maaaah?\"\n",
    "\n",
    "normalize(string, \n",
    "          remove_html = True, \n",
    "          lowercase = True,\n",
    "          remove_extra_newlines = True,\n",
    "          remove_accented_char = True)"
   ]
  },
  {
   "cell_type": "code",
   "execution_count": 8,
   "id": "e0b4e7cc",
   "metadata": {},
   "outputs": [],
   "source": [
    "df[\"light_normalization\"] = df.statement.apply(lambda x : normalize(x, \n",
    "                                                                  remove_html = True, \n",
    "                                                                  lowercase = True,\n",
    "                                                                  remove_extra_newlines = True,\n",
    "                                                                  remove_accented_char = True))"
   ]
  },
  {
   "cell_type": "markdown",
   "id": "536c0cb7",
   "metadata": {},
   "source": [
    "# Full Normalization"
   ]
  },
  {
   "cell_type": "code",
   "execution_count": 9,
   "id": "5e8da2d9",
   "metadata": {},
   "outputs": [
    {
     "data": {
      "text/plain": [
       "'I feel use nlp maaaah'"
      ]
     },
     "execution_count": 9,
     "metadata": {},
     "output_type": "execute_result"
    }
   ],
   "source": [
    "# sample of full normalizer\n",
    "normalize(string, \n",
    "          remove_html = True, \n",
    "          lowercase = True,\n",
    "          remove_extra_newlines = True,\n",
    "          remove_accented_char = True,\n",
    "          lemmatize = True, # note that lemmatize does not work properly if text is not lowercased first\n",
    "          remove_stopwords = True,\n",
    "          remove_non_alphabetic = True) \n",
    "\n",
    "# non_alphabetic will remove not only non-alphabetic characters, but also blank spaces"
   ]
  },
  {
   "cell_type": "code",
   "execution_count": 10,
   "id": "a4d2a1c9",
   "metadata": {},
   "outputs": [],
   "source": [
    "df[\"full_normalization\"] = df.statement.apply(lambda x : normalize(x, \n",
    "                                                                    remove_html = True, \n",
    "                                                                    lowercase = True,\n",
    "                                                                    remove_extra_newlines = True,\n",
    "                                                                    remove_accented_char = True,\n",
    "                                                                    lemmatize = True,\n",
    "                                                                    remove_stopwords = True,\n",
    "                                                                    remove_non_alphabetic = True))"
   ]
  },
  {
   "cell_type": "code",
   "execution_count": 11,
   "id": "2bd3fcb8",
   "metadata": {},
   "outputs": [
    {
     "data": {
      "text/html": [
       "<div>\n",
       "<style scoped>\n",
       "    .dataframe tbody tr th:only-of-type {\n",
       "        vertical-align: middle;\n",
       "    }\n",
       "\n",
       "    .dataframe tbody tr th {\n",
       "        vertical-align: top;\n",
       "    }\n",
       "\n",
       "    .dataframe thead th {\n",
       "        text-align: right;\n",
       "    }\n",
       "</style>\n",
       "<table border=\"1\" class=\"dataframe\">\n",
       "  <thead>\n",
       "    <tr style=\"text-align: right;\">\n",
       "      <th></th>\n",
       "      <th>veracity</th>\n",
       "      <th>statement</th>\n",
       "      <th>light_normalization</th>\n",
       "      <th>full_normalization</th>\n",
       "    </tr>\n",
       "  </thead>\n",
       "  <tbody>\n",
       "    <tr>\n",
       "      <th>3</th>\n",
       "      <td>0</td>\n",
       "      <td>\"Tim Kaine doesn’t want a border at all. He wants to get rid of Immigration and Customs Enforcement and basically the border patrol as well.\"</td>\n",
       "      <td>\"tim kaine doesnt want a border at all. he wants to get rid of immigration and customs enforcement and basically the border patrol as well.\"</td>\n",
       "      <td>tim kaine want border want rid immigration custom enforcement basically border patrol</td>\n",
       "    </tr>\n",
       "  </tbody>\n",
       "</table>\n",
       "</div>"
      ],
      "text/plain": [
       "   veracity                                                                                                                                      statement                                                                                                                           light_normalization                                                                     full_normalization\n",
       "3         0  \"Tim Kaine doesn’t want a border at all. He wants to get rid of Immigration and Customs Enforcement and basically the border patrol as well.\"  \"tim kaine doesnt want a border at all. he wants to get rid of immigration and customs enforcement and basically the border patrol as well.\"  tim kaine want border want rid immigration custom enforcement basically border patrol"
      ]
     },
     "execution_count": 11,
     "metadata": {},
     "output_type": "execute_result"
    }
   ],
   "source": [
    "df.head(1)"
   ]
  },
  {
   "cell_type": "markdown",
   "id": "a3e45970",
   "metadata": {},
   "source": [
    "# Bag of Words (BoW) Model: Vectorizing Text\n",
    "\n",
    "### This is the process of turning text into a series of numbers (vectors) for machine learning models\n",
    "\n",
    "##### each word is mapped to its frequency as follows:\n",
    "\n",
    "##### step 1 - original sentence -> NLP is amazing; truly NLP is amazing.\n",
    "\n",
    "##### step 2 - unique words arranged alphabetically -> amazing, is, NLP, truly\n",
    "\n",
    "##### step 3 - mapped to frequency -> (2, 2, 2, 1)"
   ]
  },
  {
   "cell_type": "code",
   "execution_count": 12,
   "id": "8f7dc363",
   "metadata": {},
   "outputs": [],
   "source": [
    "class Binary_Classification:\n",
    "    def __init__(self, \n",
    "                 x = None, \n",
    "                 y = None, \n",
    "                 scoring = None, \n",
    "                 test_size = 0.3, \n",
    "                 n_folds = 3, \n",
    "                 standardize = False,\n",
    "                 nlp = False,\n",
    "                 vectorizer = None): \n",
    "        \n",
    "        self.x = x # features as df\n",
    "        self.y = y # target as df\n",
    "        self.scoring = scoring # example: \"accuracy\", \"f1\", \"roc_auc\"\n",
    "        self.test_size = test_size # set to .3 by default\n",
    "        self.n_folds = n_folds # set to 5 by default\n",
    "        self.standardize = standardize\n",
    "        self.x_train, self.x_test, self.y_train, self.y_test = \\\n",
    "        train_test_split(self.x, \n",
    "                         self.y, \n",
    "                         test_size = self.test_size, \n",
    "                         random_state = 0)\n",
    "        if nlp:\n",
    "            self.x_train = vectorizer.fit_transform(self.x_train)\n",
    "            self.x_test = vectorizer.transform(self.x_test)\n",
    "    \n",
    "    \"\"\" \n",
    "    .examine_model attribute has two functions within it:\n",
    "    (1) model_and_grid => using a model's name, it returns the model with cvgrid\n",
    "    (2) best_model => using model_and_grid, finds best hyperparameters for model\n",
    "    \"\"\"\n",
    "    \n",
    "    def examine_model(self, model_name):\n",
    "        \n",
    "        def model_and_grid(model_name):\n",
    "            if model_name == \"log_reg\":\n",
    "                model = LogisticRegression()\n",
    "                grid = {'C' : [0.001, 0.1, 1, 10, 100]}\n",
    "                return model, grid\n",
    "\n",
    "            elif model_name == \"knn\":\n",
    "                model = KNeighborsClassifier()\n",
    "                grid = {\"n_neighbors\" : [3,6,9,12]}\n",
    "                return model, grid\n",
    "            \n",
    "            elif model_name == \"gnb\":\n",
    "                model = GaussianNB()\n",
    "                grid = {\"var_smoothing\" : [1e-01, 1e-05, 1e-09, 1e-15]}\n",
    "                return model, grid\n",
    "            \n",
    "            elif model_name == \"mnb\":\n",
    "                model = MultinomialNB()\n",
    "                grid = {\"alpha\" : [.1, 1, 5, 10, 50]}\n",
    "                return model, grid\n",
    "            \n",
    "            elif model_name == \"ran_for\":\n",
    "                model = RandomForestClassifier(random_state=0)\n",
    "                grid = {'n_estimators' : [1, 30], \n",
    "                        'max_features' : ['auto', 'log2'],  \n",
    "                        'max_depth' : [ 3, 5, 7, 10, 12, 15], \n",
    "                        'criterion' : ['gini', 'entropy']}\n",
    "                return model, grid\n",
    "\n",
    "            elif model_name == \"xgb\":\n",
    "                model = XGBClassifier()\n",
    "                grid = { \n",
    "                          \"max_depth\"         : [2, 4, 8, 16],\n",
    "                          \"alpha\"             : [10, 20, 30],\n",
    "                          \"lambda\"            : [10, 20, 30],\n",
    "        #                  \"min_child_weight\" : [  1,  5],\n",
    "        #                  \"colsample_bytree\" : [ .3, .7],\n",
    "        #                  \"learning_rate\"    : [.10, .30],\n",
    "        #                  \"gamma\"            : [  0, .5, 5],\n",
    "        #                  \"eta\"              : [0.05, 0.20]\n",
    "                }  \n",
    "                return model, grid\n",
    "        \n",
    "        def best_model(model, grid):\n",
    "            gs = GridSearchCV(model, param_grid=grid, cv=self.n_folds, scoring=self.scoring)\n",
    "            gs.fit(self.x_train, self.y_train.iloc[:,0])\n",
    "            print(\"CV \" + self.scoring.upper() + \" SCORE:\", round(gs.best_score_, 2))\n",
    "            print(\"CV PARAMS: \", gs.best_params_)\n",
    "            #print(\"BEST MODEL: \", gs.best_estimator_)\n",
    "            best_model = gs.best_estimator_\n",
    "            return best_model\n",
    "\n",
    "        model, grid = model_and_grid(model_name)\n",
    "        best_mod = best_model(model, grid)\n",
    "        return best_mod\n",
    "\n",
    "    \"\"\" \n",
    "    .compare attribute uses examine_model to compare all models\n",
    "    \"\"\"\n",
    "    \n",
    "    def compare(self):\n",
    "        z = 0\n",
    "        mods = [\"log_reg\", \n",
    "                #\"knn\", \n",
    "                #\"gnb\", \n",
    "                \"mnb\", \n",
    "                \"ran_for\",\n",
    "                #\"xgb\"\n",
    "               ]\n",
    "        for name in mods:\n",
    "            print(\"*** \" + mods[z] + \" ***\")\n",
    "            self.examine_model(name)\n",
    "            print(\"\")\n",
    "            z += 1\n",
    "    \n",
    "    \"\"\" \n",
    "    .test_scores attribute uses examine_model to report various metrics on training & test data\n",
    "    \"\"\"\n",
    "    \n",
    "    def test_scores(self, \n",
    "                    model_name = None, \n",
    "                    verbose_results = False, \n",
    "                    all_metrics = True): \n",
    "        model = self.examine_model(model_name)\n",
    "        y_pred_train = model.predict(self.x_train)\n",
    "        y_pred_test = model.predict(self.x_test)\n",
    "        y_prob_train = model.predict_proba(self.x_train)[:,1]\n",
    "        y_prob_test = model.predict_proba(self.x_test)[:,1]\n",
    "        \n",
    "        print()\n",
    "        \"\"\" Accuracy \"\"\"\n",
    "        ## number of correct predictions made / total number of predictions made\n",
    "        ### accuracy is not a good metric for imbalanced data\n",
    "        if self.scoring == \"accuracy\" or all_metrics:\n",
    "            accuracy_training = model.score(self.x_train, self.y_train)\n",
    "            tru_count_train = Counter(self.y_train.iloc[:,0])[True]\n",
    "            fal_count_train = Counter(self.y_train.iloc[:,0])[False]\n",
    "\n",
    "            # test baseline\n",
    "#             print(\"chance of true in training (baseline): \", \n",
    "#                   round(tru_count_train/(tru_count_train + fal_count_train),2))\n",
    "#             print(\"chance of false in training (baseline): \", \n",
    "#                   round(fal_count_train/(tru_count_train + fal_count_train),2))\n",
    "            \n",
    "#             print(\"Accuracy on training data: {:0.2f}\".format(accuracy_training))\n",
    "#             print()\n",
    "\n",
    "            accuracy_test = model.score(self.x_test, self.y_test)\n",
    "            tru_count_test = Counter(self.y_test.iloc[:,0])[True]\n",
    "            fal_count_test = Counter(self.y_test.iloc[:,0])[False]\n",
    "\n",
    "            # test baseline\n",
    "#                 print(\"chance of true in test (baseline): \", \n",
    "#                       round(tru_count_test/(tru_count_test + fal_count_test),2))\n",
    "#                 print(\"chance of false in test (baseline): \", \n",
    "#                       round(fal_count_test/(tru_count_test + fal_count_test),2))\n",
    "\n",
    "            print(\"Accuracy on test data: {:0.2f}\".format(accuracy_test))\n",
    "            print()\n",
    "\n",
    "        \"\"\" ROC AUC \"\"\"\n",
    "        ## How well model distinguishs between classes\n",
    "        ### Higher the AUC, better the model is at predicting 0 as 0 and 1 as 1\n",
    "        #### https://towardsdatascience.com/understanding-auc-roc-curve-68b2303cc9c5\n",
    "        if self.scoring == \"roc_auc\" or all_metrics:\n",
    "            roc_auc_score_training = roc_auc_score(self.y_train.iloc[:,0], y_prob_train)\n",
    "#             print(\"ROC AUC on training data:{:0.2f}\".format(roc_auc_score_training))\n",
    "\n",
    "            roc_auc_score_test = roc_auc_score(self.y_test.iloc[:,0], y_prob_test)\n",
    "            print(\"ROC AUC on test data: {:0.2f}\\n\".format(roc_auc_score_test))\n",
    "                \n",
    "        \"\"\" F1 (f-one) Score \"\"\"\n",
    "        ## F1 Score = 2*((precision*recall)/(precision+recall))\n",
    "        if self.scoring == \"f1\" or all_metrics:\n",
    "            f1_train = metrics.f1_score(self.y_train.iloc[:,0], y_pred_train)\n",
    "#             print(\"F1 on training data:{:0.2f}\".format(f1_train))\n",
    "\n",
    "            f1_test = metrics.f1_score(self.y_test.iloc[:,0], y_pred_test)\n",
    "            print(\"F1 on test data: {:0.2f}\".format(f1_test))\n",
    "            print()\n",
    "\n",
    "        \"\"\" Classification Report \"\"\"\n",
    "        ## Precision = TP / TP + FP\n",
    "        ## Recall = TP/ TP + FN\n",
    "        class_repo = classification_report(self.y_test,y_pred_test)\n",
    "        print(\"Classification Report on test data:\\n\", class_repo)\n",
    "            \n",
    "        \"\"\" Confusion matrix \"\"\"\n",
    "        def print_confusion_matrix(confusion_matrix, \n",
    "                           class_names,\n",
    "                           #figsize = (2,2), fontsize=20\n",
    "                          ):\n",
    "    \n",
    "            \"\"\"Prints a confusion matrix, as returned by sklearn.metrics.confusion_matrix, as a heatmap.\n",
    "            2 benefits: (1) mieruka (i.e., visual control) and \n",
    "            (2) colors change depending on values (larger values generate darker colors)\n",
    "            \n",
    "            if you're wondering what mieruka is: \n",
    "            https://harishsnotebook.wordpress.com/2016/05/05/visibilization-crime-fighting-magic-and-mieruka/\n",
    "\n",
    "            Arguments\n",
    "            ---------\n",
    "            confusion_matrix: numpy.ndarray\n",
    "                The numpy.ndarray object returned from a call to sklearn.metrics.confusion_matrix. \n",
    "                Similarly constructed ndarrays can also be used.\n",
    "            class_names: list\n",
    "                An ordered list of class names, in the order they index the given confusion matrix.\n",
    "            figsize: tuple\n",
    "                A 2-long tuple, the first value determining the horizontal size of the ouputted figure,\n",
    "                the second determining the vertical size. Defaults to (10,7).\n",
    "            fontsize: int\n",
    "                Font size for axes labels. Defaults to 14.\n",
    "\n",
    "            Returns\n",
    "            -------\n",
    "            matplotlib.figure.Figure\n",
    "                The resulting confusion matrix figure\n",
    "            \"\"\"\n",
    "\n",
    "            df_cm = pd.DataFrame(\n",
    "                confusion_matrix, \n",
    "                index=class_names, \n",
    "                columns=class_names, \n",
    "            )\n",
    "\n",
    "            fig = plt.figure(#figsize=figsize\n",
    "            )\n",
    "\n",
    "            try:\n",
    "                heatmap = sns.heatmap(df_cm, \n",
    "                                      annot=True, \n",
    "                                      fmt=\"d\", \n",
    "                                      cbar=False, \n",
    "                                      cmap=\"YlGnBu\")\n",
    "            except ValueError:\n",
    "                raise ValueError(\"Confusion matrix values must be integers.\")\n",
    "\n",
    "                heatmap.yaxis.set_ticklabels(heatmap.yaxis.get_ticklabels(), \n",
    "                                             rotation=0, \n",
    "                                             ha='right', \n",
    "                                             #fontsize=fontsize\n",
    "                                            )\n",
    "\n",
    "                heatmap.xaxis.set_ticklabels(heatmap.xaxis.get_ticklabels(), \n",
    "                                             rotation=45, \n",
    "                                             ha='right', \n",
    "                                             #fontsize=fontsize\n",
    "                                            )\n",
    "\n",
    "            plt.title('Test Confusion Matrix')\n",
    "            plt.ylabel('Correct label')\n",
    "            plt.xlabel('Predicted label')\n",
    "            \n",
    "        c_matrix = confusion_matrix(self.y_test, y_pred_test)\n",
    "        print_confusion_matrix(c_matrix, [False, True])\n",
    "        \n",
    "        if verbose_results:\n",
    "            #Plot ROC curve\n",
    "            fpr, tpr, thresholds = roc_curve(self.y_test, y_prob_test)\n",
    "            plt.plot([0, 1], [0, 1], 'k--')\n",
    "            plt.plot(fpr, tpr)\n",
    "            plt.xlabel('False Positive Rate')\n",
    "            plt.ylabel('True Positive Rate')\n",
    "            plt.title('ROC Curve')\n",
    "            plt.show()\n",
    "            print(\"\")    \n",
    "                \n",
    "            # Threshold Plot\n",
    "            precision, recall, thresholds = precision_recall_curve(self.y_test, y_prob_test)\n",
    "            f1 = []\n",
    "            acc = []\n",
    "            roc = []\n",
    "            avg_pr = []\n",
    "\n",
    "            def adjust_pred_prob(y_prob_test, new_threshold):\n",
    "                return [1 if prob >= new_threshold else 0 for prob in y_prob_test]\n",
    "\n",
    "            for t in thresholds:\n",
    "                adjusted_y_pred = adjust_pred_prob(y_prob_test, t)\n",
    "                add_f1 = metrics.f1_score(self.y_test, adjusted_y_pred)\n",
    "                f1.append(add_f1)\n",
    "                \n",
    "            for t in thresholds:\n",
    "                adjusted_y_pred = adjust_pred_prob(y_prob_test, t)\n",
    "                add_acc = accuracy_score(self.y_test, adjusted_y_pred)\n",
    "                acc.append(add_acc)\n",
    "                \n",
    "            for t in thresholds:\n",
    "                adjusted_y_pred = adjust_pred_prob(y_prob_test, t)\n",
    "                add_avg_pr = average_precision_score(self.y_test, adjusted_y_pred)\n",
    "                avg_pr.append(add_avg_pr)\n",
    "                \n",
    "#             ## Retrieve probability of being 1(in second column of probs_y)\n",
    "#             pr_auc = metrics.auc(recall, precision)\n",
    "\n",
    "            plt.title(\"Precision-Recall-Accuracy vs Threshold\")\n",
    "            plt.plot(thresholds, precision[: -1], \"b-\", label=\"Precision\")\n",
    "            plt.plot(thresholds, recall[: -1], \"r-\", label=\"Recall\")\n",
    "            #plt.plot(thresholds, avg_pr, \"k-\", label=\"Average Precision Recall\")\n",
    "            #plt.plot(thresholds, f1, \"k-\", label=\"F1_Score\")\n",
    "            plt.plot(thresholds, acc, \"g-\", label=\"Accuracy\")\n",
    "            \n",
    "            max_acc_x = thresholds[np.argmax(acc)]\n",
    "            plt.axvline(x=max_acc_x, ymin=0.00, ymax=max(acc), color='g', linestyle='-')\n",
    "            #plt.axhline(y=max(acc), color='g', linestyle='--')\n",
    "            #plt.text(max_acc_x, max(acc), (\"Max Accuracy \" + str(round(max_acc_x,2))), rotation=90)\n",
    "            \n",
    "            #max_f1_x = thresholds[np.argmax(f1)]\n",
    "            #plt.axvline(x=max_f1_x, color='k', linestyle='--')\n",
    "            #plt.axhline(y=max(f1), color='k', linestyle='--')\n",
    "            #plt.text(max_f1_x, max(f1), (\"Max F1 Score \" + str(round(max_f1_x,2))), rotation=90)\n",
    "                        \n",
    "            plt.ylabel(\"Score\")\n",
    "            plt.xlabel(\"Threshold\")\n",
    "            \n",
    "            #plt.text(intersect_x, intersect_y, 'PR Intersect', rotation=90)\n",
    "            plt.legend(loc=\"lower left\")\n",
    "            plt.ylim([0,1])\n",
    "            plt.show()\n",
    "            print(\"Maximum Accuracy: \" + str(round(max(acc),2)) + \" @ Threshold: \" + str(round(max_acc_x,2)))\n",
    "            #print(\"Maximum F1 Score: \" + str(round(max(f1),2)) + \" @ Threshold: \" + str(round(max_f1_x,2)))\n",
    "            \n",
    "            \"\"\" \n",
    "            Varying Fscore's beta vs Varying Thresholds\n",
    "            \n",
    "            The beta parameter determines the weight of recall in the combined score. \n",
    "            beta < 1 lends more weight to precision, while \n",
    "            beta > 1 favors recall \n",
    "            (beta -> 0 considers only precision, beta -> inf only recall).\n",
    "            \"\"\"\n",
    "\n",
    "            f025 = []\n",
    "            f050 = []\n",
    "            f075 = []\n",
    "            f100 = []\n",
    "            f125 = []\n",
    "            f150 = []\n",
    "            f200 = []\n",
    "\n",
    "            def fbeta_testing(beta, fxxx):\n",
    "                for t in thresholds:\n",
    "                    adjusted_y_pred = adjust_pred_prob(y_prob_test, t)\n",
    "                    add_fbeta = metrics.fbeta_score(self.y_test, adjusted_y_pred, beta)\n",
    "                    fxxx.append(add_fbeta)\n",
    "\n",
    "            betas = [0.25, 0.50, 0.75, 1.00, 1.25, 1.50, 2.00]\n",
    "            flist = [f025, f050, f075, f100, f125, f150, f200]\n",
    "\n",
    "            z = 0\n",
    "            for beta in betas:\n",
    "                fbeta_testing(beta, flist[z])\n",
    "                z += 1\n",
    "\n",
    "            plt.title(\"F_Beta_Score vs Threshold: Varying Betas\")\n",
    "            #plt.plot(thresholds, f025, \"r-\", label=\"F0.25\")\n",
    "            plt.plot(thresholds, f050, \"m-\", label=\"F0.50\")\n",
    "            #plt.plot(thresholds, f075, \"g-\", label=\"F0.75\")\n",
    "            plt.plot(thresholds, f100, \"c-\", label=\"F1.00\")\n",
    "            #plt.plot(thresholds, f125, \"b-\", label=\"F1.25\")\n",
    "            #plt.plot(thresholds, f150, \"k-\", label=\"F1.50\")\n",
    "            plt.plot(thresholds, f200, \"y-\", label=\"F2.00\")\n",
    "            #plt.axvline(.425, color='k', linestyle='--')\n",
    "            #plt.axvline(.45, color='k', linestyle='-')\n",
    "            \n",
    "            max_f050_x = thresholds[np.argmax(f050)]\n",
    "            plt.axvline(x=max_f050_x, ymin=0.00, ymax=max(f050), color='m', linestyle='-')\n",
    "            max_f100_x = thresholds[np.argmax(f100)]\n",
    "            plt.axvline(x=max_f100_x,ymin=0.00, ymax=max(f100), color='c', linestyle='-')\n",
    "            max_f200_x = thresholds[np.argmax(f200)]\n",
    "            plt.axvline(x=max_f200_x, ymin=0.00, ymax=max(f200), color='y', linestyle='-')\n",
    "            \n",
    "            plt.ylabel(\"F_Beta_Score\")\n",
    "            plt.xlabel(\"Threshold\")\n",
    "            plt.legend(loc=\"lower left\")\n",
    "            plt.ylim([0,1])\n",
    "            plt.show()\n",
    "            \n",
    "            print(\"Maximum F0.5 Score: \" + str(round(max(f050),2)) + \" @ Threshold: \" + str(round(max_f050_x,2)))\n",
    "            print(\"Maximum F1   Score: \" + str(round(max(f100),2)) + \" @ Threshold: \" + str(round(max_f100_x,2)))\n",
    "            print(\"Maximum F2.0 Score: \" + str(round(max(f200),2)) + \" @ Threshold: \" + str(round(max_f200_x,2)))\n",
    "\n",
    "            \"\"\" Threshold = 0.5, varying fscore's beta \"\"\"\n",
    "\n",
    "            betas = [0.25,0.50,0.75,1.00,1.25,1.50,2.00]\n",
    "            fbetas = []\n",
    "\n",
    "            for beta in betas:\n",
    "                score = fbeta_score(self.y_test, y_pred_test, beta=beta)\n",
    "                fbetas.append(score)\n",
    "        \n",
    "    def feature_importance(self, model_name): \n",
    "        model = self.examine_model(model_name)\n",
    "        fitted = model.fit(self.x_train, self.y_train.iloc[:,0])\n",
    "        \n",
    "        importances = fitted.feature_importances_\n",
    "        indices = np.argsort(importances)\n",
    "        features = self.x_train.columns\n",
    "        plt.title('Feature Importances')\n",
    "        plt.barh(range(len(indices)), importances[indices], color='grey', align='center')\n",
    "        plt.yticks(range(len(indices)), [features[i] for i in indices])\n",
    "        plt.xlabel('Relative Importance')\n",
    "        plt.ylabel('Features')\n",
    "        plt.show()\n",
    "    \n",
    "    \"\"\" \n",
    "    .permutation_importance attribute uses examine_model to report features in order of importance\n",
    "    \"\"\"\n",
    "    def permutation_importance(self, model_name): \n",
    "        # https://www.kaggle.com/dansbecker/permutation-importance\n",
    "        model = self.examine_model(model_name)\n",
    "        fitted = model.fit(self.x_train, self.y_train.iloc[:,0])\n",
    "        \n",
    "        perm = PermutationImportance(fitted, random_state=0).fit(self.x_test, self.y_test.iloc[:,0])\n",
    "        return eli5.show_weights(perm, feature_names = self.x_test.columns.tolist())\n",
    "    \n",
    "    def shap_summary_plot(self, model_name): \n",
    "        \"\"\"Calculating SHAP values can be slow\"\"\"\n",
    "        # https://www.kaggle.com/dansbecker/advanced-uses-of-shap-values\n",
    "        \n",
    "        model = self.examine_model(model_name)\n",
    "        fitted = model.fit(self.x_train, self.y_train.iloc[:,0])\n",
    "        \n",
    "        if model_name == \"ran_for\":\n",
    "            explainer = shap.TreeExplainer(fitted)\n",
    "            shap_values = explainer.shap_values(self.x_test)\n",
    "            # we index in ([1]) to get the SHAP values for the prediction of \"True\"\n",
    "            return shap.summary_plot(shap_values[1], self.x_test)\n",
    "        \n",
    "        else:     \n",
    "            \"\"\" KernelExplainer cannot handle boolean values, they must be converted to int \"\"\"\n",
    "            x_train_summary = shap.kmeans(self.x_train, 3)\n",
    "            explainer = shap.KernelExplainer(fitted.predict, x_train_summary)\n",
    "            shap_values = explainer.shap_values(self.x_test)\n",
    "            return shap.summary_plot(shap_values, self.x_test)\n",
    "    \n",
    "    def coefficients(self, model_name):\n",
    "        model = self.examine_model(model_name)\n",
    "        try:\n",
    "            # Coefficients\n",
    "            coefs = pd.Series(model.coef_[0], index = self.x.columns)\n",
    "            coefs = coefs.sort_values()\n",
    "            coefs.plot(kind=\"bar\",title=(model_name.capitalize() + \" Coefficients\"))\n",
    "            plt.show()\n",
    "        except: \n",
    "            print()"
   ]
  },
  {
   "cell_type": "code",
   "execution_count": 13,
   "id": "046d069d",
   "metadata": {},
   "outputs": [],
   "source": [
    "# For Aesthetics\n",
    "font = {'size' : 24}\n",
    "mpl.rc('font', **font)\n",
    "mpl.rcParams['figure.figsize'] = (3.0, 2.0) ### (→ , ↑) ###"
   ]
  },
  {
   "cell_type": "markdown",
   "id": "d4f1811d",
   "metadata": {},
   "source": [
    "## Light Normalization Bow Model 3 Classifiers"
   ]
  },
  {
   "cell_type": "code",
   "execution_count": 14,
   "id": "4e3c8775",
   "metadata": {},
   "outputs": [
    {
     "name": "stdout",
     "output_type": "stream",
     "text": [
      "*** log_reg ***\n",
      "CV ACCURACY SCORE: 0.61\n",
      "CV PARAMS:  {'C': 0.1}\n",
      "\n",
      "*** knn ***\n"
     ]
    },
    {
     "ename": "NameError",
     "evalue": "name 'KNeighborsClassifier' is not defined",
     "output_type": "error",
     "traceback": [
      "\u001b[1;31m---------------------------------------------------------------------------\u001b[0m",
      "\u001b[1;31mNameError\u001b[0m                                 Traceback (most recent call last)",
      "Input \u001b[1;32mIn [14]\u001b[0m, in \u001b[0;36m<module>\u001b[1;34m\u001b[0m\n\u001b[0;32m      1\u001b[0m models \u001b[38;5;241m=\u001b[39m Binary_Classification(x \u001b[38;5;241m=\u001b[39m df\u001b[38;5;241m.\u001b[39mlight_normalization, \n\u001b[0;32m      2\u001b[0m                                y \u001b[38;5;241m=\u001b[39m df[[\u001b[38;5;124m\"\u001b[39m\u001b[38;5;124mveracity\u001b[39m\u001b[38;5;124m\"\u001b[39m]], \n\u001b[0;32m      3\u001b[0m                                scoring \u001b[38;5;241m=\u001b[39m \u001b[38;5;124m\"\u001b[39m\u001b[38;5;124maccuracy\u001b[39m\u001b[38;5;124m\"\u001b[39m, \n\u001b[1;32m   (...)\u001b[0m\n\u001b[0;32m      7\u001b[0m                                nlp \u001b[38;5;241m=\u001b[39m \u001b[38;5;28;01mTrue\u001b[39;00m,\n\u001b[0;32m      8\u001b[0m                                vectorizer \u001b[38;5;241m=\u001b[39m CountVectorizer(lowercase \u001b[38;5;241m=\u001b[39m \u001b[38;5;28;01mFalse\u001b[39;00m))\n\u001b[1;32m---> 10\u001b[0m \u001b[43mmodels\u001b[49m\u001b[38;5;241;43m.\u001b[39;49m\u001b[43mcompare\u001b[49m\u001b[43m(\u001b[49m\u001b[43m)\u001b[49m\n",
      "Input \u001b[1;32mIn [12]\u001b[0m, in \u001b[0;36mBinary_Classification.compare\u001b[1;34m(self)\u001b[0m\n\u001b[0;32m    104\u001b[0m \u001b[38;5;28;01mfor\u001b[39;00m name \u001b[38;5;129;01min\u001b[39;00m mods:\n\u001b[0;32m    105\u001b[0m     \u001b[38;5;28mprint\u001b[39m(\u001b[38;5;124m\"\u001b[39m\u001b[38;5;124m*** \u001b[39m\u001b[38;5;124m\"\u001b[39m \u001b[38;5;241m+\u001b[39m mods[z] \u001b[38;5;241m+\u001b[39m \u001b[38;5;124m\"\u001b[39m\u001b[38;5;124m ***\u001b[39m\u001b[38;5;124m\"\u001b[39m)\n\u001b[1;32m--> 106\u001b[0m     \u001b[38;5;28;43mself\u001b[39;49m\u001b[38;5;241;43m.\u001b[39;49m\u001b[43mexamine_model\u001b[49m\u001b[43m(\u001b[49m\u001b[43mname\u001b[49m\u001b[43m)\u001b[49m\n\u001b[0;32m    107\u001b[0m     \u001b[38;5;28mprint\u001b[39m(\u001b[38;5;124m\"\u001b[39m\u001b[38;5;124m\"\u001b[39m)\n\u001b[0;32m    108\u001b[0m     z \u001b[38;5;241m+\u001b[39m\u001b[38;5;241m=\u001b[39m \u001b[38;5;241m1\u001b[39m\n",
      "Input \u001b[1;32mIn [12]\u001b[0m, in \u001b[0;36mBinary_Classification.examine_model\u001b[1;34m(self, model_name)\u001b[0m\n\u001b[0;32m     84\u001b[0m     best_model \u001b[38;5;241m=\u001b[39m gs\u001b[38;5;241m.\u001b[39mbest_estimator_\n\u001b[0;32m     85\u001b[0m     \u001b[38;5;28;01mreturn\u001b[39;00m best_model\n\u001b[1;32m---> 87\u001b[0m model, grid \u001b[38;5;241m=\u001b[39m \u001b[43mmodel_and_grid\u001b[49m\u001b[43m(\u001b[49m\u001b[43mmodel_name\u001b[49m\u001b[43m)\u001b[49m\n\u001b[0;32m     88\u001b[0m best_mod \u001b[38;5;241m=\u001b[39m best_model(model, grid)\n\u001b[0;32m     89\u001b[0m \u001b[38;5;28;01mreturn\u001b[39;00m best_mod\n",
      "Input \u001b[1;32mIn [12]\u001b[0m, in \u001b[0;36mBinary_Classification.examine_model.<locals>.model_and_grid\u001b[1;34m(model_name)\u001b[0m\n\u001b[0;32m     39\u001b[0m     \u001b[38;5;28;01mreturn\u001b[39;00m model, grid\n\u001b[0;32m     41\u001b[0m \u001b[38;5;28;01melif\u001b[39;00m model_name \u001b[38;5;241m==\u001b[39m \u001b[38;5;124m\"\u001b[39m\u001b[38;5;124mknn\u001b[39m\u001b[38;5;124m\"\u001b[39m:\n\u001b[1;32m---> 42\u001b[0m     model \u001b[38;5;241m=\u001b[39m \u001b[43mKNeighborsClassifier\u001b[49m()\n\u001b[0;32m     43\u001b[0m     grid \u001b[38;5;241m=\u001b[39m {\u001b[38;5;124m\"\u001b[39m\u001b[38;5;124mn_neighbors\u001b[39m\u001b[38;5;124m\"\u001b[39m : [\u001b[38;5;241m3\u001b[39m,\u001b[38;5;241m6\u001b[39m,\u001b[38;5;241m9\u001b[39m,\u001b[38;5;241m12\u001b[39m]}\n\u001b[0;32m     44\u001b[0m     \u001b[38;5;28;01mreturn\u001b[39;00m model, grid\n",
      "\u001b[1;31mNameError\u001b[0m: name 'KNeighborsClassifier' is not defined"
     ]
    }
   ],
   "source": [
    "models = Binary_Classification(x = df.light_normalization, \n",
    "                               y = df[[\"veracity\"]], \n",
    "                               scoring = \"accuracy\", \n",
    "                               test_size = 0.3, \n",
    "                               n_folds = 3, \n",
    "                               standardize = False,\n",
    "                               nlp = True,\n",
    "                               vectorizer = CountVectorizer(lowercase = False))\n",
    "                     \n",
    "models.compare()"
   ]
  },
  {
   "cell_type": "code",
   "execution_count": 18,
   "id": "7da110d8",
   "metadata": {},
   "outputs": [
    {
     "name": "stdout",
     "output_type": "stream",
     "text": [
      "CV ACCURACY SCORE: 0.61\n",
      "CV PARAMS:  {'C': 0.1}\n",
      "\n",
      "Accuracy on test data: 0.63\n",
      "\n",
      "Classification Report on test data:\n",
      "               precision    recall  f1-score   support\n",
      "\n",
      "           0       0.59      0.69      0.64       306\n",
      "           1       0.68      0.57      0.62       344\n",
      "\n",
      "    accuracy                           0.63       650\n",
      "   macro avg       0.63      0.63      0.63       650\n",
      "weighted avg       0.64      0.63      0.63       650\n",
      "\n"
     ]
    },
    {
     "data": {
      "image/png": "[encoded data removed]",
      "text/plain": [
       "<Figure size 216x144 with 1 Axes>"
      ]
     },
     "metadata": {
      "needs_background": "light"
     },
     "output_type": "display_data"
    }
   ],
   "source": [
    "models.test_scores(model_name = \"log_reg\", \n",
    "                   verbose_results = False, \n",
    "                   all_metrics = False)"
   ]
  },
  {
   "cell_type": "markdown",
   "id": "6ee95911",
   "metadata": {},
   "source": [
    "## Logistic Regression is actually decent at detecting false statements"
   ]
  },
  {
   "cell_type": "code",
   "execution_count": 19,
   "id": "794314e1",
   "metadata": {},
   "outputs": [
    {
     "name": "stdout",
     "output_type": "stream",
     "text": [
      "CV ACCURACY SCORE: 0.62\n",
      "CV PARAMS:  {'alpha': 1}\n",
      "\n",
      "Accuracy on test data: 0.62\n",
      "\n",
      "Classification Report on test data:\n",
      "               precision    recall  f1-score   support\n",
      "\n",
      "           0       0.61      0.52      0.56       306\n",
      "           1       0.62      0.71      0.66       344\n",
      "\n",
      "    accuracy                           0.62       650\n",
      "   macro avg       0.62      0.61      0.61       650\n",
      "weighted avg       0.62      0.62      0.61       650\n",
      "\n"
     ]
    },
    {
     "data": {
      "image/png": "[encoded data removed]",
      "text/plain": [
       "<Figure size 216x144 with 1 Axes>"
      ]
     },
     "metadata": {
      "needs_background": "light"
     },
     "output_type": "display_data"
    }
   ],
   "source": [
    "models.test_scores(model_name = \"mnb\", \n",
    "                   verbose_results = False, \n",
    "                   all_metrics = False)"
   ]
  },
  {
   "cell_type": "markdown",
   "id": "51c8867e",
   "metadata": {},
   "source": [
    "##  Multinomial Naive Bayes is much better at detecting truth and much worse at detecting deception: (the recall score is 71)"
   ]
  },
  {
   "cell_type": "markdown",
   "id": "b1156822",
   "metadata": {},
   "source": [
    "# Full Normalization Bow Model 3 Classifiers"
   ]
  },
  {
   "cell_type": "code",
   "execution_count": 20,
   "id": "4fe8d25c",
   "metadata": {},
   "outputs": [
    {
     "name": "stdout",
     "output_type": "stream",
     "text": [
      "*** log_reg ***\n",
      "CV ACCURACY SCORE: 0.59\n",
      "CV PARAMS:  {'C': 0.1}\n",
      "\n",
      "*** mnb ***\n",
      "CV ACCURACY SCORE: 0.6\n",
      "CV PARAMS:  {'alpha': 0.1}\n",
      "\n",
      "*** ran_for ***\n",
      "CV ACCURACY SCORE: 0.56\n",
      "CV PARAMS:  {'criterion': 'gini', 'max_depth': 12, 'max_features': 'auto', 'n_estimators': 30}\n",
      "\n"
     ]
    }
   ],
   "source": [
    "models = Binary_Classification(x = df.full_normalization, \n",
    "                               y = df[[\"veracity\"]], \n",
    "                               scoring = \"accuracy\", \n",
    "                               test_size = 0.3, \n",
    "                               n_folds = 3, \n",
    "                               standardize = False,\n",
    "                               nlp = True,\n",
    "                               vectorizer = CountVectorizer(lowercase = False))\n",
    "                     \n",
    "models.compare()"
   ]
  },
  {
   "cell_type": "code",
   "execution_count": 21,
   "id": "711e9883",
   "metadata": {},
   "outputs": [
    {
     "name": "stdout",
     "output_type": "stream",
     "text": [
      "CV ACCURACY SCORE: 0.59\n",
      "CV PARAMS:  {'C': 0.1}\n",
      "\n",
      "Accuracy on test data: 0.58\n",
      "\n",
      "Classification Report on test data:\n",
      "               precision    recall  f1-score   support\n",
      "\n",
      "           0       0.54      0.66      0.60       306\n",
      "           1       0.63      0.51      0.56       344\n",
      "\n",
      "    accuracy                           0.58       650\n",
      "   macro avg       0.58      0.58      0.58       650\n",
      "weighted avg       0.59      0.58      0.58       650\n",
      "\n"
     ]
    },
    {
     "data": {
      "image/png": "[encoded data removed]",
      "text/plain": [
       "<Figure size 216x144 with 1 Axes>"
      ]
     },
     "metadata": {
      "needs_background": "light"
     },
     "output_type": "display_data"
    }
   ],
   "source": [
    "models.test_scores(model_name = \"log_reg\", \n",
    "                   verbose_results = False, \n",
    "                   all_metrics = False)"
   ]
  },
  {
   "cell_type": "code",
   "execution_count": 22,
   "id": "3e6b2fa0",
   "metadata": {},
   "outputs": [
    {
     "name": "stdout",
     "output_type": "stream",
     "text": [
      "CV ACCURACY SCORE: 0.6\n",
      "CV PARAMS:  {'alpha': 0.1}\n",
      "\n",
      "Accuracy on test data: 0.59\n",
      "\n",
      "Classification Report on test data:\n",
      "               precision    recall  f1-score   support\n",
      "\n",
      "           0       0.57      0.57      0.57       306\n",
      "           1       0.62      0.61      0.61       344\n",
      "\n",
      "    accuracy                           0.59       650\n",
      "   macro avg       0.59      0.59      0.59       650\n",
      "weighted avg       0.59      0.59      0.59       650\n",
      "\n"
     ]
    },
    {
     "data": {
      "image/png": "[encoded data removed]",
      "text/plain": [
       "<Figure size 216x144 with 1 Axes>"
      ]
     },
     "metadata": {
      "needs_background": "light"
     },
     "output_type": "display_data"
    }
   ],
   "source": [
    "models.test_scores(model_name = \"mnb\", \n",
    "                   verbose_results = False, \n",
    "                   all_metrics = False)"
   ]
  },
  {
   "cell_type": "markdown",
   "id": "cfa70c24",
   "metadata": {},
   "source": [
    "# Again, Multinomial Naive Bayes is much better at detecting truth\n",
    "# Logistic Regression does a decent job at detecting deception"
   ]
  },
  {
   "cell_type": "markdown",
   "id": "06547e2e",
   "metadata": {},
   "source": [
    "## n-gram model\n",
    "### n-gram models attempt to make up for Bow's independent treatment of words by giving them context (i.e., dependence)"
   ]
  },
  {
   "cell_type": "markdown",
   "id": "494a3641",
   "metadata": {},
   "source": [
    "# Light Normalization N-gram Models (1-2 & 1-3) 3 Classifiers"
   ]
  },
  {
   "cell_type": "code",
   "execution_count": 23,
   "id": "183efbb5",
   "metadata": {},
   "outputs": [
    {
     "name": "stdout",
     "output_type": "stream",
     "text": [
      "*** log_reg ***\n",
      "CV ACCURACY SCORE: 0.63\n",
      "CV PARAMS:  {'C': 1}\n",
      "\n",
      "*** mnb ***\n",
      "CV ACCURACY SCORE: 0.61\n",
      "CV PARAMS:  {'alpha': 5}\n",
      "\n",
      "*** ran_for ***\n",
      "CV ACCURACY SCORE: 0.58\n",
      "CV PARAMS:  {'criterion': 'entropy', 'max_depth': 15, 'max_features': 'auto', 'n_estimators': 30}\n",
      "\n"
     ]
    }
   ],
   "source": [
    "models = Binary_Classification(x = df.light_normalization, \n",
    "                               y = df[[\"veracity\"]], \n",
    "                               scoring = \"accuracy\", \n",
    "                               test_size = 0.3, \n",
    "                               n_folds = 3, \n",
    "                               standardize = False,\n",
    "                               nlp = True,\n",
    "                               vectorizer = CountVectorizer(lowercase = False, ngram_range = (1,2)))\n",
    "                     \n",
    "models.compare()"
   ]
  },
  {
   "cell_type": "code",
   "execution_count": 24,
   "id": "0f7f1323",
   "metadata": {},
   "outputs": [
    {
     "name": "stdout",
     "output_type": "stream",
     "text": [
      "CV ACCURACY SCORE: 0.63\n",
      "CV PARAMS:  {'C': 1}\n",
      "\n",
      "Accuracy on test data: 0.60\n",
      "\n",
      "Classification Report on test data:\n",
      "               precision    recall  f1-score   support\n",
      "\n",
      "           0       0.56      0.64      0.60       306\n",
      "           1       0.64      0.56      0.60       344\n",
      "\n",
      "    accuracy                           0.60       650\n",
      "   macro avg       0.60      0.60      0.60       650\n",
      "weighted avg       0.60      0.60      0.60       650\n",
      "\n"
     ]
    },
    {
     "data": {
      "image/png": "[encoded data removed]",
      "text/plain": [
       "<Figure size 216x144 with 1 Axes>"
      ]
     },
     "metadata": {
      "needs_background": "light"
     },
     "output_type": "display_data"
    }
   ],
   "source": [
    "models.test_scores(model_name = \"log_reg\", \n",
    "                   verbose_results = False, \n",
    "                   all_metrics = False)"
   ]
  },
  {
   "cell_type": "markdown",
   "id": "a46ad00c",
   "metadata": {},
   "source": [
    "# Logistic Regression seems adept at detecting deception more efficiently than the truth"
   ]
  },
  {
   "cell_type": "code",
   "execution_count": 25,
   "id": "ac80890e",
   "metadata": {},
   "outputs": [
    {
     "name": "stdout",
     "output_type": "stream",
     "text": [
      "CV ACCURACY SCORE: 0.61\n",
      "CV PARAMS:  {'alpha': 5}\n",
      "\n",
      "Accuracy on test data: 0.63\n",
      "\n",
      "Classification Report on test data:\n",
      "               precision    recall  f1-score   support\n",
      "\n",
      "           0       0.64      0.47      0.54       306\n",
      "           1       0.62      0.77      0.69       344\n",
      "\n",
      "    accuracy                           0.63       650\n",
      "   macro avg       0.63      0.62      0.61       650\n",
      "weighted avg       0.63      0.63      0.62       650\n",
      "\n"
     ]
    },
    {
     "data": {
      "image/png": "[encoded data removed]",
      "text/plain": [
       "<Figure size 216x144 with 1 Axes>"
      ]
     },
     "metadata": {
      "needs_background": "light"
     },
     "output_type": "display_data"
    }
   ],
   "source": [
    "models.test_scores(model_name = \"mnb\", \n",
    "                   verbose_results = False, \n",
    "                   all_metrics = False)"
   ]
  },
  {
   "cell_type": "markdown",
   "id": "e16eaa42",
   "metadata": {},
   "source": [
    "# Again, Multinomial Naive Bayes seems a good candidate when detecting innocence is more important"
   ]
  },
  {
   "cell_type": "code",
   "execution_count": 26,
   "id": "5197d466",
   "metadata": {},
   "outputs": [
    {
     "name": "stdout",
     "output_type": "stream",
     "text": [
      "*** log_reg ***\n",
      "CV ACCURACY SCORE: 0.62\n",
      "CV PARAMS:  {'C': 1}\n",
      "\n",
      "*** mnb ***\n",
      "CV ACCURACY SCORE: 0.61\n",
      "CV PARAMS:  {'alpha': 5}\n",
      "\n",
      "*** ran_for ***\n",
      "CV ACCURACY SCORE: 0.58\n",
      "CV PARAMS:  {'criterion': 'gini', 'max_depth': 15, 'max_features': 'auto', 'n_estimators': 30}\n",
      "\n"
     ]
    }
   ],
   "source": [
    "models = Binary_Classification(x = df.light_normalization, \n",
    "                               y = df[[\"veracity\"]], \n",
    "                               scoring = \"accuracy\", \n",
    "                               test_size = 0.3, \n",
    "                               n_folds = 3, \n",
    "                               standardize = False,\n",
    "                               nlp = True,\n",
    "                               vectorizer = CountVectorizer(lowercase = False, ngram_range = (1,3)))\n",
    "                     \n",
    "models.compare()"
   ]
  },
  {
   "cell_type": "code",
   "execution_count": 27,
   "id": "5138cb5c",
   "metadata": {},
   "outputs": [
    {
     "name": "stdout",
     "output_type": "stream",
     "text": [
      "CV ACCURACY SCORE: 0.61\n",
      "CV PARAMS:  {'alpha': 5}\n",
      "\n",
      "Accuracy on test data: 0.63\n",
      "\n",
      "Classification Report on test data:\n",
      "               precision    recall  f1-score   support\n",
      "\n",
      "           0       0.65      0.47      0.55       306\n",
      "           1       0.62      0.78      0.69       344\n",
      "\n",
      "    accuracy                           0.63       650\n",
      "   macro avg       0.64      0.62      0.62       650\n",
      "weighted avg       0.64      0.63      0.62       650\n",
      "\n"
     ]
    },
    {
     "data": {
      "image/png": "[encoded data removed]",
      "text/plain": [
       "<Figure size 216x144 with 1 Axes>"
      ]
     },
     "metadata": {
      "needs_background": "light"
     },
     "output_type": "display_data"
    }
   ],
   "source": [
    "models.test_scores(model_name = \"mnb\", \n",
    "                   verbose_results = False, \n",
    "                   all_metrics = False)"
   ]
  },
  {
   "cell_type": "markdown",
   "id": "821baf14",
   "metadata": {},
   "source": [
    "# Full Normalization N-gram Models (1-2 & 1-3) 3 Classifiers# Full Normalization N-gram Models (1-2 & 1-3) 3 Classifiers"
   ]
  },
  {
   "cell_type": "code",
   "execution_count": 28,
   "id": "e5905df8",
   "metadata": {},
   "outputs": [
    {
     "name": "stdout",
     "output_type": "stream",
     "text": [
      "*** log_reg ***\n",
      "CV ACCURACY SCORE: 0.6\n",
      "CV PARAMS:  {'C': 0.1}\n",
      "\n",
      "*** mnb ***\n",
      "CV ACCURACY SCORE: 0.6\n",
      "CV PARAMS:  {'alpha': 1}\n",
      "\n",
      "*** ran_for ***\n",
      "CV ACCURACY SCORE: 0.56\n",
      "CV PARAMS:  {'criterion': 'gini', 'max_depth': 15, 'max_features': 'auto', 'n_estimators': 30}\n",
      "\n"
     ]
    }
   ],
   "source": [
    "models = Binary_Classification(x = df.full_normalization, \n",
    "                               y = df[[\"veracity\"]], \n",
    "                               scoring = \"accuracy\", \n",
    "                               test_size = 0.3, \n",
    "                               n_folds = 3, \n",
    "                               standardize = False,\n",
    "                               nlp = True,\n",
    "                               vectorizer = CountVectorizer(lowercase = False, ngram_range = (1,2)))\n",
    "                     \n",
    "models.compare()"
   ]
  },
  {
   "cell_type": "code",
   "execution_count": 29,
   "id": "447ff37c",
   "metadata": {},
   "outputs": [
    {
     "name": "stdout",
     "output_type": "stream",
     "text": [
      "CV ACCURACY SCORE: 0.6\n",
      "CV PARAMS:  {'C': 0.1}\n",
      "\n",
      "Accuracy on test data: 0.59\n",
      "\n",
      "Classification Report on test data:\n",
      "               precision    recall  f1-score   support\n",
      "\n",
      "           0       0.55      0.67      0.60       306\n",
      "           1       0.64      0.52      0.57       344\n",
      "\n",
      "    accuracy                           0.59       650\n",
      "   macro avg       0.59      0.59      0.59       650\n",
      "weighted avg       0.60      0.59      0.59       650\n",
      "\n"
     ]
    },
    {
     "data": {
      "image/png": "[encoded data removed]",
      "text/plain": [
       "<Figure size 216x144 with 1 Axes>"
      ]
     },
     "metadata": {
      "needs_background": "light"
     },
     "output_type": "display_data"
    }
   ],
   "source": [
    "models.test_scores(model_name = \"log_reg\", \n",
    "                   verbose_results = False, \n",
    "                   all_metrics = False)"
   ]
  },
  {
   "cell_type": "code",
   "execution_count": 30,
   "id": "02fc2012",
   "metadata": {},
   "outputs": [
    {
     "name": "stdout",
     "output_type": "stream",
     "text": [
      "*** log_reg ***\n",
      "CV ACCURACY SCORE: 0.6\n",
      "CV PARAMS:  {'C': 0.1}\n",
      "\n",
      "*** mnb ***\n",
      "CV ACCURACY SCORE: 0.6\n",
      "CV PARAMS:  {'alpha': 50}\n",
      "\n",
      "*** ran_for ***\n",
      "CV ACCURACY SCORE: 0.55\n",
      "CV PARAMS:  {'criterion': 'entropy', 'max_depth': 15, 'max_features': 'auto', 'n_estimators': 30}\n",
      "\n"
     ]
    }
   ],
   "source": [
    "models = Binary_Classification(x = df.full_normalization, \n",
    "                               y = df[[\"veracity\"]], \n",
    "                               scoring = \"accuracy\", \n",
    "                               test_size = 0.3, \n",
    "                               n_folds = 3, \n",
    "                               standardize = False,\n",
    "                               nlp = True,\n",
    "                               vectorizer = CountVectorizer(lowercase = False, ngram_range = (1,3)))\n",
    "                     \n",
    "models.compare()"
   ]
  },
  {
   "cell_type": "code",
   "execution_count": 31,
   "id": "ff6976b8",
   "metadata": {},
   "outputs": [
    {
     "name": "stdout",
     "output_type": "stream",
     "text": [
      "CV ACCURACY SCORE: 0.6\n",
      "CV PARAMS:  {'C': 0.1}\n",
      "\n",
      "Accuracy on test data: 0.60\n",
      "\n",
      "Classification Report on test data:\n",
      "               precision    recall  f1-score   support\n",
      "\n",
      "           0       0.56      0.68      0.61       306\n",
      "           1       0.65      0.52      0.58       344\n",
      "\n",
      "    accuracy                           0.60       650\n",
      "   macro avg       0.60      0.60      0.59       650\n",
      "weighted avg       0.60      0.60      0.59       650\n",
      "\n"
     ]
    },
    {
     "data": {
      "image/png": "[encoded data removed]",
      "text/plain": [
       "<Figure size 216x144 with 1 Axes>"
      ]
     },
     "metadata": {
      "needs_background": "light"
     },
     "output_type": "display_data"
    }
   ],
   "source": [
    "models.test_scores(model_name = \"log_reg\", \n",
    "                   verbose_results = False, \n",
    "                   all_metrics = False)"
   ]
  },
  {
   "cell_type": "code",
   "execution_count": 32,
   "id": "977c430c",
   "metadata": {},
   "outputs": [
    {
     "name": "stdout",
     "output_type": "stream",
     "text": [
      "CV ACCURACY SCORE: 0.6\n",
      "CV PARAMS:  {'alpha': 50}\n",
      "\n",
      "Accuracy on test data: 0.60\n",
      "\n",
      "Classification Report on test data:\n",
      "               precision    recall  f1-score   support\n",
      "\n",
      "           0       0.57      0.59      0.58       306\n",
      "           1       0.62      0.60      0.61       344\n",
      "\n",
      "    accuracy                           0.60       650\n",
      "   macro avg       0.60      0.60      0.60       650\n",
      "weighted avg       0.60      0.60      0.60       650\n",
      "\n"
     ]
    },
    {
     "data": {
      "image/png": "[encoded data removed]",
      "text/plain": [
       "<Figure size 216x144 with 1 Axes>"
      ]
     },
     "metadata": {
      "needs_background": "light"
     },
     "output_type": "display_data"
    }
   ],
   "source": [
    "models.test_scores(model_name = \"mnb\", \n",
    "                   verbose_results = False, \n",
    "                   all_metrics = False)"
   ]
  },
  {
   "cell_type": "markdown",
   "id": "f33386a5",
   "metadata": {},
   "source": [
    "# n-gram Model Summary# n-gram Model Summary\n",
    "## logistic regression does again a better job at detecting deception while nmd stands at a \n",
    "## accurancy level around 60%"
   ]
  },
  {
   "cell_type": "markdown",
   "id": "4575e9e6",
   "metadata": {},
   "source": [
    "# Term Frequency-Inverse Document Frequency (tf-idf) model"
   ]
  },
  {
   "cell_type": "code",
   "execution_count": 33,
   "id": "124c012d",
   "metadata": {},
   "outputs": [
    {
     "name": "stdout",
     "output_type": "stream",
     "text": [
      "*** log_reg ***\n",
      "CV ACCURACY SCORE: 0.63\n",
      "CV PARAMS:  {'C': 100}\n",
      "\n",
      "*** mnb ***\n",
      "CV ACCURACY SCORE: 0.62\n",
      "CV PARAMS:  {'alpha': 1}\n",
      "\n",
      "*** ran_for ***\n",
      "CV ACCURACY SCORE: 0.59\n",
      "CV PARAMS:  {'criterion': 'gini', 'max_depth': 12, 'max_features': 'auto', 'n_estimators': 30}\n",
      "\n"
     ]
    }
   ],
   "source": [
    "models = Binary_Classification(x = df.light_normalization, \n",
    "                               y = df[[\"veracity\"]], \n",
    "                               scoring = \"accuracy\", \n",
    "                               test_size = 0.3, \n",
    "                               n_folds = 3, \n",
    "                               standardize = False,\n",
    "                               nlp = True,\n",
    "                               vectorizer = TfidfVectorizer(lowercase = False, ngram_range = (1,2)))\n",
    "                     \n",
    "models.compare()"
   ]
  },
  {
   "cell_type": "code",
   "execution_count": 34,
   "id": "b7fe80db",
   "metadata": {},
   "outputs": [
    {
     "name": "stdout",
     "output_type": "stream",
     "text": [
      "CV ACCURACY SCORE: 0.63\n",
      "CV PARAMS:  {'C': 100}\n",
      "\n",
      "Accuracy on test data: 0.61\n",
      "\n",
      "Classification Report on test data:\n",
      "               precision    recall  f1-score   support\n",
      "\n",
      "           0       0.59      0.55      0.57       306\n",
      "           1       0.62      0.66      0.64       344\n",
      "\n",
      "    accuracy                           0.61       650\n",
      "   macro avg       0.61      0.61      0.61       650\n",
      "weighted avg       0.61      0.61      0.61       650\n",
      "\n"
     ]
    },
    {
     "data": {
      "image/png": "[encoded data removed]",
      "text/plain": [
       "<Figure size 216x144 with 1 Axes>"
      ]
     },
     "metadata": {
      "needs_background": "light"
     },
     "output_type": "display_data"
    }
   ],
   "source": [
    "models.test_scores(model_name = \"log_reg\", \n",
    "                   verbose_results = False, \n",
    "                   all_metrics = False)"
   ]
  },
  {
   "cell_type": "markdown",
   "id": "3ef3947a",
   "metadata": {},
   "source": [
    "# doesn't perform better than a simple n-gram mod"
   ]
  },
  {
   "cell_type": "markdown",
   "id": "254e83d5",
   "metadata": {},
   "source": [
    "# What are the strongly predictive features?\n",
    "### We use a neat trick to identify strongly predictive features (i.e. words).\n",
    "\n",
    "### first, create a data set such that each row has exactly one feature. This is represented by the identity matrix.\n",
    "\n",
    "###  ex) features = \"Trump\", \"people\", \"the\"\n",
    "### use the trained classifier to make predictions on this matrix\n",
    "\n",
    "###  ex) clf.pred(features)\n",
    "### sort the rows by predicted probabilities, and pick the top and bottom  rows\n",
    "\n",
    "###  ex) Trump & 89%, people & 10%, the & 1%"
   ]
  },
  {
   "cell_type": "code",
   "execution_count": 36,
   "id": "35b7c723",
   "metadata": {},
   "outputs": [],
   "source": [
    "_ , itest = train_test_split(range(df.shape[0]), test_size=0.3, random_state = 0)\n",
    "mask = np.zeros(df.shape[0], dtype=np.bool)\n",
    "mask[itest] = 1"
   ]
  },
  {
   "cell_type": "code",
   "execution_count": 38,
   "id": "4d317c03",
   "metadata": {},
   "outputs": [
    {
     "name": "stdout",
     "output_type": "stream",
     "text": [
      "Accuracy on training data:  1.00\n",
      "Accuracy on test data:      0.58\n"
     ]
    }
   ],
   "source": [
    "def make_xy(df, features, target, vectorizer = None):\n",
    "    X = vectorizer.fit_transform(df[features]) \n",
    "    y = (df[target] == 1)\n",
    "    return X, y\n",
    "\n",
    "vectorizer = CountVectorizer(lowercase = False, ngram_range = (1,3))\n",
    "\n",
    "X, y = make_xy(df, \"light_normalization\", \"veracity\", vectorizer)\n",
    "\n",
    "xtrain = X[mask]\n",
    "ytrain = y[mask]\n",
    "xtest = X[~mask]\n",
    "ytest = y[~mask]\n",
    "\n",
    "model = MultinomialNB().fit(xtrain, ytrain)\n",
    "\n",
    "training_accuracy = model.score(xtrain, ytrain)\n",
    "test_accuracy = model.score(xtest, ytest)\n",
    "\n",
    "print(\"Accuracy on training data: \", \"{:.2f}\".format(training_accuracy))\n",
    "print(\"Accuracy on test data:     \", \"{:.2f}\".format(test_accuracy))"
   ]
  },
  {
   "cell_type": "code",
   "execution_count": 39,
   "id": "330cc19a",
   "metadata": {},
   "outputs": [
    {
     "name": "stdout",
     "output_type": "stream",
     "text": [
      "Truth words       P(true | word)\n",
      "                  highest 0.93\n",
      "                  has the 0.91\n",
      "                less than 0.91\n",
      "           than any other 0.90\n",
      "              the highest 0.90\n",
      "                   during 0.90\n",
      "               million in 0.88\n",
      "                      won 0.88\n",
      "                    close 0.88\n",
      "              in the last 0.88\n",
      "\n",
      "Falsehood words   P(true | word)\n",
      "              you can get 0.18\n",
      "                 there no 0.18\n",
      "                   credit 0.18\n",
      "                     help 0.18\n",
      "                 money to 0.18\n",
      "                voted for 0.18\n",
      "                   donald 0.18\n",
      "                  warming 0.18\n",
      "                     lost 0.13\n",
      "                     iran 0.13\n"
     ]
    }
   ],
   "source": [
    "words = np.array(vectorizer.get_feature_names())\n",
    "\n",
    "x = np.eye(xtest.shape[1])\n",
    "probs = model.predict_log_proba(x)[:, 0]\n",
    "ind = np.argsort(probs)\n",
    "\n",
    "truth_words = words[ind[:10]]\n",
    "falsehood_words = words[ind[-10:]]\n",
    "\n",
    "truth_prob = probs[ind[:10]]\n",
    "falsehood_prob = probs[ind[-10:]]\n",
    "\n",
    "print(\"Truth words       P(true | word)\")\n",
    "for w, p in zip(truth_words, truth_prob):\n",
    "    print(\"{:>25}\".format(w), \"{:.2f}\".format(1 - np.exp(p)))\n",
    "    \n",
    "print()\n",
    "\n",
    "print(\"Falsehood words   P(true | word)\")\n",
    "for w, p in zip(falsehood_words, falsehood_prob):\n",
    "    print(\"{:>25}\".format(w), \"{:.2f}\".format(1 - np.exp(p)))"
   ]
  },
  {
   "cell_type": "code",
   "execution_count": null,
   "id": "9ce03543",
   "metadata": {},
   "outputs": [],
   "source": []
  }
 ],
 "metadata": {
  "kernelspec": {
   "display_name": "Python 3 (ipykernel)",
   "language": "python",
   "name": "python3"
  },
  "language_info": {
   "codemirror_mode": {
    "name": "ipython",
    "version": 3
   },
   "file_extension": ".py",
   "mimetype": "text/x-python",
   "name": "python",
   "nbconvert_exporter": "python",
   "pygments_lexer": "ipython3",
   "version": "3.9.7"
  }
 },
 "nbformat": 4,
 "nbformat_minor": 5
}
