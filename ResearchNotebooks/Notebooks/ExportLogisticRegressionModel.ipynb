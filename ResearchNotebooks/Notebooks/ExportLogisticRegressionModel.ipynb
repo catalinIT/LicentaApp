{
 "cells": [
  {
   "cell_type": "code",
   "execution_count": 92,
   "id": "ed14cb02",
   "metadata": {},
   "outputs": [],
   "source": [
    "# Packages for Data Manipulation\n",
    "import numpy as np\n",
    "import pandas as pd\n",
    "import os\n",
    "from collections import Counter\n",
    "import spacy\n",
    "\n",
    "# for NLP\n",
    "import re\n",
    "import unicodedata\n",
    "from bs4 import BeautifulSoup\n",
    "\n",
    "# Packages for Graphics\n",
    "import matplotlib as mpl\n",
    "import matplotlib.pyplot as plt\n",
    "import seaborn as sns\n",
    "\n",
    "# Packages for ML\n",
    "from sklearn.feature_extraction.text import CountVectorizer\n",
    "from sklearn.feature_extraction.text import TfidfVectorizer\n",
    "from sklearn.model_selection import train_test_split\n",
    "from sklearn.model_selection import GridSearchCV\n",
    "from sklearn.model_selection import KFold\n",
    "from sklearn.model_selection import cross_val_score\n",
    "\n",
    "from sklearn.ensemble import RandomForestClassifier\n",
    "from sklearn.linear_model import LogisticRegression\n",
    "from sklearn.naive_bayes import MultinomialNB\n",
    "\n",
    "from sklearn import metrics\n",
    "from sklearn.metrics import accuracy_score\n",
    "from sklearn.metrics import roc_curve\n",
    "from sklearn.metrics import roc_auc_score\n",
    "from sklearn.metrics import precision_recall_curve\n",
    "from sklearn.metrics import average_precision_score\n",
    "from sklearn.metrics import classification_report\n",
    "from sklearn.metrics import confusion_matrix\n",
    "from sklearn.metrics import fbeta_score\n",
    "from sklearn.pipeline import Pipeline\n",
    "from sklearn.preprocessing import StandardScaler\n",
    "\n",
    "# to see all the cells and data in the dataframes\n",
    "pd.set_option('display.width', 500)\n",
    "pd.set_option('display.max_columns', 300)\n",
    "pd.set_option('display.max_colwidth', 300) \n",
    "\n",
    "# to hide warnings about train/test size for train_test_split\n",
    "import warnings\n",
    "warnings.filterwarnings('ignore')"
   ]
  },
  {
   "cell_type": "markdown",
   "id": "5910caea",
   "metadata": {},
   "source": [
    "## Merging the three datasets"
   ]
  },
  {
   "cell_type": "code",
   "execution_count": 93,
   "id": "0a7afdb6",
   "metadata": {},
   "outputs": [
    {
     "data": {
      "text/html": [
       "<div>\n",
       "<style scoped>\n",
       "    .dataframe tbody tr th:only-of-type {\n",
       "        vertical-align: middle;\n",
       "    }\n",
       "\n",
       "    .dataframe tbody tr th {\n",
       "        vertical-align: top;\n",
       "    }\n",
       "\n",
       "    .dataframe thead th {\n",
       "        text-align: right;\n",
       "    }\n",
       "</style>\n",
       "<table border=\"1\" class=\"dataframe\">\n",
       "  <thead>\n",
       "    <tr style=\"text-align: right;\">\n",
       "      <th></th>\n",
       "      <th>veracity</th>\n",
       "      <th>statement</th>\n",
       "    </tr>\n",
       "  </thead>\n",
       "  <tbody>\n",
       "    <tr>\n",
       "      <th>3</th>\n",
       "      <td>0</td>\n",
       "      <td>\"Tim Kaine doesn’t want a border at all. He wants to get rid of Immigration and Customs Enforcement and basically the border patrol as well.\"</td>\n",
       "    </tr>\n",
       "    <tr>\n",
       "      <th>5</th>\n",
       "      <td>0</td>\n",
       "      <td>\"The deficit ... is coming down, and it’s coming down rapidly.\"</td>\n",
       "    </tr>\n",
       "    <tr>\n",
       "      <th>20</th>\n",
       "      <td>1</td>\n",
       "      <td>\"Migrant mother and ‘crying girl’ on Time cover never separated.\"</td>\n",
       "    </tr>\n",
       "    <tr>\n",
       "      <th>23</th>\n",
       "      <td>0</td>\n",
       "      <td>\"Fact: Over 90,000 kids were detained under Obama. And no one cared.\"</td>\n",
       "    </tr>\n",
       "    <tr>\n",
       "      <th>24</th>\n",
       "      <td>0</td>\n",
       "      <td>\"$1 billion—that’s how much Bruce Rauner has wasted with his budget crisis.\"</td>\n",
       "    </tr>\n",
       "  </tbody>\n",
       "</table>\n",
       "</div>"
      ],
      "text/plain": [
       "    veracity                                                                                                                                      statement\n",
       "3          0  \"Tim Kaine doesn’t want a border at all. He wants to get rid of Immigration and Customs Enforcement and basically the border patrol as well.\"\n",
       "5          0                                                                                \"The deficit ... is coming down, and it’s coming down rapidly.\"\n",
       "20         1                                                                              \"Migrant mother and ‘crying girl’ on Time cover never separated.\"\n",
       "23         0                                                                          \"Fact: Over 90,000 kids were detained under Obama. And no one cared.\"\n",
       "24         0                                                                   \"$1 billion—that’s how much Bruce Rauner has wasted with his budget crisis.\""
      ]
     },
     "execution_count": 93,
     "metadata": {},
     "output_type": "execute_result"
    }
   ],
   "source": [
    "# csv to df\n",
    "path = os.path.abspath('politifact_balanced_data.csv')\n",
    "df_political = pd.read_csv(path, index_col=0)\n",
    "\n",
    "# specify rows of importance\n",
    "df_political = df_political[[\"veracity\", \"statement\"]]\n",
    "\n",
    "# See sample of data\n",
    "df_political.head(5)"
   ]
  },
  {
   "cell_type": "code",
   "execution_count": 94,
   "id": "2ae10fa4",
   "metadata": {},
   "outputs": [
    {
     "data": {
      "text/html": [
       "<div>\n",
       "<style scoped>\n",
       "    .dataframe tbody tr th:only-of-type {\n",
       "        vertical-align: middle;\n",
       "    }\n",
       "\n",
       "    .dataframe tbody tr th {\n",
       "        vertical-align: top;\n",
       "    }\n",
       "\n",
       "    .dataframe thead th {\n",
       "        text-align: right;\n",
       "    }\n",
       "</style>\n",
       "<table border=\"1\" class=\"dataframe\">\n",
       "  <thead>\n",
       "    <tr style=\"text-align: right;\">\n",
       "      <th></th>\n",
       "      <th>veracity</th>\n",
       "      <th>statement</th>\n",
       "    </tr>\n",
       "  </thead>\n",
       "  <tbody>\n",
       "    <tr>\n",
       "      <th>0</th>\n",
       "      <td>0</td>\n",
       "      <td>No sir I did not. I absolutely did not. No sir I was not. No sir.</td>\n",
       "    </tr>\n",
       "    <tr>\n",
       "      <th>1</th>\n",
       "      <td>0</td>\n",
       "      <td>... and she approached me, and at that time that she had tripped over the rug and kind of bumped into me I was heading to the nursery, which is ammm ... I know you guys have all seen the layout, there's ahhh ... was a loveseat right there and a rocking chair right next to each other, and there's...</td>\n",
       "    </tr>\n",
       "    <tr>\n",
       "      <th>2</th>\n",
       "      <td>0</td>\n",
       "      <td>No sir I was not, not at all.</td>\n",
       "    </tr>\n",
       "    <tr>\n",
       "      <th>3</th>\n",
       "      <td>0</td>\n",
       "      <td>He had told me that he had had a dream that, ammm ...he was in a forest and that he had killed Laura, and that if I didn't help him get rid of her, that he â€¦ that I was gonna be next.</td>\n",
       "    </tr>\n",
       "    <tr>\n",
       "      <th>4</th>\n",
       "      <td>0</td>\n",
       "      <td>And he told me that, ammm â€¦ he was trying to figure some stuff out, and ammm â€¦ I asked him Like what? and he will â€¦ I mean I will never forget it, he was smoking a cigarette, and he was like really calm, and he looked at me and he said What would you say if I said â€¦ if I told you Laura w...</td>\n",
       "    </tr>\n",
       "  </tbody>\n",
       "</table>\n",
       "</div>"
      ],
      "text/plain": [
       "   veracity                                                                                                                                                                                                                                                                                                    statement\n",
       "0         0                                                                                                                                                                                                                                            No sir I did not. I absolutely did not. No sir I was not. No sir.\n",
       "1         0  ... and she approached me, and at that time that she had tripped over the rug and kind of bumped into me I was heading to the nursery, which is ammm ... I know you guys have all seen the layout, there's ahhh ... was a loveseat right there and a rocking chair right next to each other, and there's...\n",
       "2         0                                                                                                                                                                                                                                                                                No sir I was not, not at all.\n",
       "3         0                                                                                                                    He had told me that he had had a dream that, ammm ...he was in a forest and that he had killed Laura, and that if I didn't help him get rid of her, that he â€¦ that I was gonna be next.\n",
       "4         0  And he told me that, ammm â€¦ he was trying to figure some stuff out, and ammm â€¦ I asked him Like what? and he will â€¦ I mean I will never forget it, he was smoking a cigarette, and he was like really calm, and he looked at me and he said What would you say if I said â€¦ if I told you Laura w..."
      ]
     },
     "execution_count": 94,
     "metadata": {},
     "output_type": "execute_result"
    }
   ],
   "source": [
    "path = os.path.abspath(r'C:\\Users\\catat\\OneDrive\\Desktop\\DataForBachelorThesis\\Real-lifeDeceptionDetection2016\\Transcription\\Truthful\\transcripts.csv')\n",
    "df_small = pd.read_csv(path, index_col=0)\n",
    "\n",
    "# specify rows of importance\n",
    "df_small = df_small[[\"veracity\", \"statement\"]]\n",
    "\n",
    "# See sample of data\n",
    "df_small.head(5)"
   ]
  },
  {
   "cell_type": "code",
   "execution_count": 95,
   "id": "0eedfe9b",
   "metadata": {},
   "outputs": [
    {
     "data": {
      "text/html": [
       "<div>\n",
       "<style scoped>\n",
       "    .dataframe tbody tr th:only-of-type {\n",
       "        vertical-align: middle;\n",
       "    }\n",
       "\n",
       "    .dataframe tbody tr th {\n",
       "        vertical-align: top;\n",
       "    }\n",
       "\n",
       "    .dataframe thead th {\n",
       "        text-align: right;\n",
       "    }\n",
       "</style>\n",
       "<table border=\"1\" class=\"dataframe\">\n",
       "  <thead>\n",
       "    <tr style=\"text-align: right;\">\n",
       "      <th></th>\n",
       "      <th>veracity</th>\n",
       "      <th>statement</th>\n",
       "    </tr>\n",
       "  </thead>\n",
       "  <tbody>\n",
       "    <tr>\n",
       "      <th>0</th>\n",
       "      <td>0</td>\n",
       "      <td>There is a great deal of truth to the anti-vax movement.</td>\n",
       "    </tr>\n",
       "    <tr>\n",
       "      <th>1</th>\n",
       "      <td>0</td>\n",
       "      <td>Jenny mccarthy is a learned doctor who deserves our respect.</td>\n",
       "    </tr>\n",
       "    <tr>\n",
       "      <th>2</th>\n",
       "      <td>0</td>\n",
       "      <td>Driving doesn\\t really require any practice.</td>\n",
       "    </tr>\n",
       "    <tr>\n",
       "      <th>3</th>\n",
       "      <td>0</td>\n",
       "      <td>Drinking and driving is a winning and safe combination.</td>\n",
       "    </tr>\n",
       "    <tr>\n",
       "      <th>4</th>\n",
       "      <td>0</td>\n",
       "      <td>Good hygiene isn\\t really important or attractive.</td>\n",
       "    </tr>\n",
       "  </tbody>\n",
       "</table>\n",
       "</div>"
      ],
      "text/plain": [
       "   veracity                                                     statement\n",
       "0         0      There is a great deal of truth to the anti-vax movement.\n",
       "1         0  Jenny mccarthy is a learned doctor who deserves our respect.\n",
       "2         0                  Driving doesn\\t really require any practice.\n",
       "3         0       Drinking and driving is a winning and safe combination.\n",
       "4         0            Good hygiene isn\\t really important or attractive."
      ]
     },
     "execution_count": 95,
     "metadata": {},
     "output_type": "execute_result"
    }
   ],
   "source": [
    "path = os.path.abspath('sevenDataset_cleaned.csv')\n",
    "df_7t = pd.read_csv(path, index_col=0)\n",
    "\n",
    "# specify rows of importance\n",
    "df_7t = df_7t[[\"veracity\", \"statement\"]]\n",
    "\n",
    "# See sample of data\n",
    "df_7t.head(5)"
   ]
  },
  {
   "cell_type": "code",
   "execution_count": 6,
   "id": "51b6c032",
   "metadata": {},
   "outputs": [],
   "source": [
    "df_united = pd.concat([df_political,df_small])\n",
    "df_united = pd.concat([df_united, df_7t])"
   ]
  },
  {
   "cell_type": "code",
   "execution_count": 7,
   "id": "cd4e05f3",
   "metadata": {},
   "outputs": [
    {
     "name": "stdout",
     "output_type": "stream",
     "text": [
      "<class 'pandas.core.frame.DataFrame'>\n",
      "Int64Index: 6231 entries, 3 to 3944\n",
      "Data columns (total 2 columns):\n",
      " #   Column     Non-Null Count  Dtype \n",
      "---  ------     --------------  ----- \n",
      " 0   veracity   6231 non-null   int64 \n",
      " 1   statement  6231 non-null   object\n",
      "dtypes: int64(1), object(1)\n",
      "memory usage: 146.0+ KB\n"
     ]
    }
   ],
   "source": [
    "df_united.info()"
   ]
  },
  {
   "cell_type": "markdown",
   "id": "8b9ceeab",
   "metadata": {},
   "source": [
    "## Split the dataframe into train, validation and test¶"
   ]
  },
  {
   "cell_type": "code",
   "execution_count": 8,
   "id": "655bb6c0",
   "metadata": {},
   "outputs": [],
   "source": [
    "train=df_united.sample(frac=0.7,random_state=200) #random state is a seed value\n",
    "df_test = df_united.drop(train.index)\n",
    "validation=df_validation.sample(frac=0.6,random_state=200)\n",
    "test = df_validation.drop(validation.index)"
   ]
  },
  {
   "cell_type": "code",
   "execution_count": 9,
   "id": "85096c89",
   "metadata": {
    "scrolled": true
   },
   "outputs": [
    {
     "name": "stdout",
     "output_type": "stream",
     "text": [
      "<class 'pandas.core.frame.DataFrame'>\n",
      "Int64Index: 4362 entries, 1134 to 2335\n",
      "Data columns (total 2 columns):\n",
      " #   Column     Non-Null Count  Dtype \n",
      "---  ------     --------------  ----- \n",
      " 0   veracity   4362 non-null   int64 \n",
      " 1   statement  4362 non-null   object\n",
      "dtypes: int64(1), object(1)\n",
      "memory usage: 102.2+ KB\n",
      "<class 'pandas.core.frame.DataFrame'>\n",
      "Int64Index: 877 entries, 1626 to 790\n",
      "Data columns (total 2 columns):\n",
      " #   Column     Non-Null Count  Dtype \n",
      "---  ------     --------------  ----- \n",
      " 0   veracity   877 non-null    int64 \n",
      " 1   statement  877 non-null    object\n",
      "dtypes: int64(1), object(1)\n",
      "memory usage: 20.6+ KB\n",
      "<class 'pandas.core.frame.DataFrame'>\n",
      "Int64Index: 542 entries, 155 to 3928\n",
      "Data columns (total 2 columns):\n",
      " #   Column     Non-Null Count  Dtype \n",
      "---  ------     --------------  ----- \n",
      " 0   veracity   542 non-null    int64 \n",
      " 1   statement  542 non-null    object\n",
      "dtypes: int64(1), object(1)\n",
      "memory usage: 12.7+ KB\n"
     ]
    }
   ],
   "source": [
    "train.info()\n",
    "validation.info()\n",
    "test.info()"
   ]
  },
  {
   "cell_type": "markdown",
   "id": "3a6e789f",
   "metadata": {},
   "source": [
    "## Test to see that the datasets are  well balanced"
   ]
  },
  {
   "cell_type": "code",
   "execution_count": 10,
   "id": "5e119558",
   "metadata": {},
   "outputs": [],
   "source": [
    "train_avg_l = train['statement'].apply(len).mean()\n",
    "valid_avg_l = validation['statement'].apply(len).mean()\n",
    "test_avg_l = test['statement'].apply(len).mean()"
   ]
  },
  {
   "cell_type": "code",
   "execution_count": 11,
   "id": "d21004a4",
   "metadata": {
    "scrolled": true
   },
   "outputs": [
    {
     "name": "stdout",
     "output_type": "stream",
     "text": [
      "68.0\n",
      "64.74800456100343\n",
      "60.72509225092251\n"
     ]
    }
   ],
   "source": [
    "#compute the average lenght from each dataset to ensure the random distribution of the data\n",
    "print(train_avg_l)\n",
    "print(valid_avg_l)\n",
    "print(test_avg_l)"
   ]
  },
  {
   "cell_type": "code",
   "execution_count": 10,
   "id": "1258dce4",
   "metadata": {},
   "outputs": [],
   "source": [
    "import en_core_web_sm\n",
    "\n",
    "nlp = en_core_web_sm.load()\n",
    "\n",
    "def strip_html_tags(text):\n",
    "            soup = BeautifulSoup(text, \"html.parser\")\n",
    "            [s.extract() for s in soup([\"iframe\", \"script\"])]\n",
    "            stripped_text = soup.get_text()\n",
    "            stripped_text = re.sub(r'[\\r|\\n|\\r\\n]+', '\\n', stripped_text)\n",
    "            return stripped_text\n",
    "        \n",
    "def remove_accented_characters(text):\n",
    "    text = unicodedata.normalize('NFKD', text).encode('ascii', 'ignore').decode('utf-8', 'ignore')\n",
    "    return text"
   ]
  },
  {
   "cell_type": "code",
   "execution_count": 8,
   "id": "265d516e",
   "metadata": {},
   "outputs": [],
   "source": [
    "# lemmatization function\n",
    "def normalize(text, \n",
    "              remove_html = False, \n",
    "              lowercase = False,\n",
    "              lemmatize = False,\n",
    "              remove_extra_newlines = False,\n",
    "              remove_stopwords = False,\n",
    "              remove_non_alphabetic = False,\n",
    "              remove_accented_char = False,\n",
    "              ):\n",
    "        \n",
    "    # remove html\n",
    "    if remove_html:\n",
    "        text = strip_html_tags(text)\n",
    "\n",
    "    # lowercase all text\n",
    "    if lowercase:\n",
    "        text = text.lower()\n",
    "        \n",
    "    # lemmatize\n",
    "    if lemmatize:        \n",
    "        text = nlp(text)\n",
    "        text = ' '.join([word.lemma_ if word.lemma_ != '-PRON-' else word.text for word in text])\n",
    "        \n",
    "    # remove extra new lines    \n",
    "    if remove_extra_newlines:\n",
    "        text = re.sub(r'[\\r|\\n|\\r\\n]+', ' ', text)\n",
    "    \n",
    "    # remove stopwords\n",
    "    if remove_stopwords:\n",
    "        stopwords = spacy.lang.en.stop_words.STOP_WORDS\n",
    "        text = nlp(text)\n",
    "        text = ' '.join([token.text for token in text if token.text not in stopwords])\n",
    "    \n",
    "    # remove non-alphabetic characters\n",
    "    if remove_non_alphabetic:\n",
    "        text = nlp(text)\n",
    "        text = ' '.join([token.text for token in text if token.text.isalpha()])\n",
    "        \n",
    "    # remove accented characters\n",
    "    if remove_accented_char:\n",
    "        text = remove_accented_characters(text)\n",
    "\n",
    "    return text"
   ]
  },
  {
   "cell_type": "code",
   "execution_count": 23,
   "id": "f4fc5729",
   "metadata": {},
   "outputs": [],
   "source": [
    "train[\"light_normalization\"] = train.statement.apply(lambda x : normalize(x, \n",
    "                                                                  remove_html = True, \n",
    "                                                                  lowercase = True,\n",
    "                                                                  remove_extra_newlines = True,\n",
    "                                                                  remove_accented_char = True))"
   ]
  },
  {
   "cell_type": "markdown",
   "id": "f2d1bfc7",
   "metadata": {},
   "source": [
    "## Prepare the logistic regression model"
   ]
  },
  {
   "cell_type": "code",
   "execution_count": 12,
   "id": "62f6d085",
   "metadata": {},
   "outputs": [],
   "source": [
    "class Binary_Classification:\n",
    "    def __init__(self, \n",
    "                 x = None, \n",
    "                 y = None, \n",
    "                 scoring = None, \n",
    "                 test_size = 0.3, \n",
    "                 n_folds = 3, \n",
    "                 standardize = False,\n",
    "                 nlp = False,\n",
    "                 vectorizer = None): \n",
    "        \n",
    "        self.x = x # features as df\n",
    "        self.y = y # target as df\n",
    "        self.scoring = scoring # example: \"accuracy\", \"f1\", \"roc_auc\"\n",
    "        self.test_size = test_size # set to .3 by default\n",
    "        self.n_folds = n_folds # set to 5 by default\n",
    "        self.standardize = standardize\n",
    "        self.x_train, self.x_test, self.y_train, self.y_test = \\\n",
    "        train_test_split(self.x, \n",
    "                         self.y, \n",
    "                         test_size = self.test_size, \n",
    "                         random_state = 0)\n",
    "        if nlp:\n",
    "            self.x_train = vectorizer.fit_transform(self.x_train)\n",
    "            self.x_test = vectorizer.transform(self.x_test)\n",
    "    \n",
    "    \"\"\" \n",
    "    .examine_model attribute has two functions within it:\n",
    "    (1) model_and_grid => using a model's name, it returns the model with cvgrid\n",
    "    (2) best_model => using model_and_grid, finds best hyperparameters for model\n",
    "    \"\"\"\n",
    "    \n",
    "    def examine_model(self, model_name):\n",
    "        \n",
    "        def model_and_grid(model_name):\n",
    "            if model_name == \"log_reg\":\n",
    "                model = LogisticRegression()\n",
    "                grid = {'C' : [0.001, 0.1, 1, 10, 100]}\n",
    "                return model, grid\n",
    "\n",
    "            elif model_name == \"knn\":\n",
    "                model = KNeighborsClassifier()\n",
    "                grid = {\"n_neighbors\" : [3,6,9,12]}\n",
    "                return model, grid\n",
    "            \n",
    "            elif model_name == \"gnb\":\n",
    "                model = GaussianNB()\n",
    "                grid = {\"var_smoothing\" : [1e-01, 1e-05, 1e-09, 1e-15]}\n",
    "                return model, grid\n",
    "            \n",
    "            elif model_name == \"mnb\":\n",
    "                model = MultinomialNB()\n",
    "                grid = {\"alpha\" : [.1, 1, 5, 10, 50]}\n",
    "                return model, grid\n",
    "            \n",
    "            elif model_name == \"ran_for\":\n",
    "                model = RandomForestClassifier(random_state=0)\n",
    "                grid = {'n_estimators' : [1, 30], \n",
    "                        'max_features' : ['auto', 'log2'],  \n",
    "                        'max_depth' : [ 3, 5, 7, 10, 12, 15], \n",
    "                        'criterion' : ['gini', 'entropy']}\n",
    "                return model, grid\n",
    "\n",
    "            elif model_name == \"xgb\":\n",
    "                model = XGBClassifier()\n",
    "                grid = { \n",
    "                          \"max_depth\"         : [2, 4, 8, 16],\n",
    "                          \"alpha\"             : [10, 20, 30],\n",
    "                          \"lambda\"            : [10, 20, 30],\n",
    "        #                  \"min_child_weight\" : [  1,  5],\n",
    "        #                  \"colsample_bytree\" : [ .3, .7],\n",
    "        #                  \"learning_rate\"    : [.10, .30],\n",
    "        #                  \"gamma\"            : [  0, .5, 5],\n",
    "        #                  \"eta\"              : [0.05, 0.20]\n",
    "                }  \n",
    "                return model, grid\n",
    "        \n",
    "        def best_model(model, grid):\n",
    "            gs = GridSearchCV(model, param_grid=grid, cv=self.n_folds, scoring=self.scoring)\n",
    "            gs.fit(self.x_train, self.y_train.iloc[:,0])\n",
    "            print(\"CV \" + self.scoring.upper() + \" SCORE:\", round(gs.best_score_, 2))\n",
    "            print(\"CV PARAMS: \", gs.best_params_)\n",
    "            #print(\"BEST MODEL: \", gs.best_estimator_)\n",
    "            best_model = gs.best_estimator_\n",
    "            return best_model\n",
    "\n",
    "        model, grid = model_and_grid(model_name)\n",
    "        best_mod = best_model(model, grid)\n",
    "        return best_mod\n",
    "\n",
    "    \"\"\" \n",
    "    .compare attribute uses examine_model to compare all models\n",
    "    \"\"\"\n",
    "    \n",
    "    def compare(self):\n",
    "        z = 0\n",
    "        mods = [\"log_reg\", \n",
    "                #\"knn\", \n",
    "                #\"gnb\", \n",
    "                \"mnb\", \n",
    "                \"ran_for\",\n",
    "                #\"xgb\"\n",
    "               ]\n",
    "        for name in mods:\n",
    "            print(\"*** \" + mods[z] + \" ***\")\n",
    "            self.examine_model(name)\n",
    "            print(\"\")\n",
    "            z += 1\n",
    "    \n",
    "    \"\"\" \n",
    "    .test_scores attribute uses examine_model to report various metrics on training & test data\n",
    "    \"\"\"\n",
    "    \n",
    "    def test_scores(self, \n",
    "                    model_name = None, \n",
    "                    verbose_results = False, \n",
    "                    all_metrics = True): \n",
    "        model = self.examine_model(model_name)\n",
    "        y_pred_train = model.predict(self.x_train)\n",
    "        y_pred_test = model.predict(self.x_test)\n",
    "        y_prob_train = model.predict_proba(self.x_train)[:,1]\n",
    "        y_prob_test = model.predict_proba(self.x_test)[:,1]\n",
    "        \n",
    "        print()\n",
    "        \"\"\" Accuracy \"\"\"\n",
    "        ## number of correct predictions made / total number of predictions made\n",
    "        ### accuracy is not a good metric for imbalanced data\n",
    "        if self.scoring == \"accuracy\" or all_metrics:\n",
    "            accuracy_training = model.score(self.x_train, self.y_train)\n",
    "            tru_count_train = Counter(self.y_train.iloc[:,0])[True]\n",
    "            fal_count_train = Counter(self.y_train.iloc[:,0])[False]\n",
    "\n",
    "            # test baseline\n",
    "#             print(\"chance of true in training (baseline): \", \n",
    "#                   round(tru_count_train/(tru_count_train + fal_count_train),2))\n",
    "#             print(\"chance of false in training (baseline): \", \n",
    "#                   round(fal_count_train/(tru_count_train + fal_count_train),2))\n",
    "            \n",
    "#             print(\"Accuracy on training data: {:0.2f}\".format(accuracy_training))\n",
    "#             print()\n",
    "\n",
    "            accuracy_test = model.score(self.x_test, self.y_test)\n",
    "            tru_count_test = Counter(self.y_test.iloc[:,0])[True]\n",
    "            fal_count_test = Counter(self.y_test.iloc[:,0])[False]\n",
    "\n",
    "            # test baseline\n",
    "#                 print(\"chance of true in test (baseline): \", \n",
    "#                       round(tru_count_test/(tru_count_test + fal_count_test),2))\n",
    "#                 print(\"chance of false in test (baseline): \", \n",
    "#                       round(fal_count_test/(tru_count_test + fal_count_test),2))\n",
    "\n",
    "            print(\"Accuracy on test data: {:0.2f}\".format(accuracy_test))\n",
    "            print()\n",
    "\n",
    "        \"\"\" ROC AUC \"\"\"\n",
    "        ## How well model distinguishs between classes\n",
    "        ### Higher the AUC, better the model is at predicting 0 as 0 and 1 as 1\n",
    "        #### https://towardsdatascience.com/understanding-auc-roc-curve-68b2303cc9c5\n",
    "        if self.scoring == \"roc_auc\" or all_metrics:\n",
    "            roc_auc_score_training = roc_auc_score(self.y_train.iloc[:,0], y_prob_train)\n",
    "#             print(\"ROC AUC on training data:{:0.2f}\".format(roc_auc_score_training))\n",
    "\n",
    "            roc_auc_score_test = roc_auc_score(self.y_test.iloc[:,0], y_prob_test)\n",
    "            print(\"ROC AUC on test data: {:0.2f}\\n\".format(roc_auc_score_test))\n",
    "                \n",
    "        \"\"\" F1 (f-one) Score \"\"\"\n",
    "        ## F1 Score = 2*((precision*recall)/(precision+recall))\n",
    "        if self.scoring == \"f1\" or all_metrics:\n",
    "            f1_train = metrics.f1_score(self.y_train.iloc[:,0], y_pred_train)\n",
    "#             print(\"F1 on training data:{:0.2f}\".format(f1_train))\n",
    "\n",
    "            f1_test = metrics.f1_score(self.y_test.iloc[:,0], y_pred_test)\n",
    "            print(\"F1 on test data: {:0.2f}\".format(f1_test))\n",
    "            print()\n",
    "\n",
    "        \"\"\" Classification Report \"\"\"\n",
    "        ## Precision = TP / TP + FP\n",
    "        ## Recall = TP/ TP + FN\n",
    "        class_repo = classification_report(self.y_test,y_pred_test)\n",
    "        print(\"Classification Report on test data:\\n\", class_repo)\n",
    "            \n",
    "        \"\"\" Confusion matrix \"\"\"\n",
    "        def print_confusion_matrix(confusion_matrix, \n",
    "                           class_names,\n",
    "                           #figsize = (2,2), fontsize=20\n",
    "                          ):\n",
    "    \n",
    "            \"\"\"Prints a confusion matrix, as returned by sklearn.metrics.confusion_matrix, as a heatmap.\n",
    "            2 benefits: (1) mieruka (i.e., visual control) and \n",
    "            (2) colors change depending on values (larger values generate darker colors)\n",
    "            \n",
    "            if you're wondering what mieruka is: \n",
    "            https://harishsnotebook.wordpress.com/2016/05/05/visibilization-crime-fighting-magic-and-mieruka/\n",
    "\n",
    "            Arguments\n",
    "            ---------\n",
    "            confusion_matrix: numpy.ndarray\n",
    "                The numpy.ndarray object returned from a call to sklearn.metrics.confusion_matrix. \n",
    "                Similarly constructed ndarrays can also be used.\n",
    "            class_names: list\n",
    "                An ordered list of class names, in the order they index the given confusion matrix.\n",
    "            figsize: tuple\n",
    "                A 2-long tuple, the first value determining the horizontal size of the ouputted figure,\n",
    "                the second determining the vertical size. Defaults to (10,7).\n",
    "            fontsize: int\n",
    "                Font size for axes labels. Defaults to 14.\n",
    "\n",
    "            Returns\n",
    "            -------\n",
    "            matplotlib.figure.Figure\n",
    "                The resulting confusion matrix figure\n",
    "            \"\"\"\n",
    "\n",
    "            df_cm = pd.DataFrame(\n",
    "                confusion_matrix, \n",
    "                index=class_names, \n",
    "                columns=class_names, \n",
    "            )\n",
    "\n",
    "            fig = plt.figure(#figsize=figsize\n",
    "            )\n",
    "\n",
    "            try:\n",
    "                heatmap = sns.heatmap(df_cm, \n",
    "                                      annot=True, \n",
    "                                      fmt=\"d\", \n",
    "                                      cbar=False, \n",
    "                                      cmap=\"YlGnBu\")\n",
    "            except ValueError:\n",
    "                raise ValueError(\"Confusion matrix values must be integers.\")\n",
    "\n",
    "                heatmap.yaxis.set_ticklabels(heatmap.yaxis.get_ticklabels(), \n",
    "                                             rotation=0, \n",
    "                                             ha='right', \n",
    "                                             #fontsize=fontsize\n",
    "                                            )\n",
    "\n",
    "                heatmap.xaxis.set_ticklabels(heatmap.xaxis.get_ticklabels(), \n",
    "                                             rotation=45, \n",
    "                                             ha='right', \n",
    "                                             #fontsize=fontsize\n",
    "                                            )\n",
    "\n",
    "            plt.title('Test Confusion Matrix')\n",
    "            plt.ylabel('Correct label')\n",
    "            plt.xlabel('Predicted label')\n",
    "            \n",
    "        c_matrix = confusion_matrix(self.y_test, y_pred_test)\n",
    "        print_confusion_matrix(c_matrix, [False, True])\n",
    "        \n",
    "        if verbose_results:\n",
    "            #Plot ROC curve\n",
    "            fpr, tpr, thresholds = roc_curve(self.y_test, y_prob_test)\n",
    "            plt.plot([0, 1], [0, 1], 'k--')\n",
    "            plt.plot(fpr, tpr)\n",
    "            plt.xlabel('False Positive Rate')\n",
    "            plt.ylabel('True Positive Rate')\n",
    "            plt.title('ROC Curve')\n",
    "            plt.show()\n",
    "            print(\"\")    \n",
    "                \n",
    "            # Threshold Plot\n",
    "            precision, recall, thresholds = precision_recall_curve(self.y_test, y_prob_test)\n",
    "            f1 = []\n",
    "            acc = []\n",
    "            roc = []\n",
    "            avg_pr = []\n",
    "\n",
    "            def adjust_pred_prob(y_prob_test, new_threshold):\n",
    "                return [1 if prob >= new_threshold else 0 for prob in y_prob_test]\n",
    "\n",
    "            for t in thresholds:\n",
    "                adjusted_y_pred = adjust_pred_prob(y_prob_test, t)\n",
    "                add_f1 = metrics.f1_score(self.y_test, adjusted_y_pred)\n",
    "                f1.append(add_f1)\n",
    "                \n",
    "            for t in thresholds:\n",
    "                adjusted_y_pred = adjust_pred_prob(y_prob_test, t)\n",
    "                add_acc = accuracy_score(self.y_test, adjusted_y_pred)\n",
    "                acc.append(add_acc)\n",
    "                \n",
    "            for t in thresholds:\n",
    "                adjusted_y_pred = adjust_pred_prob(y_prob_test, t)\n",
    "                add_avg_pr = average_precision_score(self.y_test, adjusted_y_pred)\n",
    "                avg_pr.append(add_avg_pr)\n",
    "                \n",
    "#             ## Retrieve probability of being 1(in second column of probs_y)\n",
    "#             pr_auc = metrics.auc(recall, precision)\n",
    "\n",
    "            plt.title(\"Precision-Recall-Accuracy vs Threshold\")\n",
    "            plt.plot(thresholds, precision[: -1], \"b-\", label=\"Precision\")\n",
    "            plt.plot(thresholds, recall[: -1], \"r-\", label=\"Recall\")\n",
    "            #plt.plot(thresholds, avg_pr, \"k-\", label=\"Average Precision Recall\")\n",
    "            #plt.plot(thresholds, f1, \"k-\", label=\"F1_Score\")\n",
    "            plt.plot(thresholds, acc, \"g-\", label=\"Accuracy\")\n",
    "            \n",
    "            max_acc_x = thresholds[np.argmax(acc)]\n",
    "            plt.axvline(x=max_acc_x, ymin=0.00, ymax=max(acc), color='g', linestyle='-')\n",
    "            #plt.axhline(y=max(acc), color='g', linestyle='--')\n",
    "            #plt.text(max_acc_x, max(acc), (\"Max Accuracy \" + str(round(max_acc_x,2))), rotation=90)\n",
    "            \n",
    "            #max_f1_x = thresholds[np.argmax(f1)]\n",
    "            #plt.axvline(x=max_f1_x, color='k', linestyle='--')\n",
    "            #plt.axhline(y=max(f1), color='k', linestyle='--')\n",
    "            #plt.text(max_f1_x, max(f1), (\"Max F1 Score \" + str(round(max_f1_x,2))), rotation=90)\n",
    "                        \n",
    "            plt.ylabel(\"Score\")\n",
    "            plt.xlabel(\"Threshold\")\n",
    "            \n",
    "            #plt.text(intersect_x, intersect_y, 'PR Intersect', rotation=90)\n",
    "            plt.legend(loc=\"lower left\")\n",
    "            plt.ylim([0,1])\n",
    "            plt.show()\n",
    "            print(\"Maximum Accuracy: \" + str(round(max(acc),2)) + \" @ Threshold: \" + str(round(max_acc_x,2)))\n",
    "            #print(\"Maximum F1 Score: \" + str(round(max(f1),2)) + \" @ Threshold: \" + str(round(max_f1_x,2)))\n",
    "            \n",
    "            \"\"\" \n",
    "            Varying Fscore's beta vs Varying Thresholds\n",
    "            \n",
    "            The beta parameter determines the weight of recall in the combined score. \n",
    "            beta < 1 lends more weight to precision, while \n",
    "            beta > 1 favors recall \n",
    "            (beta -> 0 considers only precision, beta -> inf only recall).\n",
    "            \"\"\"\n",
    "\n",
    "            f025 = []\n",
    "            f050 = []\n",
    "            f075 = []\n",
    "            f100 = []\n",
    "            f125 = []\n",
    "            f150 = []\n",
    "            f200 = []\n",
    "\n",
    "            def fbeta_testing(beta, fxxx):\n",
    "                for t in thresholds:\n",
    "                    adjusted_y_pred = adjust_pred_prob(y_prob_test, t)\n",
    "                    add_fbeta = metrics.fbeta_score(self.y_test, adjusted_y_pred, beta)\n",
    "                    fxxx.append(add_fbeta)\n",
    "\n",
    "            betas = [0.25, 0.50, 0.75, 1.00, 1.25, 1.50, 2.00]\n",
    "            flist = [f025, f050, f075, f100, f125, f150, f200]\n",
    "\n",
    "            z = 0\n",
    "            for beta in betas:\n",
    "                fbeta_testing(beta, flist[z])\n",
    "                z += 1\n",
    "\n",
    "            plt.title(\"F_Beta_Score vs Threshold: Varying Betas\")\n",
    "            #plt.plot(thresholds, f025, \"r-\", label=\"F0.25\")\n",
    "            plt.plot(thresholds, f050, \"m-\", label=\"F0.50\")\n",
    "            #plt.plot(thresholds, f075, \"g-\", label=\"F0.75\")\n",
    "            plt.plot(thresholds, f100, \"c-\", label=\"F1.00\")\n",
    "            #plt.plot(thresholds, f125, \"b-\", label=\"F1.25\")\n",
    "            #plt.plot(thresholds, f150, \"k-\", label=\"F1.50\")\n",
    "            plt.plot(thresholds, f200, \"y-\", label=\"F2.00\")\n",
    "            #plt.axvline(.425, color='k', linestyle='--')\n",
    "            #plt.axvline(.45, color='k', linestyle='-')\n",
    "            \n",
    "            max_f050_x = thresholds[np.argmax(f050)]\n",
    "            plt.axvline(x=max_f050_x, ymin=0.00, ymax=max(f050), color='m', linestyle='-')\n",
    "            max_f100_x = thresholds[np.argmax(f100)]\n",
    "            plt.axvline(x=max_f100_x,ymin=0.00, ymax=max(f100), color='c', linestyle='-')\n",
    "            max_f200_x = thresholds[np.argmax(f200)]\n",
    "            plt.axvline(x=max_f200_x, ymin=0.00, ymax=max(f200), color='y', linestyle='-')\n",
    "            \n",
    "            plt.ylabel(\"F_Beta_Score\")\n",
    "            plt.xlabel(\"Threshold\")\n",
    "            plt.legend(loc=\"lower left\")\n",
    "            plt.ylim([0,1])\n",
    "            plt.show()\n",
    "            \n",
    "            print(\"Maximum F0.5 Score: \" + str(round(max(f050),2)) + \" @ Threshold: \" + str(round(max_f050_x,2)))\n",
    "            print(\"Maximum F1   Score: \" + str(round(max(f100),2)) + \" @ Threshold: \" + str(round(max_f100_x,2)))\n",
    "            print(\"Maximum F2.0 Score: \" + str(round(max(f200),2)) + \" @ Threshold: \" + str(round(max_f200_x,2)))\n",
    "\n",
    "            \"\"\" Threshold = 0.5, varying fscore's beta \"\"\"\n",
    "\n",
    "            betas = [0.25,0.50,0.75,1.00,1.25,1.50,2.00]\n",
    "            fbetas = []\n",
    "\n",
    "            for beta in betas:\n",
    "                score = fbeta_score(self.y_test, y_pred_test, beta=beta)\n",
    "                fbetas.append(score)\n",
    "        \n",
    "    def feature_importance(self, model_name): \n",
    "        model = self.examine_model(model_name)\n",
    "        fitted = model.fit(self.x_train, self.y_train.iloc[:,0])\n",
    "        \n",
    "        importances = fitted.feature_importances_\n",
    "        indices = np.argsort(importances)\n",
    "        features = self.x_train.columns\n",
    "        plt.title('Feature Importances')\n",
    "        plt.barh(range(len(indices)), importances[indices], color='grey', align='center')\n",
    "        plt.yticks(range(len(indices)), [features[i] for i in indices])\n",
    "        plt.xlabel('Relative Importance')\n",
    "        plt.ylabel('Features')\n",
    "        plt.show()\n",
    "    \n",
    "    \"\"\" \n",
    "    .permutation_importance attribute uses examine_model to report features in order of importance\n",
    "    \"\"\"\n",
    "    def permutation_importance(self, model_name): \n",
    "        # https://www.kaggle.com/dansbecker/permutation-importance\n",
    "        model = self.examine_model(model_name)\n",
    "        fitted = model.fit(self.x_train, self.y_train.iloc[:,0])\n",
    "        \n",
    "        perm = PermutationImportance(fitted, random_state=0).fit(self.x_test, self.y_test.iloc[:,0])\n",
    "        return eli5.show_weights(perm, feature_names = self.x_test.columns.tolist())\n",
    "    \n",
    "    def shap_summary_plot(self, model_name): \n",
    "        \"\"\"Calculating SHAP values can be slow\"\"\"\n",
    "        # https://www.kaggle.com/dansbecker/advanced-uses-of-shap-values\n",
    "        \n",
    "        model = self.examine_model(model_name)\n",
    "        fitted = model.fit(self.x_train, self.y_train.iloc[:,0])\n",
    "        \n",
    "        if model_name == \"ran_for\":\n",
    "            explainer = shap.TreeExplainer(fitted)\n",
    "            shap_values = explainer.shap_values(self.x_test)\n",
    "            # we index in ([1]) to get the SHAP values for the prediction of \"True\"\n",
    "            return shap.summary_plot(shap_values[1], self.x_test)\n",
    "        \n",
    "        else:     \n",
    "            \"\"\" KernelExplainer cannot handle boolean values, they must be converted to int \"\"\"\n",
    "            x_train_summary = shap.kmeans(self.x_train, 3)\n",
    "            explainer = shap.KernelExplainer(fitted.predict, x_train_summary)\n",
    "            shap_values = explainer.shap_values(self.x_test)\n",
    "            return shap.summary_plot(shap_values, self.x_test)\n",
    "    \n",
    "    def coefficients(self, model_name):\n",
    "        model = self.examine_model(model_name)\n",
    "        try:\n",
    "            # Coefficients\n",
    "            coefs = pd.Series(model.coef_[0], index = self.x.columns)\n",
    "            coefs = coefs.sort_values()\n",
    "            coefs.plot(kind=\"bar\",title=(model_name.capitalize() + \" Coefficients\"))\n",
    "            plt.show()\n",
    "        except: \n",
    "            print()"
   ]
  },
  {
   "cell_type": "code",
   "execution_count": 13,
   "id": "d4dcf90c",
   "metadata": {},
   "outputs": [],
   "source": [
    "# For Aesthetics\n",
    "font = {'size' : 24}\n",
    "mpl.rc('font', **font)\n",
    "mpl.rcParams['figure.figsize'] = (3.0, 2.0) ### (→ , ↑) ###"
   ]
  },
  {
   "cell_type": "code",
   "execution_count": 24,
   "id": "4a40f036",
   "metadata": {},
   "outputs": [
    {
     "name": "stdout",
     "output_type": "stream",
     "text": [
      "*** log_reg ***\n",
      "CV ACCURACY SCORE: 0.57\n",
      "CV PARAMS:  {'C': 0.1}\n",
      "\n",
      "*** mnb ***\n",
      "CV ACCURACY SCORE: 0.57\n",
      "CV PARAMS:  {'alpha': 5}\n",
      "\n",
      "*** ran_for ***\n",
      "CV ACCURACY SCORE: 0.55\n",
      "CV PARAMS:  {'criterion': 'gini', 'max_depth': 10, 'max_features': 'auto', 'n_estimators': 30}\n",
      "\n"
     ]
    }
   ],
   "source": [
    "models = Binary_Classification(x = train.light_normalization, \n",
    "                               y = train[[\"veracity\"]], \n",
    "                               scoring = \"accuracy\", \n",
    "                               test_size = 0.3, \n",
    "                               n_folds = 3, \n",
    "                               standardize = False,\n",
    "                               nlp = True,\n",
    "                               vectorizer = CountVectorizer(lowercase = False))\n",
    "                     \n",
    "models.compare()"
   ]
  },
  {
   "cell_type": "code",
   "execution_count": 25,
   "id": "0dff7231",
   "metadata": {},
   "outputs": [
    {
     "name": "stdout",
     "output_type": "stream",
     "text": [
      "CV ACCURACY SCORE: 0.57\n",
      "CV PARAMS:  {'C': 0.1}\n",
      "\n",
      "Accuracy on test data: 0.57\n",
      "\n",
      "Classification Report on test data:\n",
      "               precision    recall  f1-score   support\n",
      "\n",
      "           0       0.55      0.57      0.56       627\n",
      "           1       0.59      0.57      0.58       682\n",
      "\n",
      "    accuracy                           0.57      1309\n",
      "   macro avg       0.57      0.57      0.57      1309\n",
      "weighted avg       0.57      0.57      0.57      1309\n",
      "\n"
     ]
    },
    {
     "data": {
      "image/png": "[encoded data removed]",
      "text/plain": [
       "<Figure size 216x144 with 1 Axes>"
      ]
     },
     "metadata": {
      "needs_background": "light"
     },
     "output_type": "display_data"
    }
   ],
   "source": [
    "models.test_scores(model_name = \"log_reg\", \n",
    "                   verbose_results = False, \n",
    "                   all_metrics = False)"
   ]
  },
  {
   "cell_type": "code",
   "execution_count": 18,
   "id": "e97e2c3b",
   "metadata": {
    "scrolled": true
   },
   "outputs": [
    {
     "name": "stdout",
     "output_type": "stream",
     "text": [
      "CV ACCURACY SCORE: 0.57\n",
      "CV PARAMS:  {'alpha': 5}\n",
      "\n",
      "Accuracy on test data: 0.56\n",
      "\n",
      "Classification Report on test data:\n",
      "               precision    recall  f1-score   support\n",
      "\n",
      "           0       0.57      0.37      0.45       627\n",
      "           1       0.56      0.74      0.64       682\n",
      "\n",
      "    accuracy                           0.56      1309\n",
      "   macro avg       0.56      0.56      0.54      1309\n",
      "weighted avg       0.56      0.56      0.55      1309\n",
      "\n"
     ]
    },
    {
     "data": {
      "image/png": "[encoded data removed]",
      "text/plain": [
       "<Figure size 216x144 with 1 Axes>"
      ]
     },
     "metadata": {
      "needs_background": "light"
     },
     "output_type": "display_data"
    }
   ],
   "source": [
    "models.test_scores(model_name = \"mnb\", \n",
    "                   verbose_results = False, \n",
    "                   all_metrics = False)"
   ]
  },
  {
   "cell_type": "code",
   "execution_count": 30,
   "id": "85b99360",
   "metadata": {},
   "outputs": [
    {
     "name": "stdout",
     "output_type": "stream",
     "text": [
      "*** log_reg ***\n",
      "CV ACCURACY SCORE: 0.58\n",
      "CV PARAMS:  {'C': 0.1}\n",
      "\n",
      "*** mnb ***\n",
      "CV ACCURACY SCORE: 0.58\n",
      "CV PARAMS:  {'alpha': 10}\n",
      "\n",
      "*** ran_for ***\n",
      "CV ACCURACY SCORE: 0.56\n",
      "CV PARAMS:  {'criterion': 'entropy', 'max_depth': 12, 'max_features': 'auto', 'n_estimators': 30}\n",
      "\n"
     ]
    }
   ],
   "source": [
    "models = Binary_Classification(x = df_united.statement, \n",
    "                               y = df_united[[\"veracity\"]], \n",
    "                               scoring = \"accuracy\", \n",
    "                               test_size = 0.3, \n",
    "                               n_folds = 3, \n",
    "                               standardize = False,\n",
    "                               nlp = True,\n",
    "                               vectorizer = CountVectorizer(lowercase = False))\n",
    "                     \n",
    "models.compare()"
   ]
  },
  {
   "cell_type": "code",
   "execution_count": 31,
   "id": "b777d725",
   "metadata": {
    "scrolled": true
   },
   "outputs": [
    {
     "name": "stdout",
     "output_type": "stream",
     "text": [
      "CV ACCURACY SCORE: 0.58\n",
      "CV PARAMS:  {'C': 0.1}\n",
      "\n",
      "Accuracy on test data: 0.58\n",
      "\n",
      "Classification Report on test data:\n",
      "               precision    recall  f1-score   support\n",
      "\n",
      "           0       0.60      0.58      0.59       966\n",
      "           1       0.57      0.59      0.58       904\n",
      "\n",
      "    accuracy                           0.58      1870\n",
      "   macro avg       0.58      0.58      0.58      1870\n",
      "weighted avg       0.58      0.58      0.58      1870\n",
      "\n"
     ]
    },
    {
     "data": {
      "image/png": "[encoded data removed]",
      "text/plain": [
       "<Figure size 216x144 with 1 Axes>"
      ]
     },
     "metadata": {
      "needs_background": "light"
     },
     "output_type": "display_data"
    }
   ],
   "source": [
    "models.test_scores(model_name = \"log_reg\", \n",
    "                   verbose_results = False, \n",
    "                   all_metrics = False)"
   ]
  },
  {
   "cell_type": "code",
   "execution_count": 96,
   "id": "3b5c92d1",
   "metadata": {},
   "outputs": [],
   "source": [
    "df_united_2 = pd.concat([df_political,df_small])"
   ]
  },
  {
   "cell_type": "code",
   "execution_count": 97,
   "id": "90a5d278",
   "metadata": {},
   "outputs": [],
   "source": [
    "df_united_2[\"light_normalization\"] = df_united_2.statement.apply(lambda x : normalize(x, \n",
    "                                                                  remove_html = True, \n",
    "                                                                  lowercase = True,\n",
    "                                                                  remove_extra_newlines = True,\n",
    "                                                                  remove_accented_char = True))"
   ]
  },
  {
   "cell_type": "code",
   "execution_count": 36,
   "id": "f65ca77d",
   "metadata": {
    "scrolled": true
   },
   "outputs": [
    {
     "name": "stdout",
     "output_type": "stream",
     "text": [
      "*** log_reg ***\n",
      "CV ACCURACY SCORE: 0.59\n",
      "CV PARAMS:  {'C': 0.1}\n",
      "\n",
      "*** mnb ***\n",
      "CV ACCURACY SCORE: 0.61\n",
      "CV PARAMS:  {'alpha': 1}\n",
      "\n",
      "*** ran_for ***\n",
      "CV ACCURACY SCORE: 0.6\n",
      "CV PARAMS:  {'criterion': 'gini', 'max_depth': 12, 'max_features': 'auto', 'n_estimators': 30}\n",
      "\n"
     ]
    }
   ],
   "source": [
    "models = Binary_Classification(x = df_united_2.light_normalization, \n",
    "                               y = df_united_2[[\"veracity\"]], \n",
    "                               scoring = \"accuracy\", \n",
    "                               test_size = 0.3, \n",
    "                               n_folds = 3, \n",
    "                               standardize = False,\n",
    "                               nlp = True,\n",
    "                               vectorizer = CountVectorizer(lowercase = False))\n",
    "                     \n",
    "models.compare()"
   ]
  },
  {
   "cell_type": "code",
   "execution_count": 37,
   "id": "412f7939",
   "metadata": {
    "scrolled": true
   },
   "outputs": [
    {
     "name": "stdout",
     "output_type": "stream",
     "text": [
      "CV ACCURACY SCORE: 0.59\n",
      "CV PARAMS:  {'C': 0.1}\n",
      "\n",
      "Accuracy on test data: 0.64\n",
      "\n",
      "Classification Report on test data:\n",
      "               precision    recall  f1-score   support\n",
      "\n",
      "           0       0.64      0.67      0.66       354\n",
      "           1       0.63      0.60      0.62       332\n",
      "\n",
      "    accuracy                           0.64       686\n",
      "   macro avg       0.64      0.64      0.64       686\n",
      "weighted avg       0.64      0.64      0.64       686\n",
      "\n"
     ]
    },
    {
     "data": {
      "image/png": "[encoded data removed]",
      "text/plain": [
       "<Figure size 216x144 with 1 Axes>"
      ]
     },
     "metadata": {
      "needs_background": "light"
     },
     "output_type": "display_data"
    }
   ],
   "source": [
    "models.test_scores(model_name = \"log_reg\", \n",
    "                   verbose_results = False, \n",
    "                   all_metrics = False)"
   ]
  },
  {
   "cell_type": "code",
   "execution_count": 40,
   "id": "dd8edb54",
   "metadata": {},
   "outputs": [],
   "source": [
    "df_united_3 = pd.concat([df_political,df_7t])"
   ]
  },
  {
   "cell_type": "code",
   "execution_count": 41,
   "id": "0b16bc2d",
   "metadata": {},
   "outputs": [],
   "source": [
    "df_united_3[\"light_normalization\"] = df_united_3.statement.apply(lambda x : normalize(x, \n",
    "                                                                  remove_html = True, \n",
    "                                                                  lowercase = True,\n",
    "                                                                  remove_extra_newlines = True,\n",
    "                                                                  remove_accented_char = True))"
   ]
  },
  {
   "cell_type": "code",
   "execution_count": 44,
   "id": "199a7d9f",
   "metadata": {
    "scrolled": true
   },
   "outputs": [
    {
     "name": "stdout",
     "output_type": "stream",
     "text": [
      "*** log_reg ***\n",
      "CV ACCURACY SCORE: 0.57\n",
      "CV PARAMS:  {'C': 0.1}\n",
      "\n",
      "*** mnb ***\n",
      "CV ACCURACY SCORE: 0.58\n",
      "CV PARAMS:  {'alpha': 1}\n",
      "\n",
      "*** ran_for ***\n",
      "CV ACCURACY SCORE: 0.56\n",
      "CV PARAMS:  {'criterion': 'gini', 'max_depth': 10, 'max_features': 'auto', 'n_estimators': 30}\n",
      "\n"
     ]
    }
   ],
   "source": [
    "models = Binary_Classification(x = df_united_3.light_normalization, \n",
    "                               y = df_united_3[[\"veracity\"]], \n",
    "                               scoring = \"accuracy\", \n",
    "                               test_size = 0.3, \n",
    "                               n_folds = 3, \n",
    "                               standardize = False,\n",
    "                               nlp = True,\n",
    "                               vectorizer = CountVectorizer(lowercase = False))\n",
    "                     \n",
    "models.compare()"
   ]
  },
  {
   "cell_type": "code",
   "execution_count": 45,
   "id": "9b971a4a",
   "metadata": {},
   "outputs": [
    {
     "name": "stdout",
     "output_type": "stream",
     "text": [
      "CV ACCURACY SCORE: 0.57\n",
      "CV PARAMS:  {'C': 0.1}\n",
      "\n",
      "Accuracy on test data: 0.58\n",
      "\n",
      "Classification Report on test data:\n",
      "               precision    recall  f1-score   support\n",
      "\n",
      "           0       0.61      0.56      0.58       952\n",
      "           1       0.56      0.61      0.58       881\n",
      "\n",
      "    accuracy                           0.58      1833\n",
      "   macro avg       0.58      0.58      0.58      1833\n",
      "weighted avg       0.58      0.58      0.58      1833\n",
      "\n"
     ]
    },
    {
     "data": {
      "image/png": "[encoded data removed]",
      "text/plain": [
       "<Figure size 216x144 with 1 Axes>"
      ]
     },
     "metadata": {
      "needs_background": "light"
     },
     "output_type": "display_data"
    }
   ],
   "source": [
    "models.test_scores(model_name = \"log_reg\", \n",
    "                   verbose_results = False, \n",
    "                   all_metrics = False)"
   ]
  },
  {
   "cell_type": "markdown",
   "id": "98f9c1ca",
   "metadata": {},
   "source": [
    "## Sticking with the initial version of the dataset "
   ]
  },
  {
   "cell_type": "code",
   "execution_count": 5,
   "id": "3e4d30c8",
   "metadata": {},
   "outputs": [
    {
     "ename": "NameError",
     "evalue": "name 'df_united_2' is not defined",
     "output_type": "error",
     "traceback": [
      "\u001b[1;31m---------------------------------------------------------------------------\u001b[0m",
      "\u001b[1;31mNameError\u001b[0m                                 Traceback (most recent call last)",
      "Input \u001b[1;32mIn [5]\u001b[0m, in \u001b[0;36m<module>\u001b[1;34m\u001b[0m\n\u001b[1;32m----> 1\u001b[0m train\u001b[38;5;241m=\u001b[39m\u001b[43mdf_united_2\u001b[49m\u001b[38;5;241m.\u001b[39msample(frac\u001b[38;5;241m=\u001b[39m\u001b[38;5;241m0.7\u001b[39m,random_state\u001b[38;5;241m=\u001b[39m\u001b[38;5;241m200\u001b[39m) \u001b[38;5;66;03m#random state is a seed value\u001b[39;00m\n\u001b[0;32m      2\u001b[0m test \u001b[38;5;241m=\u001b[39m df_united_2\u001b[38;5;241m.\u001b[39mdrop(train\u001b[38;5;241m.\u001b[39mindex)\n",
      "\u001b[1;31mNameError\u001b[0m: name 'df_united_2' is not defined"
     ]
    }
   ],
   "source": [
    "train=df_united_2.sample(frac=0.7,random_state=200) #random state is a seed value\n",
    "test = df_united_2.drop(train.index)"
   ]
  },
  {
   "cell_type": "code",
   "execution_count": 101,
   "id": "ed5978cd",
   "metadata": {
    "scrolled": false
   },
   "outputs": [
    {
     "name": "stdout",
     "output_type": "stream",
     "text": [
      "<class 'pandas.core.frame.DataFrame'>\n",
      "Int64Index: 1600 entries, 510 to 8460\n",
      "Data columns (total 3 columns):\n",
      " #   Column               Non-Null Count  Dtype \n",
      "---  ------               --------------  ----- \n",
      " 0   veracity             1600 non-null   int64 \n",
      " 1   statement            1600 non-null   object\n",
      " 2   light_normalization  1600 non-null   object\n",
      "dtypes: int64(1), object(2)\n",
      "memory usage: 50.0+ KB\n",
      "<class 'pandas.core.frame.DataFrame'>\n",
      "Int64Index: 671 entries, 68 to 107\n",
      "Data columns (total 3 columns):\n",
      " #   Column               Non-Null Count  Dtype \n",
      "---  ------               --------------  ----- \n",
      " 0   veracity             671 non-null    int64 \n",
      " 1   statement            671 non-null    object\n",
      " 2   light_normalization  671 non-null    object\n",
      "dtypes: int64(1), object(2)\n",
      "memory usage: 21.0+ KB\n"
     ]
    }
   ],
   "source": [
    "train.info()\n",
    "test.info()"
   ]
  },
  {
   "cell_type": "code",
   "execution_count": 102,
   "id": "5647d617",
   "metadata": {},
   "outputs": [],
   "source": [
    "vectorizer = CountVectorizer(lowercase = False)"
   ]
  },
  {
   "cell_type": "code",
   "execution_count": 103,
   "id": "fd3bb5ed",
   "metadata": {},
   "outputs": [],
   "source": [
    "x_train = vectorizer.fit_transform(train.light_normalization)"
   ]
  },
  {
   "cell_type": "code",
   "execution_count": 104,
   "id": "9967a715",
   "metadata": {},
   "outputs": [],
   "source": [
    "y_train = train.veracity"
   ]
  },
  {
   "cell_type": "code",
   "execution_count": 105,
   "id": "e114834a",
   "metadata": {},
   "outputs": [],
   "source": [
    "model = LogisticRegression()\n"
   ]
  },
  {
   "cell_type": "code",
   "execution_count": 106,
   "id": "a5c754fa",
   "metadata": {},
   "outputs": [
    {
     "data": {
      "text/plain": [
       "LogisticRegression()"
      ]
     },
     "execution_count": 106,
     "metadata": {},
     "output_type": "execute_result"
    }
   ],
   "source": [
    "model.fit(x_train, y_train)"
   ]
  },
  {
   "cell_type": "code",
   "execution_count": 107,
   "id": "1f80ede0",
   "metadata": {
    "scrolled": true
   },
   "outputs": [
    {
     "data": {
      "text/plain": [
       "<1x5212 sparse matrix of type '<class 'numpy.int64'>'\n",
       "\twith 3 stored elements in Compressed Sparse Row format>"
      ]
     },
     "execution_count": 107,
     "metadata": {},
     "output_type": "execute_result"
    }
   ],
   "source": [
    "test_sample = vectorizer.transform([\"It is not me boos\"])\n",
    "test_sample"
   ]
  },
  {
   "cell_type": "code",
   "execution_count": 108,
   "id": "7f30e45d",
   "metadata": {},
   "outputs": [
    {
     "data": {
      "text/plain": [
       "array([0], dtype=int64)"
      ]
     },
     "execution_count": 108,
     "metadata": {},
     "output_type": "execute_result"
    }
   ],
   "source": [
    "model.predict(test_sample)"
   ]
  },
  {
   "cell_type": "markdown",
   "id": "624d51ac",
   "metadata": {},
   "source": [
    "## see how well the model predicts "
   ]
  },
  {
   "cell_type": "code",
   "execution_count": null,
   "id": "f0a7d1d4",
   "metadata": {
    "scrolled": true
   },
   "outputs": [],
   "source": [
    "y_pred = model.predict(x_test)"
   ]
  },
  {
   "cell_type": "code",
   "execution_count": 86,
   "id": "cf5a7cdd",
   "metadata": {},
   "outputs": [],
   "source": [
    "y_test = test.veracity"
   ]
  },
  {
   "cell_type": "code",
   "execution_count": 94,
   "id": "18e06ddd",
   "metadata": {
    "scrolled": false
   },
   "outputs": [],
   "source": [
    "x_test = np.array(list_test)\n",
    "x_test = x_test.reshape(1, -1)"
   ]
  },
  {
   "cell_type": "code",
   "execution_count": null,
   "id": "afe19ab2",
   "metadata": {},
   "outputs": [],
   "source": [
    "y_score = model.decision_function(x_test)"
   ]
  },
  {
   "cell_type": "code",
   "execution_count": null,
   "id": "feb87a75",
   "metadata": {},
   "outputs": [
    {
     "name": "stdout",
     "output_type": "stream",
     "text": [
      "ERROR! Session/line number was not unique in database. History logging moved to new session 87\n"
     ]
    }
   ],
   "source": [
    "from sklearn.metrics import precision_recall_curve\n",
    "from sklearn.metrics import average_precision_score\n",
    "\n",
    "# For each class\n",
    "precision = dict()\n",
    "recall = dict()\n",
    "average_precision = dict()\n",
    "for i in range(n_classes):\n",
    "    precision[i], recall[i], _ = precision_recall_curve(Y_test[:, i], y_score[:, i])\n",
    "    average_precision[i] = average_precision_score(Y_test[:, i], y_score[:, i])\n",
    "\n",
    "# A \"micro-average\": quantifying score on all classes jointly\n",
    "precision[\"micro\"], recall[\"micro\"], _ = precision_recall_curve(\n",
    "    Y_test.ravel(), y_score.ravel()\n",
    ")\n",
    "average_precision[\"micro\"] = average_precision_score(Y_test, y_score, average=\"micro\")"
   ]
  },
  {
   "cell_type": "markdown",
   "id": "0785e3a5",
   "metadata": {},
   "source": [
    "## Extracting the model"
   ]
  },
  {
   "cell_type": "code",
   "execution_count": 110,
   "id": "c43f4f03",
   "metadata": {
    "scrolled": true
   },
   "outputs": [
    {
     "data": {
      "text/html": [
       "<div>\n",
       "<style scoped>\n",
       "    .dataframe tbody tr th:only-of-type {\n",
       "        vertical-align: middle;\n",
       "    }\n",
       "\n",
       "    .dataframe tbody tr th {\n",
       "        vertical-align: top;\n",
       "    }\n",
       "\n",
       "    .dataframe thead th {\n",
       "        text-align: right;\n",
       "    }\n",
       "</style>\n",
       "<table border=\"1\" class=\"dataframe\">\n",
       "  <thead>\n",
       "    <tr style=\"text-align: right;\">\n",
       "      <th></th>\n",
       "      <th>veracity</th>\n",
       "      <th>statement</th>\n",
       "      <th>light_normalization</th>\n",
       "    </tr>\n",
       "  </thead>\n",
       "  <tbody>\n",
       "    <tr>\n",
       "      <th>3</th>\n",
       "      <td>0</td>\n",
       "      <td>\"Tim Kaine doesn’t want a border at all. He wants to get rid of Immigration and Customs Enforcement and basically the border patrol as well.\"</td>\n",
       "      <td>\"tim kaine doesnt want a border at all. he wants to get rid of immigration and customs enforcement and basically the border patrol as well.\"</td>\n",
       "    </tr>\n",
       "    <tr>\n",
       "      <th>5</th>\n",
       "      <td>0</td>\n",
       "      <td>\"The deficit ... is coming down, and it’s coming down rapidly.\"</td>\n",
       "      <td>\"the deficit ... is coming down, and its coming down rapidly.\"</td>\n",
       "    </tr>\n",
       "    <tr>\n",
       "      <th>20</th>\n",
       "      <td>1</td>\n",
       "      <td>\"Migrant mother and ‘crying girl’ on Time cover never separated.\"</td>\n",
       "      <td>\"migrant mother and crying girl on time cover never separated.\"</td>\n",
       "    </tr>\n",
       "    <tr>\n",
       "      <th>23</th>\n",
       "      <td>0</td>\n",
       "      <td>\"Fact: Over 90,000 kids were detained under Obama. And no one cared.\"</td>\n",
       "      <td>\"fact: over 90,000 kids were detained under obama. and no one cared.\"</td>\n",
       "    </tr>\n",
       "    <tr>\n",
       "      <th>24</th>\n",
       "      <td>0</td>\n",
       "      <td>\"$1 billion—that’s how much Bruce Rauner has wasted with his budget crisis.\"</td>\n",
       "      <td>\"$1 billionthats how much bruce rauner has wasted with his budget crisis.\"</td>\n",
       "    </tr>\n",
       "    <tr>\n",
       "      <th>...</th>\n",
       "      <td>...</td>\n",
       "      <td>...</td>\n",
       "      <td>...</td>\n",
       "    </tr>\n",
       "    <tr>\n",
       "      <th>116</th>\n",
       "      <td>1</td>\n",
       "      <td>Mmm initially ... I've never been on Twitter, I don't even know what it looks like. I just have heard about it through other people, reading about it in magazines ... Um... In 2009 somebody started a false Twitter account in my name and began tweeting, pretending they were me. So, I had that shu...</td>\n",
       "      <td>mmm initially ... i've never been on twitter, i don't even know what it looks like. i just have heard about it through other people, reading about it in magazines ... um... in 2009 somebody started a false twitter account in my name and began tweeting, pretending they were me. so, i had that shu...</td>\n",
       "    </tr>\n",
       "    <tr>\n",
       "      <th>117</th>\n",
       "      <td>1</td>\n",
       "      <td>I was born in Durango, Colorado. My mother was a single mother. I have two older sisters, Karen Berry and Dory Gardner. I have one older brother. I was um quite a bit younger than all of them so I primarily grew up by myself. Um I lived back and forth in Texas and New Mexico until I was about 6 ...</td>\n",
       "      <td>i was born in durango, colorado. my mother was a single mother. i have two older sisters, karen berry and dory gardner. i have one older brother. i was um quite a bit younger than all of them so i primarily grew up by myself. um i lived back and forth in texas and new mexico until i was about 6 ...</td>\n",
       "    </tr>\n",
       "    <tr>\n",
       "      <th>118</th>\n",
       "      <td>1</td>\n",
       "      <td>Um whenever I was little, um my oldest nephew is um two years younger than I am so he and I were always very close. And so whenever I was really little i spent a lot of time with her and then whenever, um I was a freshman in high school I went and lived with her.</td>\n",
       "      <td>um whenever i was little, um my oldest nephew is um two years younger than i am so he and i were always very close. and so whenever i was really little i spent a lot of time with her and then whenever, um i was a freshman in high school i went and lived with her.</td>\n",
       "    </tr>\n",
       "    <tr>\n",
       "      <th>119</th>\n",
       "      <td>1</td>\n",
       "      <td>We were married for two years, and um, we divorced when she was about 10 months old. And basically, we were just too young and didn't know what marriage was supposed to be about. And so, you know, just, I knew that I wanted to go to school. He was very jealous. Um, he really didn't want me to wo...</td>\n",
       "      <td>we were married for two years, and um, we divorced when she was about 10 months old. and basically, we were just too young and didn't know what marriage was supposed to be about. and so, you know, just, i knew that i wanted to go to school. he was very jealous. um, he really didn't want me to wo...</td>\n",
       "    </tr>\n",
       "    <tr>\n",
       "      <th>120</th>\n",
       "      <td>1</td>\n",
       "      <td>Yes um, Reginald and I would have like long talks and through one of our long talks, it was um late at night and it was just us two. But I guess we put ourselves in a vulnerable position and um we, we ... we slept together.</td>\n",
       "      <td>yes um, reginald and i would have like long talks and through one of our long talks, it was um late at night and it was just us two. but i guess we put ourselves in a vulnerable position and um we, we ... we slept together.</td>\n",
       "    </tr>\n",
       "  </tbody>\n",
       "</table>\n",
       "<p>2286 rows × 3 columns</p>\n",
       "</div>"
      ],
      "text/plain": [
       "     veracity                                                                                                                                                                                                                                                                                                    statement  \\\n",
       "3           0                                                                                                                                                                \"Tim Kaine doesn’t want a border at all. He wants to get rid of Immigration and Customs Enforcement and basically the border patrol as well.\"   \n",
       "5           0                                                                                                                                                                                                                                              \"The deficit ... is coming down, and it’s coming down rapidly.\"   \n",
       "20          1                                                                                                                                                                                                                                            \"Migrant mother and ‘crying girl’ on Time cover never separated.\"   \n",
       "23          0                                                                                                                                                                                                                                        \"Fact: Over 90,000 kids were detained under Obama. And no one cared.\"   \n",
       "24          0                                                                                                                                                                                                                                 \"$1 billion—that’s how much Bruce Rauner has wasted with his budget crisis.\"   \n",
       "..        ...                                                                                                                                                                                                                                                                                                          ...   \n",
       "116         1  Mmm initially ... I've never been on Twitter, I don't even know what it looks like. I just have heard about it through other people, reading about it in magazines ... Um... In 2009 somebody started a false Twitter account in my name and began tweeting, pretending they were me. So, I had that shu...   \n",
       "117         1  I was born in Durango, Colorado. My mother was a single mother. I have two older sisters, Karen Berry and Dory Gardner. I have one older brother. I was um quite a bit younger than all of them so I primarily grew up by myself. Um I lived back and forth in Texas and New Mexico until I was about 6 ...   \n",
       "118         1                                      Um whenever I was little, um my oldest nephew is um two years younger than I am so he and I were always very close. And so whenever I was really little i spent a lot of time with her and then whenever, um I was a freshman in high school I went and lived with her.   \n",
       "119         1  We were married for two years, and um, we divorced when she was about 10 months old. And basically, we were just too young and didn't know what marriage was supposed to be about. And so, you know, just, I knew that I wanted to go to school. He was very jealous. Um, he really didn't want me to wo...   \n",
       "120         1                                                                              Yes um, Reginald and I would have like long talks and through one of our long talks, it was um late at night and it was just us two. But I guess we put ourselves in a vulnerable position and um we, we ... we slept together.   \n",
       "\n",
       "                                                                                                                                                                                                                                                                                             light_normalization  \n",
       "3                                                                                                                                                                   \"tim kaine doesnt want a border at all. he wants to get rid of immigration and customs enforcement and basically the border patrol as well.\"  \n",
       "5                                                                                                                                                                                                                                                 \"the deficit ... is coming down, and its coming down rapidly.\"  \n",
       "20                                                                                                                                                                                                                                               \"migrant mother and crying girl on time cover never separated.\"  \n",
       "23                                                                                                                                                                                                                                         \"fact: over 90,000 kids were detained under obama. and no one cared.\"  \n",
       "24                                                                                                                                                                                                                                    \"$1 billionthats how much bruce rauner has wasted with his budget crisis.\"  \n",
       "..                                                                                                                                                                                                                                                                                                           ...  \n",
       "116  mmm initially ... i've never been on twitter, i don't even know what it looks like. i just have heard about it through other people, reading about it in magazines ... um... in 2009 somebody started a false twitter account in my name and began tweeting, pretending they were me. so, i had that shu...  \n",
       "117  i was born in durango, colorado. my mother was a single mother. i have two older sisters, karen berry and dory gardner. i have one older brother. i was um quite a bit younger than all of them so i primarily grew up by myself. um i lived back and forth in texas and new mexico until i was about 6 ...  \n",
       "118                                      um whenever i was little, um my oldest nephew is um two years younger than i am so he and i were always very close. and so whenever i was really little i spent a lot of time with her and then whenever, um i was a freshman in high school i went and lived with her.  \n",
       "119  we were married for two years, and um, we divorced when she was about 10 months old. and basically, we were just too young and didn't know what marriage was supposed to be about. and so, you know, just, i knew that i wanted to go to school. he was very jealous. um, he really didn't want me to wo...  \n",
       "120                                                                              yes um, reginald and i would have like long talks and through one of our long talks, it was um late at night and it was just us two. but i guess we put ourselves in a vulnerable position and um we, we ... we slept together.  \n",
       "\n",
       "[2286 rows x 3 columns]"
      ]
     },
     "execution_count": 110,
     "metadata": {},
     "output_type": "execute_result"
    }
   ],
   "source": [
    " df_united_2"
   ]
  },
  {
   "cell_type": "code",
   "execution_count": 111,
   "id": "36e4995a",
   "metadata": {},
   "outputs": [],
   "source": [
    "vectorizer = CountVectorizer(lowercase = False)"
   ]
  },
  {
   "cell_type": "code",
   "execution_count": 112,
   "id": "47a7f495",
   "metadata": {},
   "outputs": [],
   "source": [
    "X = vectorizer.fit_transform( df_united_2.light_normalization)"
   ]
  },
  {
   "cell_type": "code",
   "execution_count": 113,
   "id": "60a6ea9b",
   "metadata": {},
   "outputs": [],
   "source": [
    "y = df_united_2.iloc[:, 0]"
   ]
  },
  {
   "cell_type": "code",
   "execution_count": 114,
   "id": "d92e1988",
   "metadata": {},
   "outputs": [],
   "source": [
    "from sklearn.model_selection import train_test_split\n",
    "X_train, X_test, y_train, y_test = train_test_split(X, y, test_size=0.15, random_state=42)"
   ]
  },
  {
   "cell_type": "code",
   "execution_count": 115,
   "id": "c6735c42",
   "metadata": {
    "scrolled": true
   },
   "outputs": [
    {
     "data": {
      "text/plain": [
       "LogisticRegression(C=0.2)"
      ]
     },
     "execution_count": 115,
     "metadata": {},
     "output_type": "execute_result"
    }
   ],
   "source": [
    "model = LogisticRegression(C=0.2, penalty='l2')\n",
    "model.fit(X_train, y_train)"
   ]
  },
  {
   "cell_type": "code",
   "execution_count": 116,
   "id": "7aaa48e9",
   "metadata": {},
   "outputs": [],
   "source": [
    "y_pred = model.predict(X_test)\n"
   ]
  },
  {
   "cell_type": "code",
   "execution_count": 117,
   "id": "c76474a6",
   "metadata": {},
   "outputs": [],
   "source": [
    "from sklearn.metrics import accuracy_score\n",
    "score = accuracy_score(y_test, y_pred)"
   ]
  },
  {
   "cell_type": "code",
   "execution_count": 118,
   "id": "868fa072",
   "metadata": {},
   "outputs": [
    {
     "data": {
      "text/plain": [
       "0.6501457725947521"
      ]
     },
     "execution_count": 118,
     "metadata": {},
     "output_type": "execute_result"
    }
   ],
   "source": [
    "score"
   ]
  },
  {
   "cell_type": "code",
   "execution_count": 85,
   "id": "12d010a9",
   "metadata": {},
   "outputs": [],
   "source": [
    "#Create pickle file using serialization\n",
    "import pickle\n",
    "pickle_out = open(\"classifier.pkl\", \"wb\")\n",
    "pickle.dump(model, pickle_out)\n",
    "pickle_out.close()"
   ]
  },
  {
   "cell_type": "code",
   "execution_count": 119,
   "id": "e1b087fd",
   "metadata": {
    "scrolled": true
   },
   "outputs": [
    {
     "name": "stdout",
     "output_type": "stream",
     "text": [
      "['Iowa’s jobs numbers for now but will be recalculated']\n",
      "  (0, 770)\t1\n",
      "  (0, 1013)\t1\n",
      "  (0, 2425)\t1\n",
      "  (0, 3202)\t1\n",
      "  (0, 3998)\t1\n",
      "  (0, 4006)\t1\n",
      "  (0, 6332)\t1\n"
     ]
    }
   ],
   "source": [
    "data = {\n",
    "  \"statement_normalized\": \"Iowa’s jobs numbers for now but will be recalculated\"\n",
    "}\n",
    "final_data = [data['statement_normalized']]\n",
    "print(final_data)\n",
    "vect_data = vectorizer.transform(final_data)\n",
    "print(vect_data)"
   ]
  },
  {
   "cell_type": "code",
   "execution_count": 121,
   "id": "9efeb74a",
   "metadata": {},
   "outputs": [],
   "source": [
    "prediction = model.predict(vect_data)"
   ]
  },
  {
   "cell_type": "code",
   "execution_count": 122,
   "id": "c3a3290d",
   "metadata": {
    "scrolled": true
   },
   "outputs": [
    {
     "name": "stdout",
     "output_type": "stream",
     "text": [
      "[0]\n"
     ]
    }
   ],
   "source": [
    "print(prediction)"
   ]
  },
  {
   "cell_type": "code",
   "execution_count": 136,
   "id": "029ef67a",
   "metadata": {},
   "outputs": [
    {
     "data": {
      "text/plain": [
       "MultinomialNB(alpha=1)"
      ]
     },
     "execution_count": 136,
     "metadata": {},
     "output_type": "execute_result"
    }
   ],
   "source": [
    "model = MultinomialNB(alpha=1)\n",
    "model.fit(X_train, y_train)"
   ]
  },
  {
   "cell_type": "code",
   "execution_count": 137,
   "id": "43730c44",
   "metadata": {},
   "outputs": [],
   "source": [
    "y_pred = model.predict(X_test)"
   ]
  },
  {
   "cell_type": "markdown",
   "id": "1e41c96c",
   "metadata": {},
   "source": [
    "a = model.predict([\"i am just a poor boy\"])\n",
    "a"
   ]
  },
  {
   "cell_type": "code",
   "execution_count": 138,
   "id": "d5244b43",
   "metadata": {},
   "outputs": [],
   "source": [
    "score = accuracy_score(y_test, y_pred)"
   ]
  },
  {
   "cell_type": "code",
   "execution_count": 139,
   "id": "b6ea901f",
   "metadata": {},
   "outputs": [
    {
     "data": {
      "text/plain": [
       "0.6909620991253644"
      ]
     },
     "execution_count": 139,
     "metadata": {},
     "output_type": "execute_result"
    }
   ],
   "source": [
    "score"
   ]
  },
  {
   "cell_type": "code",
   "execution_count": 146,
   "id": "09f91ce1",
   "metadata": {},
   "outputs": [
    {
     "name": "stdout",
     "output_type": "stream",
     "text": [
      "['The official pride flag was altered to include Ukrainian colors.']\n",
      "  (0, 2386)\t1\n",
      "  (0, 2990)\t1\n",
      "  (0, 4058)\t1\n",
      "  (0, 5857)\t1\n",
      "  (0, 6236)\t1\n"
     ]
    }
   ],
   "source": [
    "data = {\n",
    "  \"statement_normalized\": \"The official pride flag was altered to include Ukrainian colors.\"\n",
    "}\n",
    "final_data = [data['statement_normalized']]\n",
    "print(final_data)\n",
    "vect_data = vectorizer.transform(final_data)\n",
    "print(vect_data)"
   ]
  },
  {
   "cell_type": "code",
   "execution_count": 147,
   "id": "2089a267",
   "metadata": {},
   "outputs": [
    {
     "name": "stdout",
     "output_type": "stream",
     "text": [
      "[0]\n"
     ]
    }
   ],
   "source": [
    "prediction = model.predict(vect_data)\n",
    "print(prediction)"
   ]
  },
  {
   "cell_type": "code",
   "execution_count": 148,
   "id": "e91485a9",
   "metadata": {},
   "outputs": [],
   "source": [
    "#Create pickle file using serialization\n",
    "import pickle\n",
    "pickle_out = open(\"classifier_final.pkl\", \"wb\")\n",
    "pickle.dump(model, pickle_out)\n",
    "pickle_out.close()"
   ]
  },
  {
   "cell_type": "code",
   "execution_count": 149,
   "id": "6f9818e7",
   "metadata": {},
   "outputs": [],
   "source": [
    "#Create pickle file using serialization\n",
    "import pickle\n",
    "pickle_out = open(\"vectorizer_final.pkl\", \"wb\")\n",
    "pickle.dump(vectorizer, pickle_out)\n",
    "pickle_out.close()"
   ]
  },
  {
   "cell_type": "code",
   "execution_count": null,
   "id": "81f03664",
   "metadata": {},
   "outputs": [],
   "source": []
  }
 ],
 "metadata": {
  "kernelspec": {
   "display_name": "Python 3 (ipykernel)",
   "language": "python",
   "name": "python3"
  },
  "language_info": {
   "codemirror_mode": {
    "name": "ipython",
    "version": 3
   },
   "file_extension": ".py",
   "mimetype": "text/x-python",
   "name": "python",
   "nbconvert_exporter": "python",
   "pygments_lexer": "ipython3",
   "version": "3.9.7"
  }
 },
 "nbformat": 4,
 "nbformat_minor": 5
}
