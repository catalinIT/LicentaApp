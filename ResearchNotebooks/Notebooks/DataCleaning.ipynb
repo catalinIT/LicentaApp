{
 "cells": [
  {
   "cell_type": "code",
   "execution_count": 2,
   "id": "c10e8eb0",
   "metadata": {},
   "outputs": [],
   "source": [
    "import numpy as np\n",
    "import pandas as pd\n",
    "import os\n",
    "import re\n",
    "from collections import Counter\n",
    "\n",
    "# For graphs\n",
    "import matplotlib as mpl\n",
    "import matplotlib.pyplot as plt\n",
    "import seaborn as sns"
   ]
  },
  {
   "cell_type": "code",
   "execution_count": 3,
   "id": "d2c30c3d",
   "metadata": {},
   "outputs": [],
   "source": [
    "# Use cleaner absolute path to find file\n",
    "path = os.path.abspath('politifact.csv')\n",
    "df = pd.read_csv(path, index_col=0)"
   ]
  },
  {
   "cell_type": "code",
   "execution_count": 4,
   "id": "fe41c92c",
   "metadata": {},
   "outputs": [
    {
     "name": "stdout",
     "output_type": "stream",
     "text": [
      "<class 'pandas.core.frame.DataFrame'>\n",
      "Int64Index: 24990 entries, 0 to 24989\n",
      "Data columns (total 4 columns):\n",
      " #   Column     Non-Null Count  Dtype \n",
      "---  ------     --------------  ----- \n",
      " 0   statement  24990 non-null  object\n",
      " 1   source     24990 non-null  object\n",
      " 2   link       24990 non-null  object\n",
      " 3   veracity   24990 non-null  object\n",
      "dtypes: object(4)\n",
      "memory usage: 976.2+ KB\n"
     ]
    }
   ],
   "source": [
    "df.info()"
   ]
  },
  {
   "cell_type": "markdown",
   "id": "b934c9d9",
   "metadata": {},
   "source": [
    "# Initially 24990 rows of non-null data"
   ]
  },
  {
   "cell_type": "code",
   "execution_count": 5,
   "id": "5b7cf0e9",
   "metadata": {},
   "outputs": [
    {
     "data": {
      "text/html": [
       "<div>\n",
       "<style scoped>\n",
       "    .dataframe tbody tr th:only-of-type {\n",
       "        vertical-align: middle;\n",
       "    }\n",
       "\n",
       "    .dataframe tbody tr th {\n",
       "        vertical-align: top;\n",
       "    }\n",
       "\n",
       "    .dataframe thead th {\n",
       "        text-align: right;\n",
       "    }\n",
       "</style>\n",
       "<table border=\"1\" class=\"dataframe\">\n",
       "  <thead>\n",
       "    <tr style=\"text-align: right;\">\n",
       "      <th></th>\n",
       "      <th>statement</th>\n",
       "      <th>source</th>\n",
       "      <th>link</th>\n",
       "      <th>veracity</th>\n",
       "    </tr>\n",
       "  </thead>\n",
       "  <tbody>\n",
       "    <tr>\n",
       "      <th>0</th>\n",
       "      <td>\"Books banned in Texas include 1984, Maus, and The Handmaid's Tale, but not Mein Kampf.\"</td>\n",
       "      <td>Tweets</td>\n",
       "      <td>/factchecks/2022/feb/14/tweets/those-titles-arent-banned-statewide-could-be-distr/</td>\n",
       "      <td>false</td>\n",
       "    </tr>\n",
       "    <tr>\n",
       "      <th>1</th>\n",
       "      <td>A video shows that “OnlyFans has guys on campus encouraging your daughters to do porn for ‘financial freedom.’”</td>\n",
       "      <td>Tweets</td>\n",
       "      <td>/factchecks/2022/feb/14/tweets/no-onlyfans-isnt-recruiting-adult-film-stars-colle/</td>\n",
       "      <td>false</td>\n",
       "    </tr>\n",
       "    <tr>\n",
       "      <th>2</th>\n",
       "      <td>“Nevada ranks 50th in election integrity ratings.”</td>\n",
       "      <td>Jesse Haw</td>\n",
       "      <td>/factchecks/2022/feb/14/jesse-haw/fact-checking-claim-nevada-ranks-close-last-electi/</td>\n",
       "      <td>barely-true</td>\n",
       "    </tr>\n",
       "  </tbody>\n",
       "</table>\n",
       "</div>"
      ],
      "text/plain": [
       "                                                                                                         statement  \\\n",
       "0                         \"Books banned in Texas include 1984, Maus, and The Handmaid's Tale, but not Mein Kampf.\"   \n",
       "1  A video shows that “OnlyFans has guys on campus encouraging your daughters to do porn for ‘financial freedom.’”   \n",
       "2                                                               “Nevada ranks 50th in election integrity ratings.”   \n",
       "\n",
       "      source  \\\n",
       "0     Tweets   \n",
       "1     Tweets   \n",
       "2  Jesse Haw   \n",
       "\n",
       "                                                                                    link  \\\n",
       "0     /factchecks/2022/feb/14/tweets/those-titles-arent-banned-statewide-could-be-distr/   \n",
       "1     /factchecks/2022/feb/14/tweets/no-onlyfans-isnt-recruiting-adult-film-stars-colle/   \n",
       "2  /factchecks/2022/feb/14/jesse-haw/fact-checking-claim-nevada-ranks-close-last-electi/   \n",
       "\n",
       "      veracity  \n",
       "0        false  \n",
       "1        false  \n",
       "2  barely-true  "
      ]
     },
     "execution_count": 5,
     "metadata": {},
     "output_type": "execute_result"
    }
   ],
   "source": [
    "# to see statement in full\n",
    "pd.set_option('display.max_colwidth', 200) \n",
    "\n",
    "# See sample of data\n",
    "df.head(3)"
   ]
  },
  {
   "cell_type": "code",
   "execution_count": 6,
   "id": "b0e872b5",
   "metadata": {},
   "outputs": [
    {
     "data": {
      "text/plain": [
       "false          12495\n",
       "barely-true     4998\n",
       "pants-fire      4165\n",
       "mostly-true     1666\n",
       "half-true       1666\n",
       "Name: veracity, dtype: int64"
      ]
     },
     "execution_count": 6,
     "metadata": {},
     "output_type": "execute_result"
    }
   ],
   "source": [
    "#check groups that exst in veracity column\n",
    "df.veracity.value_counts()"
   ]
  },
  {
   "cell_type": "code",
   "execution_count": 7,
   "id": "c6942daa",
   "metadata": {},
   "outputs": [
    {
     "data": {
      "text/html": [
       "<div>\n",
       "<style scoped>\n",
       "    .dataframe tbody tr th:only-of-type {\n",
       "        vertical-align: middle;\n",
       "    }\n",
       "\n",
       "    .dataframe tbody tr th {\n",
       "        vertical-align: top;\n",
       "    }\n",
       "\n",
       "    .dataframe thead th {\n",
       "        text-align: right;\n",
       "    }\n",
       "</style>\n",
       "<table border=\"1\" class=\"dataframe\">\n",
       "  <thead>\n",
       "    <tr style=\"text-align: right;\">\n",
       "      <th></th>\n",
       "      <th>statement</th>\n",
       "      <th>source</th>\n",
       "      <th>link</th>\n",
       "      <th>veracity</th>\n",
       "    </tr>\n",
       "  </thead>\n",
       "  <tbody>\n",
       "    <tr>\n",
       "      <th>0</th>\n",
       "      <td>\"Books banned in Texas include 1984, Maus, and The Handmaid's Tale, but not Mein Kampf.\"</td>\n",
       "      <td>Tweets</td>\n",
       "      <td>/factchecks/2022/feb/14/tweets/those-titles-arent-banned-statewide-could-be-distr/</td>\n",
       "      <td>false</td>\n",
       "    </tr>\n",
       "    <tr>\n",
       "      <th>1</th>\n",
       "      <td>A video shows that “OnlyFans has guys on campus encouraging your daughters to do porn for ‘financial freedom.’”</td>\n",
       "      <td>Tweets</td>\n",
       "      <td>/factchecks/2022/feb/14/tweets/no-onlyfans-isnt-recruiting-adult-film-stars-colle/</td>\n",
       "      <td>false</td>\n",
       "    </tr>\n",
       "    <tr>\n",
       "      <th>2</th>\n",
       "      <td>“Nevada ranks 50th in election integrity ratings.”</td>\n",
       "      <td>Jesse Haw</td>\n",
       "      <td>/factchecks/2022/feb/14/jesse-haw/fact-checking-claim-nevada-ranks-close-last-electi/</td>\n",
       "      <td>barely-true</td>\n",
       "    </tr>\n",
       "  </tbody>\n",
       "</table>\n",
       "</div>"
      ],
      "text/plain": [
       "                                                                                                         statement  \\\n",
       "0                         \"Books banned in Texas include 1984, Maus, and The Handmaid's Tale, but not Mein Kampf.\"   \n",
       "1  A video shows that “OnlyFans has guys on campus encouraging your daughters to do porn for ‘financial freedom.’”   \n",
       "2                                                               “Nevada ranks 50th in election integrity ratings.”   \n",
       "\n",
       "      source  \\\n",
       "0     Tweets   \n",
       "1     Tweets   \n",
       "2  Jesse Haw   \n",
       "\n",
       "                                                                                    link  \\\n",
       "0     /factchecks/2022/feb/14/tweets/those-titles-arent-banned-statewide-could-be-distr/   \n",
       "1     /factchecks/2022/feb/14/tweets/no-onlyfans-isnt-recruiting-adult-film-stars-colle/   \n",
       "2  /factchecks/2022/feb/14/jesse-haw/fact-checking-claim-nevada-ranks-close-last-electi/   \n",
       "\n",
       "      veracity  \n",
       "0        false  \n",
       "1        false  \n",
       "2  barely-true  "
      ]
     },
     "execution_count": 7,
     "metadata": {},
     "output_type": "execute_result"
    }
   ],
   "source": [
    "ver_df = df[~df.isin(['half-true']).any(axis=1)]\n",
    "\n",
    "ver_df.head(3)"
   ]
  },
  {
   "cell_type": "code",
   "execution_count": 8,
   "id": "77ee414a",
   "metadata": {
    "scrolled": true
   },
   "outputs": [
    {
     "data": {
      "text/plain": [
       "false          12495\n",
       "barely-true     4998\n",
       "pants-fire      4165\n",
       "mostly-true     1666\n",
       "Name: veracity, dtype: int64"
      ]
     },
     "execution_count": 8,
     "metadata": {},
     "output_type": "execute_result"
    }
   ],
   "source": [
    "ver_df.veracity.value_counts()"
   ]
  },
  {
   "cell_type": "markdown",
   "id": "ca9036f9",
   "metadata": {},
   "source": [
    "# Gathering data from hotels reviews\n"
   ]
  },
  {
   "cell_type": "code",
   "execution_count": 9,
   "id": "4aa5b599",
   "metadata": {},
   "outputs": [],
   "source": [
    "reviews_df = pd.read_csv('reviews.csv')"
   ]
  },
  {
   "cell_type": "code",
   "execution_count": 10,
   "id": "2311615d",
   "metadata": {},
   "outputs": [
    {
     "data": {
      "text/html": [
       "<div>\n",
       "<style scoped>\n",
       "    .dataframe tbody tr th:only-of-type {\n",
       "        vertical-align: middle;\n",
       "    }\n",
       "\n",
       "    .dataframe tbody tr th {\n",
       "        vertical-align: top;\n",
       "    }\n",
       "\n",
       "    .dataframe thead th {\n",
       "        text-align: right;\n",
       "    }\n",
       "</style>\n",
       "<table border=\"1\" class=\"dataframe\">\n",
       "  <thead>\n",
       "    <tr style=\"text-align: right;\">\n",
       "      <th></th>\n",
       "      <th>deceptive</th>\n",
       "      <th>hotel</th>\n",
       "      <th>polarity</th>\n",
       "      <th>source</th>\n",
       "      <th>text</th>\n",
       "    </tr>\n",
       "  </thead>\n",
       "  <tbody>\n",
       "    <tr>\n",
       "      <th>0</th>\n",
       "      <td>truthful</td>\n",
       "      <td>conrad</td>\n",
       "      <td>positive</td>\n",
       "      <td>TripAdvisor</td>\n",
       "      <td>We stayed for a one night getaway with family on a thursday. Triple AAA rate of 173 was a steal. 7th floor room complete with 44in plasma TV bose stereo, voss and evian water, and gorgeous bathroo...</td>\n",
       "    </tr>\n",
       "    <tr>\n",
       "      <th>1</th>\n",
       "      <td>truthful</td>\n",
       "      <td>hyatt</td>\n",
       "      <td>positive</td>\n",
       "      <td>TripAdvisor</td>\n",
       "      <td>Triple A rate with upgrade to view room was less than $200 which also included breakfast vouchers. Had a great view of river, lake, Wrigley Bldg. &amp; Tribune Bldg. Most major restaurants, Shopping, ...</td>\n",
       "    </tr>\n",
       "    <tr>\n",
       "      <th>2</th>\n",
       "      <td>truthful</td>\n",
       "      <td>hyatt</td>\n",
       "      <td>positive</td>\n",
       "      <td>TripAdvisor</td>\n",
       "      <td>This comes a little late as I'm finally catching up on my reviews from the past several months:) A dear friend and I stayed at the Hyatt Regency in late October 2007 for one night while visiting a...</td>\n",
       "    </tr>\n",
       "  </tbody>\n",
       "</table>\n",
       "</div>"
      ],
      "text/plain": [
       "  deceptive   hotel  polarity       source  \\\n",
       "0  truthful  conrad  positive  TripAdvisor   \n",
       "1  truthful   hyatt  positive  TripAdvisor   \n",
       "2  truthful   hyatt  positive  TripAdvisor   \n",
       "\n",
       "                                                                                                                                                                                                      text  \n",
       "0  We stayed for a one night getaway with family on a thursday. Triple AAA rate of 173 was a steal. 7th floor room complete with 44in plasma TV bose stereo, voss and evian water, and gorgeous bathroo...  \n",
       "1  Triple A rate with upgrade to view room was less than $200 which also included breakfast vouchers. Had a great view of river, lake, Wrigley Bldg. & Tribune Bldg. Most major restaurants, Shopping, ...  \n",
       "2  This comes a little late as I'm finally catching up on my reviews from the past several months:) A dear friend and I stayed at the Hyatt Regency in late October 2007 for one night while visiting a...  "
      ]
     },
     "execution_count": 10,
     "metadata": {},
     "output_type": "execute_result"
    }
   ],
   "source": [
    "reviews_df.head(3)"
   ]
  },
  {
   "cell_type": "code",
   "execution_count": 11,
   "id": "95c1100c",
   "metadata": {},
   "outputs": [
    {
     "data": {
      "text/plain": [
       "truthful     800\n",
       "deceptive    800\n",
       "Name: deceptive, dtype: int64"
      ]
     },
     "execution_count": 11,
     "metadata": {},
     "output_type": "execute_result"
    }
   ],
   "source": [
    "reviews_df.deceptive.value_counts()"
   ]
  },
  {
   "cell_type": "markdown",
   "id": "b9620885",
   "metadata": {},
   "source": [
    "# Gathering data from longReviewsDataset"
   ]
  },
  {
   "cell_type": "code",
   "execution_count": 12,
   "id": "c1003852",
   "metadata": {},
   "outputs": [],
   "source": [
    "path = ('BachelorThesis/LongReviewsDataset/datasetSentences.txt')\n",
    "\n",
    "long_reviews_df = pd.read_fwf(path, header=None)"
   ]
  },
  {
   "cell_type": "code",
   "execution_count": 13,
   "id": "9bb77f10",
   "metadata": {},
   "outputs": [
    {
     "data": {
      "text/html": [
       "<div>\n",
       "<style scoped>\n",
       "    .dataframe tbody tr th:only-of-type {\n",
       "        vertical-align: middle;\n",
       "    }\n",
       "\n",
       "    .dataframe tbody tr th {\n",
       "        vertical-align: top;\n",
       "    }\n",
       "\n",
       "    .dataframe thead th {\n",
       "        text-align: right;\n",
       "    }\n",
       "</style>\n",
       "<table border=\"1\" class=\"dataframe\">\n",
       "  <thead>\n",
       "    <tr style=\"text-align: right;\">\n",
       "      <th></th>\n",
       "      <th>0</th>\n",
       "      <th>1</th>\n",
       "    </tr>\n",
       "  </thead>\n",
       "  <tbody>\n",
       "    <tr>\n",
       "      <th>0</th>\n",
       "      <td>sentence_index\\tsentence</td>\n",
       "      <td>NaN</td>\n",
       "    </tr>\n",
       "    <tr>\n",
       "      <th>1</th>\n",
       "      <td>1\\tThe Rock is destined to be the 21st Century 's new `` Conan '' and that he 's going to make a splash even greater than Arnold Schwarzenegger , Jean-Claud Van Damme or Steven Segal .</td>\n",
       "      <td>NaN</td>\n",
       "    </tr>\n",
       "    <tr>\n",
       "      <th>2</th>\n",
       "      <td>2\\tThe gorgeously elaborate continuation of `` The Lord of the Rings '' trilogy is so huge that a column of words can not adequately describe co-writer\\/director Peter Jackson 's expanded vision o...</td>\n",
       "      <td>NaN</td>\n",
       "    </tr>\n",
       "  </tbody>\n",
       "</table>\n",
       "</div>"
      ],
      "text/plain": [
       "                                                                                                                                                                                                         0  \\\n",
       "0                                                                                                                                                                                 sentence_index\\tsentence   \n",
       "1                 1\\tThe Rock is destined to be the 21st Century 's new `` Conan '' and that he 's going to make a splash even greater than Arnold Schwarzenegger , Jean-Claud Van Damme or Steven Segal .   \n",
       "2  2\\tThe gorgeously elaborate continuation of `` The Lord of the Rings '' trilogy is so huge that a column of words can not adequately describe co-writer\\/director Peter Jackson 's expanded vision o...   \n",
       "\n",
       "     1  \n",
       "0  NaN  \n",
       "1  NaN  \n",
       "2  NaN  "
      ]
     },
     "execution_count": 13,
     "metadata": {},
     "output_type": "execute_result"
    }
   ],
   "source": [
    "long_reviews_df.head(3)"
   ]
  },
  {
   "cell_type": "code",
   "execution_count": 14,
   "id": "25c33b48",
   "metadata": {
    "scrolled": true
   },
   "outputs": [
    {
     "data": {
      "text/plain": [
       "Int64Index([0, 1], dtype='int64')"
      ]
     },
     "execution_count": 14,
     "metadata": {},
     "output_type": "execute_result"
    }
   ],
   "source": [
    "long_reviews_df.keys()"
   ]
  },
  {
   "cell_type": "code",
   "execution_count": 15,
   "id": "cc439d1c",
   "metadata": {
    "scrolled": false
   },
   "outputs": [],
   "source": [
    "long_reviews_df = long_reviews_df.rename(columns={0 : \"content\", 1: \"deceptive\"})"
   ]
  },
  {
   "cell_type": "code",
   "execution_count": 16,
   "id": "59b28cd9",
   "metadata": {},
   "outputs": [],
   "source": [
    "#remove the first row for the data\n",
    "long_reviews_df = long_reviews_df.iloc[1:, :]"
   ]
  },
  {
   "cell_type": "code",
   "execution_count": 17,
   "id": "f57cacc0",
   "metadata": {},
   "outputs": [
    {
     "data": {
      "text/html": [
       "<div>\n",
       "<style scoped>\n",
       "    .dataframe tbody tr th:only-of-type {\n",
       "        vertical-align: middle;\n",
       "    }\n",
       "\n",
       "    .dataframe tbody tr th {\n",
       "        vertical-align: top;\n",
       "    }\n",
       "\n",
       "    .dataframe thead th {\n",
       "        text-align: right;\n",
       "    }\n",
       "</style>\n",
       "<table border=\"1\" class=\"dataframe\">\n",
       "  <thead>\n",
       "    <tr style=\"text-align: right;\">\n",
       "      <th></th>\n",
       "      <th>content</th>\n",
       "      <th>deceptive</th>\n",
       "    </tr>\n",
       "  </thead>\n",
       "  <tbody>\n",
       "    <tr>\n",
       "      <th>1</th>\n",
       "      <td>1\\tThe Rock is destined to be the 21st Century 's new `` Conan '' and that he 's going to make a splash even greater than Arnold Schwarzenegger , Jean-Claud Van Damme or Steven Segal .</td>\n",
       "      <td>NaN</td>\n",
       "    </tr>\n",
       "    <tr>\n",
       "      <th>2</th>\n",
       "      <td>2\\tThe gorgeously elaborate continuation of `` The Lord of the Rings '' trilogy is so huge that a column of words can not adequately describe co-writer\\/director Peter Jackson 's expanded vision o...</td>\n",
       "      <td>NaN</td>\n",
       "    </tr>\n",
       "    <tr>\n",
       "      <th>3</th>\n",
       "      <td>3\\tEffective but too-tepid biopic</td>\n",
       "      <td>NaN</td>\n",
       "    </tr>\n",
       "  </tbody>\n",
       "</table>\n",
       "</div>"
      ],
      "text/plain": [
       "                                                                                                                                                                                                   content  \\\n",
       "1                 1\\tThe Rock is destined to be the 21st Century 's new `` Conan '' and that he 's going to make a splash even greater than Arnold Schwarzenegger , Jean-Claud Van Damme or Steven Segal .   \n",
       "2  2\\tThe gorgeously elaborate continuation of `` The Lord of the Rings '' trilogy is so huge that a column of words can not adequately describe co-writer\\/director Peter Jackson 's expanded vision o...   \n",
       "3                                                                                                                                                                        3\\tEffective but too-tepid biopic   \n",
       "\n",
       "  deceptive  \n",
       "1       NaN  \n",
       "2       NaN  \n",
       "3       NaN  "
      ]
     },
     "execution_count": 17,
     "metadata": {},
     "output_type": "execute_result"
    }
   ],
   "source": [
    "long_reviews_df.head(3)"
   ]
  },
  {
   "cell_type": "code",
   "execution_count": 18,
   "id": "dd1002d6",
   "metadata": {},
   "outputs": [],
   "source": [
    "long_reviews_df[\"Length\"] = long_reviews_df[\"content\"].map(len)"
   ]
  },
  {
   "cell_type": "code",
   "execution_count": 19,
   "id": "548c0506",
   "metadata": {},
   "outputs": [
    {
     "data": {
      "text/html": [
       "<div>\n",
       "<style scoped>\n",
       "    .dataframe tbody tr th:only-of-type {\n",
       "        vertical-align: middle;\n",
       "    }\n",
       "\n",
       "    .dataframe tbody tr th {\n",
       "        vertical-align: top;\n",
       "    }\n",
       "\n",
       "    .dataframe thead th {\n",
       "        text-align: right;\n",
       "    }\n",
       "</style>\n",
       "<table border=\"1\" class=\"dataframe\">\n",
       "  <thead>\n",
       "    <tr style=\"text-align: right;\">\n",
       "      <th></th>\n",
       "      <th>content</th>\n",
       "      <th>deceptive</th>\n",
       "      <th>Length</th>\n",
       "    </tr>\n",
       "  </thead>\n",
       "  <tbody>\n",
       "    <tr>\n",
       "      <th>1</th>\n",
       "      <td>1\\tThe Rock is destined to be the 21st Century 's new `` Conan '' and that he 's going to make a splash even greater than Arnold Schwarzenegger , Jean-Claud Van Damme or Steven Segal .</td>\n",
       "      <td>NaN</td>\n",
       "      <td>183</td>\n",
       "    </tr>\n",
       "    <tr>\n",
       "      <th>2</th>\n",
       "      <td>2\\tThe gorgeously elaborate continuation of `` The Lord of the Rings '' trilogy is so huge that a column of words can not adequately describe co-writer\\/director Peter Jackson 's expanded vision o...</td>\n",
       "      <td>NaN</td>\n",
       "      <td>229</td>\n",
       "    </tr>\n",
       "    <tr>\n",
       "      <th>3</th>\n",
       "      <td>3\\tEffective but too-tepid biopic</td>\n",
       "      <td>NaN</td>\n",
       "      <td>32</td>\n",
       "    </tr>\n",
       "  </tbody>\n",
       "</table>\n",
       "</div>"
      ],
      "text/plain": [
       "                                                                                                                                                                                                   content  \\\n",
       "1                 1\\tThe Rock is destined to be the 21st Century 's new `` Conan '' and that he 's going to make a splash even greater than Arnold Schwarzenegger , Jean-Claud Van Damme or Steven Segal .   \n",
       "2  2\\tThe gorgeously elaborate continuation of `` The Lord of the Rings '' trilogy is so huge that a column of words can not adequately describe co-writer\\/director Peter Jackson 's expanded vision o...   \n",
       "3                                                                                                                                                                        3\\tEffective but too-tepid biopic   \n",
       "\n",
       "  deceptive  Length  \n",
       "1       NaN     183  \n",
       "2       NaN     229  \n",
       "3       NaN      32  "
      ]
     },
     "execution_count": 19,
     "metadata": {},
     "output_type": "execute_result"
    }
   ],
   "source": [
    "long_reviews_df.head(3)"
   ]
  },
  {
   "cell_type": "code",
   "execution_count": 20,
   "id": "05bd587b",
   "metadata": {
    "scrolled": true
   },
   "outputs": [],
   "source": [
    "#sort the reviews by their content message length\n",
    "\n",
    "sorted_reviews_df = long_reviews_df.sort_values( by = 'Length')"
   ]
  },
  {
   "cell_type": "code",
   "execution_count": 21,
   "id": "3d328ab4",
   "metadata": {},
   "outputs": [
    {
     "data": {
      "text/plain": [
       "230    155\n",
       "86     109\n",
       "89     107\n",
       "87      98\n",
       "125     97\n",
       "      ... \n",
       "224      4\n",
       "11       3\n",
       "9        3\n",
       "225      3\n",
       "12       3\n",
       "Name: Length, Length: 222, dtype: int64"
      ]
     },
     "execution_count": 21,
     "metadata": {},
     "output_type": "execute_result"
    }
   ],
   "source": [
    "long_reviews_df.Length.value_counts()"
   ]
  },
  {
   "cell_type": "code",
   "execution_count": 22,
   "id": "b0c2263a",
   "metadata": {
    "scrolled": false
   },
   "outputs": [],
   "source": [
    "#getting just the entries that have more than 100 characters\n",
    "only_long_df = long_reviews_df[long_reviews_df['Length'] >= 100]"
   ]
  },
  {
   "cell_type": "code",
   "execution_count": 23,
   "id": "9024506e",
   "metadata": {},
   "outputs": [
    {
     "data": {
      "text/plain": [
       "6284"
      ]
     },
     "execution_count": 23,
     "metadata": {},
     "output_type": "execute_result"
    }
   ],
   "source": [
    "len(only_long_df)"
   ]
  },
  {
   "cell_type": "markdown",
   "id": "e1f5c473",
   "metadata": {},
   "source": [
    "# Continue working on the political.csv dataset"
   ]
  },
  {
   "cell_type": "code",
   "execution_count": 24,
   "id": "d41fdb21",
   "metadata": {},
   "outputs": [
    {
     "data": {
      "text/html": [
       "<div>\n",
       "<style scoped>\n",
       "    .dataframe tbody tr th:only-of-type {\n",
       "        vertical-align: middle;\n",
       "    }\n",
       "\n",
       "    .dataframe tbody tr th {\n",
       "        vertical-align: top;\n",
       "    }\n",
       "\n",
       "    .dataframe thead th {\n",
       "        text-align: right;\n",
       "    }\n",
       "</style>\n",
       "<table border=\"1\" class=\"dataframe\">\n",
       "  <thead>\n",
       "    <tr style=\"text-align: right;\">\n",
       "      <th></th>\n",
       "      <th>statement</th>\n",
       "      <th>source</th>\n",
       "      <th>link</th>\n",
       "      <th>veracity</th>\n",
       "    </tr>\n",
       "  </thead>\n",
       "  <tbody>\n",
       "    <tr>\n",
       "      <th>0</th>\n",
       "      <td>\"Books banned in Texas include 1984, Maus, and The Handmaid's Tale, but not Mein Kampf.\"</td>\n",
       "      <td>Tweets</td>\n",
       "      <td>/factchecks/2022/feb/14/tweets/those-titles-arent-banned-statewide-could-be-distr/</td>\n",
       "      <td>0</td>\n",
       "    </tr>\n",
       "    <tr>\n",
       "      <th>1</th>\n",
       "      <td>A video shows that “OnlyFans has guys on campus encouraging your daughters to do porn for ‘financial freedom.’”</td>\n",
       "      <td>Tweets</td>\n",
       "      <td>/factchecks/2022/feb/14/tweets/no-onlyfans-isnt-recruiting-adult-film-stars-colle/</td>\n",
       "      <td>0</td>\n",
       "    </tr>\n",
       "    <tr>\n",
       "      <th>2</th>\n",
       "      <td>“Nevada ranks 50th in election integrity ratings.”</td>\n",
       "      <td>Jesse Haw</td>\n",
       "      <td>/factchecks/2022/feb/14/jesse-haw/fact-checking-claim-nevada-ranks-close-last-electi/</td>\n",
       "      <td>1</td>\n",
       "    </tr>\n",
       "    <tr>\n",
       "      <th>3</th>\n",
       "      <td>“The second booster has eight strains of HIV.”</td>\n",
       "      <td>Facebook posts</td>\n",
       "      <td>/factchecks/2022/feb/14/facebook-posts/covid-19-vaccines-do-not-contain-hiv/</td>\n",
       "      <td>0</td>\n",
       "    </tr>\n",
       "    <tr>\n",
       "      <th>4</th>\n",
       "      <td>Virginia’s economic growth “has stalled at less than 1% per year for eight years.”</td>\n",
       "      <td>Glenn Youngkin</td>\n",
       "      <td>/factchecks/2022/feb/14/glenn-youngkin/has-virginias-economic-growth-stalled-less-1-young/</td>\n",
       "      <td>1</td>\n",
       "    </tr>\n",
       "  </tbody>\n",
       "</table>\n",
       "</div>"
      ],
      "text/plain": [
       "                                                                                                         statement  \\\n",
       "0                         \"Books banned in Texas include 1984, Maus, and The Handmaid's Tale, but not Mein Kampf.\"   \n",
       "1  A video shows that “OnlyFans has guys on campus encouraging your daughters to do porn for ‘financial freedom.’”   \n",
       "2                                                               “Nevada ranks 50th in election integrity ratings.”   \n",
       "3                                                                   “The second booster has eight strains of HIV.”   \n",
       "4                               Virginia’s economic growth “has stalled at less than 1% per year for eight years.”   \n",
       "\n",
       "           source  \\\n",
       "0          Tweets   \n",
       "1          Tweets   \n",
       "2       Jesse Haw   \n",
       "3  Facebook posts   \n",
       "4  Glenn Youngkin   \n",
       "\n",
       "                                                                                         link  \\\n",
       "0          /factchecks/2022/feb/14/tweets/those-titles-arent-banned-statewide-could-be-distr/   \n",
       "1          /factchecks/2022/feb/14/tweets/no-onlyfans-isnt-recruiting-adult-film-stars-colle/   \n",
       "2       /factchecks/2022/feb/14/jesse-haw/fact-checking-claim-nevada-ranks-close-last-electi/   \n",
       "3                /factchecks/2022/feb/14/facebook-posts/covid-19-vaccines-do-not-contain-hiv/   \n",
       "4  /factchecks/2022/feb/14/glenn-youngkin/has-virginias-economic-growth-stalled-less-1-young/   \n",
       "\n",
       "   veracity  \n",
       "0         0  \n",
       "1         0  \n",
       "2         1  \n",
       "3         0  \n",
       "4         1  "
      ]
     },
     "execution_count": 24,
     "metadata": {},
     "output_type": "execute_result"
    }
   ],
   "source": [
    "ver_df = ver_df.replace({\n",
    "    'pants-fire' : 0,\n",
    "    'false' : 0,\n",
    "    'mostly-true' : 1,\n",
    "    'barely-true' : 1,\n",
    "})\n",
    "\n",
    "ver_df.head(5)"
   ]
  },
  {
   "cell_type": "code",
   "execution_count": 25,
   "id": "488c1bdf",
   "metadata": {},
   "outputs": [
    {
     "name": "stdout",
     "output_type": "stream",
     "text": [
      "<class 'pandas.core.frame.DataFrame'>\n",
      "Int64Index: 23324 entries, 0 to 24988\n",
      "Data columns (total 4 columns):\n",
      " #   Column     Non-Null Count  Dtype \n",
      "---  ------     --------------  ----- \n",
      " 0   statement  23324 non-null  object\n",
      " 1   source     23324 non-null  object\n",
      " 2   link       23324 non-null  object\n",
      " 3   veracity   23324 non-null  int64 \n",
      "dtypes: int64(1), object(3)\n",
      "memory usage: 911.1+ KB\n"
     ]
    }
   ],
   "source": [
    "ver_df.info()"
   ]
  },
  {
   "cell_type": "code",
   "execution_count": 26,
   "id": "13b8f2dd",
   "metadata": {},
   "outputs": [
    {
     "data": {
      "text/plain": [
       "0    16660\n",
       "1     6664\n",
       "Name: veracity, dtype: int64"
      ]
     },
     "execution_count": 26,
     "metadata": {},
     "output_type": "execute_result"
    }
   ],
   "source": [
    "# check the balance of the dataset\n",
    "ver_df.veracity.value_counts()"
   ]
  },
  {
   "cell_type": "code",
   "execution_count": 27,
   "id": "b62a2050",
   "metadata": {},
   "outputs": [
    {
     "data": {
      "text/html": [
       "<div>\n",
       "<style scoped>\n",
       "    .dataframe tbody tr th:only-of-type {\n",
       "        vertical-align: middle;\n",
       "    }\n",
       "\n",
       "    .dataframe tbody tr th {\n",
       "        vertical-align: top;\n",
       "    }\n",
       "\n",
       "    .dataframe thead th {\n",
       "        text-align: right;\n",
       "    }\n",
       "</style>\n",
       "<table border=\"1\" class=\"dataframe\">\n",
       "  <thead>\n",
       "    <tr style=\"text-align: right;\">\n",
       "      <th></th>\n",
       "      <th>statement</th>\n",
       "      <th>source</th>\n",
       "      <th>link</th>\n",
       "      <th>veracity</th>\n",
       "    </tr>\n",
       "  </thead>\n",
       "  <tbody>\n",
       "    <tr>\n",
       "      <th>count</th>\n",
       "      <td>23324</td>\n",
       "      <td>23324</td>\n",
       "      <td>23324</td>\n",
       "      <td>23324.000000</td>\n",
       "    </tr>\n",
       "    <tr>\n",
       "      <th>unique</th>\n",
       "      <td>28</td>\n",
       "      <td>14</td>\n",
       "      <td>28</td>\n",
       "      <td>NaN</td>\n",
       "    </tr>\n",
       "    <tr>\n",
       "      <th>top</th>\n",
       "      <td>\"Books banned in Texas include 1984, Maus, and The Handmaid's Tale, but not Mein Kampf.\"</td>\n",
       "      <td>Facebook posts</td>\n",
       "      <td>/factchecks/2022/feb/14/tweets/those-titles-arent-banned-statewide-could-be-distr/</td>\n",
       "      <td>NaN</td>\n",
       "    </tr>\n",
       "    <tr>\n",
       "      <th>freq</th>\n",
       "      <td>833</td>\n",
       "      <td>9996</td>\n",
       "      <td>833</td>\n",
       "      <td>NaN</td>\n",
       "    </tr>\n",
       "    <tr>\n",
       "      <th>mean</th>\n",
       "      <td>NaN</td>\n",
       "      <td>NaN</td>\n",
       "      <td>NaN</td>\n",
       "      <td>0.285714</td>\n",
       "    </tr>\n",
       "    <tr>\n",
       "      <th>std</th>\n",
       "      <td>NaN</td>\n",
       "      <td>NaN</td>\n",
       "      <td>NaN</td>\n",
       "      <td>0.451764</td>\n",
       "    </tr>\n",
       "    <tr>\n",
       "      <th>min</th>\n",
       "      <td>NaN</td>\n",
       "      <td>NaN</td>\n",
       "      <td>NaN</td>\n",
       "      <td>0.000000</td>\n",
       "    </tr>\n",
       "    <tr>\n",
       "      <th>25%</th>\n",
       "      <td>NaN</td>\n",
       "      <td>NaN</td>\n",
       "      <td>NaN</td>\n",
       "      <td>0.000000</td>\n",
       "    </tr>\n",
       "    <tr>\n",
       "      <th>50%</th>\n",
       "      <td>NaN</td>\n",
       "      <td>NaN</td>\n",
       "      <td>NaN</td>\n",
       "      <td>0.000000</td>\n",
       "    </tr>\n",
       "    <tr>\n",
       "      <th>75%</th>\n",
       "      <td>NaN</td>\n",
       "      <td>NaN</td>\n",
       "      <td>NaN</td>\n",
       "      <td>1.000000</td>\n",
       "    </tr>\n",
       "    <tr>\n",
       "      <th>max</th>\n",
       "      <td>NaN</td>\n",
       "      <td>NaN</td>\n",
       "      <td>NaN</td>\n",
       "      <td>1.000000</td>\n",
       "    </tr>\n",
       "  </tbody>\n",
       "</table>\n",
       "</div>"
      ],
      "text/plain": [
       "                                                                                       statement  \\\n",
       "count                                                                                      23324   \n",
       "unique                                                                                        28   \n",
       "top     \"Books banned in Texas include 1984, Maus, and The Handmaid's Tale, but not Mein Kampf.\"   \n",
       "freq                                                                                         833   \n",
       "mean                                                                                         NaN   \n",
       "std                                                                                          NaN   \n",
       "min                                                                                          NaN   \n",
       "25%                                                                                          NaN   \n",
       "50%                                                                                          NaN   \n",
       "75%                                                                                          NaN   \n",
       "max                                                                                          NaN   \n",
       "\n",
       "                source  \\\n",
       "count            23324   \n",
       "unique              14   \n",
       "top     Facebook posts   \n",
       "freq              9996   \n",
       "mean               NaN   \n",
       "std                NaN   \n",
       "min                NaN   \n",
       "25%                NaN   \n",
       "50%                NaN   \n",
       "75%                NaN   \n",
       "max                NaN   \n",
       "\n",
       "                                                                                      link  \\\n",
       "count                                                                                23324   \n",
       "unique                                                                                  28   \n",
       "top     /factchecks/2022/feb/14/tweets/those-titles-arent-banned-statewide-could-be-distr/   \n",
       "freq                                                                                   833   \n",
       "mean                                                                                   NaN   \n",
       "std                                                                                    NaN   \n",
       "min                                                                                    NaN   \n",
       "25%                                                                                    NaN   \n",
       "50%                                                                                    NaN   \n",
       "75%                                                                                    NaN   \n",
       "max                                                                                    NaN   \n",
       "\n",
       "            veracity  \n",
       "count   23324.000000  \n",
       "unique           NaN  \n",
       "top              NaN  \n",
       "freq             NaN  \n",
       "mean        0.285714  \n",
       "std         0.451764  \n",
       "min         0.000000  \n",
       "25%         0.000000  \n",
       "50%         0.000000  \n",
       "75%         1.000000  \n",
       "max         1.000000  "
      ]
     },
     "execution_count": 27,
     "metadata": {},
     "output_type": "execute_result"
    }
   ],
   "source": [
    "# how many unique items per category?\n",
    "ver_df.describe(include='all')\n"
   ]
  },
  {
   "cell_type": "code",
   "execution_count": 28,
   "id": "7ad5a1c3",
   "metadata": {},
   "outputs": [
    {
     "data": {
      "text/plain": [
       "Facebook posts     9996\n",
       "Bloggers           2499\n",
       "Tweets             1666\n",
       "Jesse Haw           833\n",
       "Glenn Youngkin      833\n",
       "Charlie Crist       833\n",
       "Dave McCormick      833\n",
       "JB Pritzker         833\n",
       "Kevin Nicholson     833\n",
       "JD Vance            833\n",
       "Name: source, dtype: int64"
      ]
     },
     "execution_count": 28,
     "metadata": {},
     "output_type": "execute_result"
    }
   ],
   "source": [
    "# top 10 sources\n",
    "ver_df.source.value_counts()[:10]"
   ]
  },
  {
   "cell_type": "markdown",
   "id": "63558957",
   "metadata": {},
   "source": [
    "# Verifiy the dates of the search"
   ]
  },
  {
   "cell_type": "code",
   "execution_count": 29,
   "id": "d7ee08eb",
   "metadata": {},
   "outputs": [],
   "source": [
    "\n",
    "ver_df[\"date\"] = ver_df.link.str.extract(r'(\\d{4}/.+?\\d{2})')\n"
   ]
  },
  {
   "cell_type": "code",
   "execution_count": 30,
   "id": "9e3ee553",
   "metadata": {
    "scrolled": false
   },
   "outputs": [
    {
     "data": {
      "text/plain": [
       "/factchecks/2022/feb/14/tweets/those-titles-arent-banned-statewide-could-be-distr/             833\n",
       "/factchecks/2022/feb/14/tweets/no-onlyfans-isnt-recruiting-adult-film-stars-colle/             833\n",
       "/factchecks/2022/feb/10/facebook-posts/republicans-opposed-build-back-better-whole-not-ne/     833\n",
       "/factchecks/2022/feb/10/facebook-posts/cs-lewis-didnt-write-pandemic-passage/                  833\n",
       "/factchecks/2022/feb/10/viral-image/kendall-jenner-said-she-didnt-edit-share-altered-b/        833\n",
       "/factchecks/2022/feb/10/facebook-posts/no-msnbc-didnt-announce-donald-trump-won-2020-elec/     833\n",
       "/factchecks/2022/feb/10/troy-nehls/claim-kids-more-likely-have-access-crack-pipes-mas/         833\n",
       "/factchecks/2022/feb/10/sean-spicer/no-white-house-isnt-spending-30-million-crack-pipe/        833\n",
       "/factchecks/2022/feb/10/nicole-sirotek/no-hospitalized-covid-19-patients-werent-killed-re/     833\n",
       "/factchecks/2022/feb/10/facebook-posts/viral-video-simulation-does-not-depict-real-grand-/     833\n",
       "/factchecks/2022/feb/10/jd-vance/jd-vance-wrongly-says-atf-illegally-tracking-gun-s/           833\n",
       "/factchecks/2022/feb/10/facebook-posts/girl-scouts-not-linked-planned-parenthood-or-polit/     833\n",
       "/factchecks/2022/feb/10/facebook-posts/bulldozer-known-killdozer-was-dismantled-after-col/     833\n",
       "/factchecks/2022/feb/10/facebook-posts/requesting-chargeback-probably-isnt-best-way-get-b/     833\n",
       "/factchecks/2022/feb/10/facebook-posts/no-bob-saget-didnt-predict-his-death/                   833\n",
       "/factchecks/2022/feb/11/kevin-nicholson/wisconsin-gop-gubernatorial-candidate-kevin-nichol/    833\n",
       "/factchecks/2022/feb/11/jb-pritzker/does-illinois-have-larger-percentage-vaccinations-/        833\n",
       "/factchecks/2022/feb/11/blog-posting/no-covid-19-vaccine-not-increasing-child-mortality/       833\n",
       "/factchecks/2022/feb/11/facebook-posts/facebook-post-cries-foul-washington-post-headline-/     833\n",
       "/factchecks/2022/feb/11/blog-posting/gop-lawmakers-proposal-decertify-arizona-election-/       833\n",
       "/factchecks/2022/feb/11/dave-mccormick/response-dr-oz-no-evidence-senate-hopeful-mccormic/     833\n",
       "/factchecks/2022/feb/11/charlie-crist/florida-produces-more-solar-power-most-states-thou/      833\n",
       "/factchecks/2022/feb/11/facebook-posts/covid-spelled-backward-divoc-which-means-possessio/     833\n",
       "/factchecks/2022/feb/11/blog-posting/no-covid-19-vaccines-arent-responsible-increase-de/       833\n",
       "/factchecks/2022/feb/14/glenn-youngkin/has-virginias-economic-growth-stalled-less-1-young/     833\n",
       "/factchecks/2022/feb/14/facebook-posts/covid-19-vaccines-do-not-contain-hiv/                   833\n",
       "/factchecks/2022/feb/14/jesse-haw/fact-checking-claim-nevada-ranks-close-last-electi/          833\n",
       "/factchecks/2022/feb/09/facebook-posts/no-evidence-covid-19-vaccine-caused-comedian-heath/     833\n",
       "Name: link, dtype: int64"
      ]
     },
     "execution_count": 30,
     "metadata": {},
     "output_type": "execute_result"
    }
   ],
   "source": [
    "ver_df.link.value_counts()"
   ]
  },
  {
   "cell_type": "code",
   "execution_count": 31,
   "id": "a522d738",
   "metadata": {},
   "outputs": [],
   "source": [
    "ver_df.date = pd.to_datetime(ver_df.date,infer_datetime_format=True)"
   ]
  },
  {
   "cell_type": "code",
   "execution_count": 32,
   "id": "6c9bb0b7",
   "metadata": {},
   "outputs": [
    {
     "name": "stdout",
     "output_type": "stream",
     "text": [
      "<class 'pandas.core.frame.DataFrame'>\n",
      "Int64Index: 23324 entries, 0 to 24988\n",
      "Data columns (total 5 columns):\n",
      " #   Column     Non-Null Count  Dtype         \n",
      "---  ------     --------------  -----         \n",
      " 0   statement  23324 non-null  object        \n",
      " 1   source     23324 non-null  object        \n",
      " 2   link       23324 non-null  object        \n",
      " 3   veracity   23324 non-null  int64         \n",
      " 4   date       23324 non-null  datetime64[ns]\n",
      "dtypes: datetime64[ns](1), int64(1), object(3)\n",
      "memory usage: 1.1+ MB\n"
     ]
    }
   ],
   "source": [
    "ver_df.info()"
   ]
  },
  {
   "cell_type": "code",
   "execution_count": 33,
   "id": "c9f2ef88",
   "metadata": {},
   "outputs": [
    {
     "data": {
      "text/html": [
       "<div>\n",
       "<style scoped>\n",
       "    .dataframe tbody tr th:only-of-type {\n",
       "        vertical-align: middle;\n",
       "    }\n",
       "\n",
       "    .dataframe tbody tr th {\n",
       "        vertical-align: top;\n",
       "    }\n",
       "\n",
       "    .dataframe thead th {\n",
       "        text-align: right;\n",
       "    }\n",
       "</style>\n",
       "<table border=\"1\" class=\"dataframe\">\n",
       "  <thead>\n",
       "    <tr style=\"text-align: right;\">\n",
       "      <th></th>\n",
       "      <th>statement</th>\n",
       "      <th>source</th>\n",
       "      <th>link</th>\n",
       "      <th>veracity</th>\n",
       "      <th>date</th>\n",
       "    </tr>\n",
       "  </thead>\n",
       "  <tbody>\n",
       "    <tr>\n",
       "      <th>0</th>\n",
       "      <td>\"Books banned in Texas include 1984, Maus, and The Handmaid's Tale, but not Mein Kampf.\"</td>\n",
       "      <td>Tweets</td>\n",
       "      <td>/factchecks/2022/feb/14/tweets/those-titles-arent-banned-statewide-could-be-distr/</td>\n",
       "      <td>0</td>\n",
       "      <td>2022-02-14</td>\n",
       "    </tr>\n",
       "    <tr>\n",
       "      <th>32</th>\n",
       "      <td>“Nevada ranks 50th in election integrity ratings.”</td>\n",
       "      <td>Jesse Haw</td>\n",
       "      <td>/factchecks/2022/feb/14/jesse-haw/fact-checking-claim-nevada-ranks-close-last-electi/</td>\n",
       "      <td>1</td>\n",
       "      <td>2022-02-14</td>\n",
       "    </tr>\n",
       "    <tr>\n",
       "      <th>64</th>\n",
       "      <td>Virginia’s economic growth “has stalled at less than 1% per year for eight years.”</td>\n",
       "      <td>Glenn Youngkin</td>\n",
       "      <td>/factchecks/2022/feb/14/glenn-youngkin/has-virginias-economic-growth-stalled-less-1-young/</td>\n",
       "      <td>1</td>\n",
       "      <td>2022-02-14</td>\n",
       "    </tr>\n",
       "  </tbody>\n",
       "</table>\n",
       "</div>"
      ],
      "text/plain": [
       "                                                                                   statement  \\\n",
       "0   \"Books banned in Texas include 1984, Maus, and The Handmaid's Tale, but not Mein Kampf.\"   \n",
       "32                                        “Nevada ranks 50th in election integrity ratings.”   \n",
       "64        Virginia’s economic growth “has stalled at less than 1% per year for eight years.”   \n",
       "\n",
       "            source  \\\n",
       "0           Tweets   \n",
       "32       Jesse Haw   \n",
       "64  Glenn Youngkin   \n",
       "\n",
       "                                                                                          link  \\\n",
       "0           /factchecks/2022/feb/14/tweets/those-titles-arent-banned-statewide-could-be-distr/   \n",
       "32       /factchecks/2022/feb/14/jesse-haw/fact-checking-claim-nevada-ranks-close-last-electi/   \n",
       "64  /factchecks/2022/feb/14/glenn-youngkin/has-virginias-economic-growth-stalled-less-1-young/   \n",
       "\n",
       "    veracity       date  \n",
       "0          0 2022-02-14  \n",
       "32         1 2022-02-14  \n",
       "64         1 2022-02-14  "
      ]
     },
     "execution_count": 33,
     "metadata": {},
     "output_type": "execute_result"
    }
   ],
   "source": [
    "ver_df[:90:30]"
   ]
  },
  {
   "cell_type": "code",
   "execution_count": 34,
   "id": "42ba99a2",
   "metadata": {},
   "outputs": [
    {
     "data": {
      "image/png": "[encoded data removed]",
      "text/plain": [
       "<Figure size 432x288 with 1 Axes>"
      ]
     },
     "metadata": {
      "needs_background": "light"
     },
     "output_type": "display_data"
    }
   ],
   "source": [
    "ax = ver_df.groupby(ver_df.date.dt.year).count().plot(kind=\"bar\")\n",
    "ax.legend_ = None\n",
    "plt.title(\"Distribution by Year\")\n",
    "plt.show()\n"
   ]
  },
  {
   "cell_type": "markdown",
   "id": "d2ff6ae3",
   "metadata": {},
   "source": [
    "# Looking at the values from 2019 and see if there are duplicates"
   ]
  },
  {
   "cell_type": "code",
   "execution_count": 35,
   "id": "254f5cb3",
   "metadata": {
    "scrolled": true
   },
   "outputs": [],
   "source": [
    "alternative_df = pd.read_csv('politifact_clean.csv')"
   ]
  },
  {
   "cell_type": "code",
   "execution_count": 36,
   "id": "e374010d",
   "metadata": {},
   "outputs": [
    {
     "data": {
      "text/html": [
       "<div>\n",
       "<style scoped>\n",
       "    .dataframe tbody tr th:only-of-type {\n",
       "        vertical-align: middle;\n",
       "    }\n",
       "\n",
       "    .dataframe tbody tr th {\n",
       "        vertical-align: top;\n",
       "    }\n",
       "\n",
       "    .dataframe thead th {\n",
       "        text-align: right;\n",
       "    }\n",
       "</style>\n",
       "<table border=\"1\" class=\"dataframe\">\n",
       "  <thead>\n",
       "    <tr style=\"text-align: right;\">\n",
       "      <th></th>\n",
       "      <th>statement</th>\n",
       "      <th>source</th>\n",
       "      <th>link</th>\n",
       "      <th>veracity</th>\n",
       "    </tr>\n",
       "  </thead>\n",
       "  <tbody>\n",
       "    <tr>\n",
       "      <th>0</th>\n",
       "      <td>Sen. Kamala Harris is \"supporting the animals of MS-13.\"</td>\n",
       "      <td>Donald Trump</td>\n",
       "      <td>/web/20180705082623/https://www.politifact.com/california/statements/2018/jul/03/donald-trump/pants-fire-white-house-claim-sen-harris-supporting/</td>\n",
       "      <td>Pants on Fire!</td>\n",
       "    </tr>\n",
       "    <tr>\n",
       "      <th>1</th>\n",
       "      <td>Says Ronald Reagan said immigrants \"brought with them courage and the values of family, work, and freedom. Let us pledge to each other that we can make America great again.\"</td>\n",
       "      <td>Becoming American Initiative</td>\n",
       "      <td>/web/20180705082623/https://www.politifact.com/truth-o-meter/statements/2018/jul/03/becoming-american-initiative/did-ronald-reagan-say-immigrants-made-america-grea/</td>\n",
       "      <td>Mostly True</td>\n",
       "    </tr>\n",
       "    <tr>\n",
       "      <th>2</th>\n",
       "      <td>Says Democratic Senators \"demand Supreme Court nominee not be unduly influenced by U.S. Constitution.\"</td>\n",
       "      <td>Viral image</td>\n",
       "      <td>/web/20180705082623/https://www.politifact.com/punditfact/statements/2018/jul/03/viral-image/viral-image-criticizing-democrats-featured-fabrica/</td>\n",
       "      <td>Pants on Fire!</td>\n",
       "    </tr>\n",
       "    <tr>\n",
       "      <th>3</th>\n",
       "      <td>\"Tim Kaine doesn’t want a border at all. He wants to get rid of Immigration and Customs Enforcement and basically the border patrol as well.\"</td>\n",
       "      <td>Corey  Stewart</td>\n",
       "      <td>/web/20180705082623/https://www.politifact.com/truth-o-meter/statements/2018/jul/03/corey-stewart/corey-stewart-falsely-claims-sen-tim-kaine-wants-d/</td>\n",
       "      <td>Pants on Fire!</td>\n",
       "    </tr>\n",
       "    <tr>\n",
       "      <th>4</th>\n",
       "      <td>\"George H.W. Bush has died at 94.\"</td>\n",
       "      <td>Bloggers</td>\n",
       "      <td>/web/20180705082623/https://www.politifact.com/punditfact/statements/2018/jul/02/blog-posting/hoax-website-says-george-h-w-bush-died-he-didnt/</td>\n",
       "      <td>Pants on Fire!</td>\n",
       "    </tr>\n",
       "  </tbody>\n",
       "</table>\n",
       "</div>"
      ],
      "text/plain": [
       "                                                                                                                                                                       statement  \\\n",
       "0                                                                                                                       Sen. Kamala Harris is \"supporting the animals of MS-13.\"   \n",
       "1  Says Ronald Reagan said immigrants \"brought with them courage and the values of family, work, and freedom. Let us pledge to each other that we can make America great again.\"   \n",
       "2                                                                         Says Democratic Senators \"demand Supreme Court nominee not be unduly influenced by U.S. Constitution.\"   \n",
       "3                                  \"Tim Kaine doesn’t want a border at all. He wants to get rid of Immigration and Customs Enforcement and basically the border patrol as well.\"   \n",
       "4                                                                                                                                             \"George H.W. Bush has died at 94.\"   \n",
       "\n",
       "                         source  \\\n",
       "0                  Donald Trump   \n",
       "1  Becoming American Initiative   \n",
       "2                   Viral image   \n",
       "3                Corey  Stewart   \n",
       "4                      Bloggers   \n",
       "\n",
       "                                                                                                                                                                   link  \\\n",
       "0                     /web/20180705082623/https://www.politifact.com/california/statements/2018/jul/03/donald-trump/pants-fire-white-house-claim-sen-harris-supporting/   \n",
       "1  /web/20180705082623/https://www.politifact.com/truth-o-meter/statements/2018/jul/03/becoming-american-initiative/did-ronald-reagan-say-immigrants-made-america-grea/   \n",
       "2                      /web/20180705082623/https://www.politifact.com/punditfact/statements/2018/jul/03/viral-image/viral-image-criticizing-democrats-featured-fabrica/   \n",
       "3                 /web/20180705082623/https://www.politifact.com/truth-o-meter/statements/2018/jul/03/corey-stewart/corey-stewart-falsely-claims-sen-tim-kaine-wants-d/   \n",
       "4                        /web/20180705082623/https://www.politifact.com/punditfact/statements/2018/jul/02/blog-posting/hoax-website-says-george-h-w-bush-died-he-didnt/   \n",
       "\n",
       "         veracity  \n",
       "0  Pants on Fire!  \n",
       "1     Mostly True  \n",
       "2  Pants on Fire!  \n",
       "3  Pants on Fire!  \n",
       "4  Pants on Fire!  "
      ]
     },
     "execution_count": 36,
     "metadata": {},
     "output_type": "execute_result"
    }
   ],
   "source": [
    "alternative_df.head()"
   ]
  },
  {
   "cell_type": "code",
   "execution_count": 37,
   "id": "4931d3f4",
   "metadata": {},
   "outputs": [],
   "source": [
    "#getting the statements from the 2019 dataset\n",
    "statements_1 = alternative_df[['statement', 'source']].copy()"
   ]
  },
  {
   "cell_type": "code",
   "execution_count": 38,
   "id": "eaec7fa8",
   "metadata": {},
   "outputs": [
    {
     "data": {
      "text/html": [
       "<div>\n",
       "<style scoped>\n",
       "    .dataframe tbody tr th:only-of-type {\n",
       "        vertical-align: middle;\n",
       "    }\n",
       "\n",
       "    .dataframe tbody tr th {\n",
       "        vertical-align: top;\n",
       "    }\n",
       "\n",
       "    .dataframe thead th {\n",
       "        text-align: right;\n",
       "    }\n",
       "</style>\n",
       "<table border=\"1\" class=\"dataframe\">\n",
       "  <thead>\n",
       "    <tr style=\"text-align: right;\">\n",
       "      <th></th>\n",
       "      <th>statement</th>\n",
       "      <th>source</th>\n",
       "    </tr>\n",
       "  </thead>\n",
       "  <tbody>\n",
       "    <tr>\n",
       "      <th>0</th>\n",
       "      <td>Sen. Kamala Harris is \"supporting the animals of MS-13.\"</td>\n",
       "      <td>Donald Trump</td>\n",
       "    </tr>\n",
       "    <tr>\n",
       "      <th>1</th>\n",
       "      <td>Says Ronald Reagan said immigrants \"brought with them courage and the values of family, work, and freedom. Let us pledge to each other that we can make America great again.\"</td>\n",
       "      <td>Becoming American Initiative</td>\n",
       "    </tr>\n",
       "    <tr>\n",
       "      <th>2</th>\n",
       "      <td>Says Democratic Senators \"demand Supreme Court nominee not be unduly influenced by U.S. Constitution.\"</td>\n",
       "      <td>Viral image</td>\n",
       "    </tr>\n",
       "    <tr>\n",
       "      <th>3</th>\n",
       "      <td>\"Tim Kaine doesn’t want a border at all. He wants to get rid of Immigration and Customs Enforcement and basically the border patrol as well.\"</td>\n",
       "      <td>Corey  Stewart</td>\n",
       "    </tr>\n",
       "    <tr>\n",
       "      <th>4</th>\n",
       "      <td>\"George H.W. Bush has died at 94.\"</td>\n",
       "      <td>Bloggers</td>\n",
       "    </tr>\n",
       "  </tbody>\n",
       "</table>\n",
       "</div>"
      ],
      "text/plain": [
       "                                                                                                                                                                       statement  \\\n",
       "0                                                                                                                       Sen. Kamala Harris is \"supporting the animals of MS-13.\"   \n",
       "1  Says Ronald Reagan said immigrants \"brought with them courage and the values of family, work, and freedom. Let us pledge to each other that we can make America great again.\"   \n",
       "2                                                                         Says Democratic Senators \"demand Supreme Court nominee not be unduly influenced by U.S. Constitution.\"   \n",
       "3                                  \"Tim Kaine doesn’t want a border at all. He wants to get rid of Immigration and Customs Enforcement and basically the border patrol as well.\"   \n",
       "4                                                                                                                                             \"George H.W. Bush has died at 94.\"   \n",
       "\n",
       "                         source  \n",
       "0                  Donald Trump  \n",
       "1  Becoming American Initiative  \n",
       "2                   Viral image  \n",
       "3                Corey  Stewart  \n",
       "4                      Bloggers  "
      ]
     },
     "execution_count": 38,
     "metadata": {},
     "output_type": "execute_result"
    }
   ],
   "source": [
    "statements_1.head()"
   ]
  },
  {
   "cell_type": "code",
   "execution_count": 39,
   "id": "59474727",
   "metadata": {
    "scrolled": true
   },
   "outputs": [],
   "source": [
    "statements_2 = ver_df[['statement', 'source']].copy()"
   ]
  },
  {
   "cell_type": "code",
   "execution_count": 40,
   "id": "74eb1e0e",
   "metadata": {},
   "outputs": [
    {
     "data": {
      "text/html": [
       "<div>\n",
       "<style scoped>\n",
       "    .dataframe tbody tr th:only-of-type {\n",
       "        vertical-align: middle;\n",
       "    }\n",
       "\n",
       "    .dataframe tbody tr th {\n",
       "        vertical-align: top;\n",
       "    }\n",
       "\n",
       "    .dataframe thead th {\n",
       "        text-align: right;\n",
       "    }\n",
       "</style>\n",
       "<table border=\"1\" class=\"dataframe\">\n",
       "  <thead>\n",
       "    <tr style=\"text-align: right;\">\n",
       "      <th></th>\n",
       "      <th>statement</th>\n",
       "      <th>source</th>\n",
       "    </tr>\n",
       "  </thead>\n",
       "  <tbody>\n",
       "  </tbody>\n",
       "</table>\n",
       "</div>"
      ],
      "text/plain": [
       "Empty DataFrame\n",
       "Columns: [statement, source]\n",
       "Index: []"
      ]
     },
     "execution_count": 40,
     "metadata": {},
     "output_type": "execute_result"
    }
   ],
   "source": [
    "statements_merge = pd.merge(statements_1, statements_2, on=['statement', 'source'], how='inner') \n",
    "statements_merge.head()"
   ]
  },
  {
   "cell_type": "code",
   "execution_count": 41,
   "id": "41d616ff",
   "metadata": {},
   "outputs": [],
   "source": [
    "statements_merge['duplicated'] = statements_merge.duplicated(keep=False)"
   ]
  },
  {
   "cell_type": "code",
   "execution_count": 42,
   "id": "0cdc3da0",
   "metadata": {},
   "outputs": [
    {
     "data": {
      "text/html": [
       "<div>\n",
       "<style scoped>\n",
       "    .dataframe tbody tr th:only-of-type {\n",
       "        vertical-align: middle;\n",
       "    }\n",
       "\n",
       "    .dataframe tbody tr th {\n",
       "        vertical-align: top;\n",
       "    }\n",
       "\n",
       "    .dataframe thead th {\n",
       "        text-align: right;\n",
       "    }\n",
       "</style>\n",
       "<table border=\"1\" class=\"dataframe\">\n",
       "  <thead>\n",
       "    <tr style=\"text-align: right;\">\n",
       "      <th></th>\n",
       "      <th>statement</th>\n",
       "      <th>source</th>\n",
       "      <th>duplicated</th>\n",
       "    </tr>\n",
       "  </thead>\n",
       "  <tbody>\n",
       "  </tbody>\n",
       "</table>\n",
       "</div>"
      ],
      "text/plain": [
       "Empty DataFrame\n",
       "Columns: [statement, source, duplicated]\n",
       "Index: []"
      ]
     },
     "execution_count": 42,
     "metadata": {},
     "output_type": "execute_result"
    }
   ],
   "source": [
    "statements_merge.head()"
   ]
  },
  {
   "cell_type": "code",
   "execution_count": 44,
   "id": "d7465936",
   "metadata": {},
   "outputs": [
    {
     "data": {
      "text/plain": [
       "11188"
      ]
     },
     "execution_count": 44,
     "metadata": {},
     "output_type": "execute_result"
    }
   ],
   "source": [
    "len(alternative_df)"
   ]
  },
  {
   "cell_type": "markdown",
   "id": "1c504967",
   "metadata": {},
   "source": [
    "# Scraping the 2019 dataset"
   ]
  },
  {
   "cell_type": "code",
   "execution_count": 47,
   "id": "de8f4e7a",
   "metadata": {
    "scrolled": true
   },
   "outputs": [
    {
     "data": {
      "text/plain": [
       "Mostly True       2695\n",
       "FALSE             2641\n",
       "Mostly False      2335\n",
       "TRUE              2158\n",
       "Pants on Fire!    1359\n",
       "Name: veracity, dtype: int64"
      ]
     },
     "execution_count": 47,
     "metadata": {},
     "output_type": "execute_result"
    }
   ],
   "source": [
    "# check groups that exist in veracity column\n",
    "alternative_df.veracity.value_counts()"
   ]
  },
  {
   "cell_type": "code",
   "execution_count": 58,
   "id": "0565259f",
   "metadata": {},
   "outputs": [],
   "source": [
    "ver_df_2 = alternative_df.replace({\"FALSE\": 0,\n",
    "                                   \"Mostly False\": 0,\n",
    "                                   \"Pants on Fire!\": 0,\n",
    "                                   \"TRUE\": 1,\n",
    "                                   \"Mostly True\": 1\n",
    "    \n",
    "})"
   ]
  },
  {
   "cell_type": "code",
   "execution_count": 59,
   "id": "860907c9",
   "metadata": {},
   "outputs": [
    {
     "data": {
      "text/html": [
       "<div>\n",
       "<style scoped>\n",
       "    .dataframe tbody tr th:only-of-type {\n",
       "        vertical-align: middle;\n",
       "    }\n",
       "\n",
       "    .dataframe tbody tr th {\n",
       "        vertical-align: top;\n",
       "    }\n",
       "\n",
       "    .dataframe thead th {\n",
       "        text-align: right;\n",
       "    }\n",
       "</style>\n",
       "<table border=\"1\" class=\"dataframe\">\n",
       "  <thead>\n",
       "    <tr style=\"text-align: right;\">\n",
       "      <th></th>\n",
       "      <th>statement</th>\n",
       "      <th>source</th>\n",
       "      <th>link</th>\n",
       "      <th>veracity</th>\n",
       "    </tr>\n",
       "  </thead>\n",
       "  <tbody>\n",
       "    <tr>\n",
       "      <th>0</th>\n",
       "      <td>Sen. Kamala Harris is \"supporting the animals of MS-13.\"</td>\n",
       "      <td>Donald Trump</td>\n",
       "      <td>/web/20180705082623/https://www.politifact.com/california/statements/2018/jul/03/donald-trump/pants-fire-white-house-claim-sen-harris-supporting/</td>\n",
       "      <td>0</td>\n",
       "    </tr>\n",
       "    <tr>\n",
       "      <th>1</th>\n",
       "      <td>Says Ronald Reagan said immigrants \"brought with them courage and the values of family, work, and freedom. Let us pledge to each other that we can make America great again.\"</td>\n",
       "      <td>Becoming American Initiative</td>\n",
       "      <td>/web/20180705082623/https://www.politifact.com/truth-o-meter/statements/2018/jul/03/becoming-american-initiative/did-ronald-reagan-say-immigrants-made-america-grea/</td>\n",
       "      <td>1</td>\n",
       "    </tr>\n",
       "    <tr>\n",
       "      <th>2</th>\n",
       "      <td>Says Democratic Senators \"demand Supreme Court nominee not be unduly influenced by U.S. Constitution.\"</td>\n",
       "      <td>Viral image</td>\n",
       "      <td>/web/20180705082623/https://www.politifact.com/punditfact/statements/2018/jul/03/viral-image/viral-image-criticizing-democrats-featured-fabrica/</td>\n",
       "      <td>0</td>\n",
       "    </tr>\n",
       "  </tbody>\n",
       "</table>\n",
       "</div>"
      ],
      "text/plain": [
       "                                                                                                                                                                       statement  \\\n",
       "0                                                                                                                       Sen. Kamala Harris is \"supporting the animals of MS-13.\"   \n",
       "1  Says Ronald Reagan said immigrants \"brought with them courage and the values of family, work, and freedom. Let us pledge to each other that we can make America great again.\"   \n",
       "2                                                                         Says Democratic Senators \"demand Supreme Court nominee not be unduly influenced by U.S. Constitution.\"   \n",
       "\n",
       "                         source  \\\n",
       "0                  Donald Trump   \n",
       "1  Becoming American Initiative   \n",
       "2                   Viral image   \n",
       "\n",
       "                                                                                                                                                                   link  \\\n",
       "0                     /web/20180705082623/https://www.politifact.com/california/statements/2018/jul/03/donald-trump/pants-fire-white-house-claim-sen-harris-supporting/   \n",
       "1  /web/20180705082623/https://www.politifact.com/truth-o-meter/statements/2018/jul/03/becoming-american-initiative/did-ronald-reagan-say-immigrants-made-america-grea/   \n",
       "2                      /web/20180705082623/https://www.politifact.com/punditfact/statements/2018/jul/03/viral-image/viral-image-criticizing-democrats-featured-fabrica/   \n",
       "\n",
       "   veracity  \n",
       "0         0  \n",
       "1         1  \n",
       "2         0  "
      ]
     },
     "execution_count": 59,
     "metadata": {},
     "output_type": "execute_result"
    }
   ],
   "source": [
    "ver_df_2.head(3)"
   ]
  },
  {
   "cell_type": "code",
   "execution_count": 60,
   "id": "8f550933",
   "metadata": {
    "scrolled": true
   },
   "outputs": [
    {
     "name": "stdout",
     "output_type": "stream",
     "text": [
      "<class 'pandas.core.frame.DataFrame'>\n",
      "RangeIndex: 11188 entries, 0 to 11187\n",
      "Data columns (total 4 columns):\n",
      " #   Column     Non-Null Count  Dtype \n",
      "---  ------     --------------  ----- \n",
      " 0   statement  11188 non-null  object\n",
      " 1   source     11188 non-null  object\n",
      " 2   link       11188 non-null  object\n",
      " 3   veracity   11188 non-null  int64 \n",
      "dtypes: int64(1), object(3)\n",
      "memory usage: 349.8+ KB\n"
     ]
    }
   ],
   "source": [
    "ver_df_2.info()"
   ]
  },
  {
   "cell_type": "code",
   "execution_count": 61,
   "id": "ea08e62d",
   "metadata": {},
   "outputs": [
    {
     "data": {
      "text/html": [
       "<div>\n",
       "<style scoped>\n",
       "    .dataframe tbody tr th:only-of-type {\n",
       "        vertical-align: middle;\n",
       "    }\n",
       "\n",
       "    .dataframe tbody tr th {\n",
       "        vertical-align: top;\n",
       "    }\n",
       "\n",
       "    .dataframe thead th {\n",
       "        text-align: right;\n",
       "    }\n",
       "</style>\n",
       "<table border=\"1\" class=\"dataframe\">\n",
       "  <thead>\n",
       "    <tr style=\"text-align: right;\">\n",
       "      <th></th>\n",
       "      <th>statement</th>\n",
       "      <th>source</th>\n",
       "      <th>link</th>\n",
       "      <th>veracity</th>\n",
       "      <th>date</th>\n",
       "    </tr>\n",
       "  </thead>\n",
       "  <tbody>\n",
       "    <tr>\n",
       "      <th>0</th>\n",
       "      <td>\"Books banned in Texas include 1984, Maus, and The Handmaid's Tale, but not Mein Kampf.\"</td>\n",
       "      <td>Tweets</td>\n",
       "      <td>/factchecks/2022/feb/14/tweets/those-titles-arent-banned-statewide-could-be-distr/</td>\n",
       "      <td>0</td>\n",
       "      <td>2022-02-14</td>\n",
       "    </tr>\n",
       "    <tr>\n",
       "      <th>1</th>\n",
       "      <td>A video shows that “OnlyFans has guys on campus encouraging your daughters to do porn for ‘financial freedom.’”</td>\n",
       "      <td>Tweets</td>\n",
       "      <td>/factchecks/2022/feb/14/tweets/no-onlyfans-isnt-recruiting-adult-film-stars-colle/</td>\n",
       "      <td>0</td>\n",
       "      <td>2022-02-14</td>\n",
       "    </tr>\n",
       "    <tr>\n",
       "      <th>2</th>\n",
       "      <td>“Nevada ranks 50th in election integrity ratings.”</td>\n",
       "      <td>Jesse Haw</td>\n",
       "      <td>/factchecks/2022/feb/14/jesse-haw/fact-checking-claim-nevada-ranks-close-last-electi/</td>\n",
       "      <td>1</td>\n",
       "      <td>2022-02-14</td>\n",
       "    </tr>\n",
       "  </tbody>\n",
       "</table>\n",
       "</div>"
      ],
      "text/plain": [
       "                                                                                                         statement  \\\n",
       "0                         \"Books banned in Texas include 1984, Maus, and The Handmaid's Tale, but not Mein Kampf.\"   \n",
       "1  A video shows that “OnlyFans has guys on campus encouraging your daughters to do porn for ‘financial freedom.’”   \n",
       "2                                                               “Nevada ranks 50th in election integrity ratings.”   \n",
       "\n",
       "      source  \\\n",
       "0     Tweets   \n",
       "1     Tweets   \n",
       "2  Jesse Haw   \n",
       "\n",
       "                                                                                    link  \\\n",
       "0     /factchecks/2022/feb/14/tweets/those-titles-arent-banned-statewide-could-be-distr/   \n",
       "1     /factchecks/2022/feb/14/tweets/no-onlyfans-isnt-recruiting-adult-film-stars-colle/   \n",
       "2  /factchecks/2022/feb/14/jesse-haw/fact-checking-claim-nevada-ranks-close-last-electi/   \n",
       "\n",
       "   veracity       date  \n",
       "0         0 2022-02-14  \n",
       "1         0 2022-02-14  \n",
       "2         1 2022-02-14  "
      ]
     },
     "execution_count": 61,
     "metadata": {},
     "output_type": "execute_result"
    }
   ],
   "source": [
    "ver_df.head(3)"
   ]
  },
  {
   "cell_type": "markdown",
   "id": "5bc31789",
   "metadata": {},
   "source": [
    "# Merge 2 pandas datasets"
   ]
  },
  {
   "cell_type": "code",
   "execution_count": 69,
   "id": "f61cd7a6",
   "metadata": {
    "scrolled": true
   },
   "outputs": [],
   "source": [
    "ver_df = ver_df.drop(['date'], axis=1)"
   ]
  },
  {
   "cell_type": "code",
   "execution_count": 70,
   "id": "0d0c4570",
   "metadata": {},
   "outputs": [],
   "source": [
    "ver_df_united = pd.concat([ver_df, ver_df_2])"
   ]
  },
  {
   "cell_type": "code",
   "execution_count": 71,
   "id": "1f81ddcb",
   "metadata": {},
   "outputs": [
    {
     "name": "stdout",
     "output_type": "stream",
     "text": [
      "23324\n",
      "11188\n",
      "34512\n"
     ]
    }
   ],
   "source": [
    "print(len(ver_df))\n",
    "print(len(ver_df_2))\n",
    "print(len(ver_df_united))"
   ]
  },
  {
   "cell_type": "code",
   "execution_count": 72,
   "id": "b21c45d1",
   "metadata": {},
   "outputs": [
    {
     "data": {
      "text/plain": [
       "0    22995\n",
       "1    11517\n",
       "Name: veracity, dtype: int64"
      ]
     },
     "execution_count": 72,
     "metadata": {},
     "output_type": "execute_result"
    }
   ],
   "source": [
    "ver_df_united.veracity.value_counts()"
   ]
  },
  {
   "cell_type": "code",
   "execution_count": 73,
   "id": "2dfc6c98",
   "metadata": {},
   "outputs": [],
   "source": [
    "#by concatanating the 2 datasests, we made sure that, even if the dataframe is overall imbalaced, we kept a ratio of 2:1 between \n",
    "# the false affirmation and the truthfull ones"
   ]
  },
  {
   "cell_type": "code",
   "execution_count": 74,
   "id": "83c5c058",
   "metadata": {},
   "outputs": [
    {
     "data": {
      "text/plain": [
       "Facebook posts     10081\n",
       "Bloggers            2747\n",
       "Tweets              1679\n",
       "Charlie Crist        893\n",
       "Viral image          870\n",
       "Sean Spicer          843\n",
       "JB Pritzker          835\n",
       "Kevin Nicholson      834\n",
       "Jesse Haw            833\n",
       "Glenn Youngkin       833\n",
       "Name: source, dtype: int64"
      ]
     },
     "execution_count": 74,
     "metadata": {},
     "output_type": "execute_result"
    }
   ],
   "source": [
    "# top 10 sources\n",
    "ver_df_united.source.value_counts()[:10]"
   ]
  },
  {
   "cell_type": "code",
   "execution_count": 75,
   "id": "63683b11",
   "metadata": {},
   "outputs": [
    {
     "data": {
      "text/html": [
       "<div>\n",
       "<style scoped>\n",
       "    .dataframe tbody tr th:only-of-type {\n",
       "        vertical-align: middle;\n",
       "    }\n",
       "\n",
       "    .dataframe tbody tr th {\n",
       "        vertical-align: top;\n",
       "    }\n",
       "\n",
       "    .dataframe thead th {\n",
       "        text-align: right;\n",
       "    }\n",
       "</style>\n",
       "<table border=\"1\" class=\"dataframe\">\n",
       "  <thead>\n",
       "    <tr style=\"text-align: right;\">\n",
       "      <th></th>\n",
       "      <th>statement</th>\n",
       "      <th>source</th>\n",
       "      <th>link</th>\n",
       "      <th>veracity</th>\n",
       "    </tr>\n",
       "  </thead>\n",
       "  <tbody>\n",
       "    <tr>\n",
       "      <th>0</th>\n",
       "      <td>\"Books banned in Texas include 1984, Maus, and The Handmaid's Tale, but not Mein Kampf.\"</td>\n",
       "      <td>Tweets</td>\n",
       "      <td>/factchecks/2022/feb/14/tweets/those-titles-arent-banned-statewide-could-be-distr/</td>\n",
       "      <td>0</td>\n",
       "    </tr>\n",
       "    <tr>\n",
       "      <th>10</th>\n",
       "      <td>Says a Washington Post headline and graphic about COVID-19 deaths are misleading.</td>\n",
       "      <td>Facebook posts</td>\n",
       "      <td>/factchecks/2022/feb/11/facebook-posts/facebook-post-cries-foul-washington-post-headline-/</td>\n",
       "      <td>0</td>\n",
       "    </tr>\n",
       "    <tr>\n",
       "      <th>20</th>\n",
       "      <td>Says remdesivir is responsible for killing patients hospitalized with COVID-19.</td>\n",
       "      <td>Nicole Sirotek</td>\n",
       "      <td>/factchecks/2022/feb/10/nicole-sirotek/no-hospitalized-covid-19-patients-werent-killed-re/</td>\n",
       "      <td>0</td>\n",
       "    </tr>\n",
       "    <tr>\n",
       "      <th>32</th>\n",
       "      <td>“Nevada ranks 50th in election integrity ratings.”</td>\n",
       "      <td>Jesse Haw</td>\n",
       "      <td>/factchecks/2022/feb/14/jesse-haw/fact-checking-claim-nevada-ranks-close-last-electi/</td>\n",
       "      <td>1</td>\n",
       "    </tr>\n",
       "    <tr>\n",
       "      <th>42</th>\n",
       "      <td>“A larger percentage of Illinoisans have been vaccinated than in any other Midwestern state.”</td>\n",
       "      <td>JB Pritzker</td>\n",
       "      <td>/factchecks/2022/feb/11/jb-pritzker/does-illinois-have-larger-percentage-vaccinations-/</td>\n",
       "      <td>1</td>\n",
       "    </tr>\n",
       "    <tr>\n",
       "      <th>52</th>\n",
       "      <td>\"In Joe Biden’s America, your children are more likely to have access to a crack pipe than a mask-free education.\"</td>\n",
       "      <td>Troy Nehls</td>\n",
       "      <td>/factchecks/2022/feb/10/troy-nehls/claim-kids-more-likely-have-access-crack-pipes-mas/</td>\n",
       "      <td>0</td>\n",
       "    </tr>\n",
       "    <tr>\n",
       "      <th>64</th>\n",
       "      <td>Virginia’s economic growth “has stalled at less than 1% per year for eight years.”</td>\n",
       "      <td>Glenn Youngkin</td>\n",
       "      <td>/factchecks/2022/feb/14/glenn-youngkin/has-virginias-economic-growth-stalled-less-1-young/</td>\n",
       "      <td>1</td>\n",
       "    </tr>\n",
       "    <tr>\n",
       "      <th>74</th>\n",
       "      <td>Says Bob Saget predicted his death</td>\n",
       "      <td>Facebook posts</td>\n",
       "      <td>/factchecks/2022/feb/10/facebook-posts/no-bob-saget-didnt-predict-his-death/</td>\n",
       "      <td>0</td>\n",
       "    </tr>\n",
       "    <tr>\n",
       "      <th>85</th>\n",
       "      <td>Kendall Jenner edited a photo to look like she was holding a “Black Lives Matter” sign.</td>\n",
       "      <td>Viral image</td>\n",
       "      <td>/factchecks/2022/feb/10/viral-image/kendall-jenner-said-she-didnt-edit-share-altered-b/</td>\n",
       "      <td>0</td>\n",
       "    </tr>\n",
       "    <tr>\n",
       "      <th>96</th>\n",
       "      <td>COVID spelled backward is “divoc” which means \"possession of the evil spirit\" in Hebrew.</td>\n",
       "      <td>Facebook posts</td>\n",
       "      <td>/factchecks/2022/feb/11/facebook-posts/covid-spelled-backward-divoc-which-means-possessio/</td>\n",
       "      <td>0</td>\n",
       "    </tr>\n",
       "  </tbody>\n",
       "</table>\n",
       "</div>"
      ],
      "text/plain": [
       "                                                                                                             statement  \\\n",
       "0                             \"Books banned in Texas include 1984, Maus, and The Handmaid's Tale, but not Mein Kampf.\"   \n",
       "10                                   Says a Washington Post headline and graphic about COVID-19 deaths are misleading.   \n",
       "20                                     Says remdesivir is responsible for killing patients hospitalized with COVID-19.   \n",
       "32                                                                  “Nevada ranks 50th in election integrity ratings.”   \n",
       "42                       “A larger percentage of Illinoisans have been vaccinated than in any other Midwestern state.”   \n",
       "52  \"In Joe Biden’s America, your children are more likely to have access to a crack pipe than a mask-free education.\"   \n",
       "64                                  Virginia’s economic growth “has stalled at less than 1% per year for eight years.”   \n",
       "74                                                                                  Says Bob Saget predicted his death   \n",
       "85                             Kendall Jenner edited a photo to look like she was holding a “Black Lives Matter” sign.   \n",
       "96                            COVID spelled backward is “divoc” which means \"possession of the evil spirit\" in Hebrew.   \n",
       "\n",
       "            source  \\\n",
       "0           Tweets   \n",
       "10  Facebook posts   \n",
       "20  Nicole Sirotek   \n",
       "32       Jesse Haw   \n",
       "42     JB Pritzker   \n",
       "52      Troy Nehls   \n",
       "64  Glenn Youngkin   \n",
       "74  Facebook posts   \n",
       "85     Viral image   \n",
       "96  Facebook posts   \n",
       "\n",
       "                                                                                          link  \\\n",
       "0           /factchecks/2022/feb/14/tweets/those-titles-arent-banned-statewide-could-be-distr/   \n",
       "10  /factchecks/2022/feb/11/facebook-posts/facebook-post-cries-foul-washington-post-headline-/   \n",
       "20  /factchecks/2022/feb/10/nicole-sirotek/no-hospitalized-covid-19-patients-werent-killed-re/   \n",
       "32       /factchecks/2022/feb/14/jesse-haw/fact-checking-claim-nevada-ranks-close-last-electi/   \n",
       "42     /factchecks/2022/feb/11/jb-pritzker/does-illinois-have-larger-percentage-vaccinations-/   \n",
       "52      /factchecks/2022/feb/10/troy-nehls/claim-kids-more-likely-have-access-crack-pipes-mas/   \n",
       "64  /factchecks/2022/feb/14/glenn-youngkin/has-virginias-economic-growth-stalled-less-1-young/   \n",
       "74                /factchecks/2022/feb/10/facebook-posts/no-bob-saget-didnt-predict-his-death/   \n",
       "85     /factchecks/2022/feb/10/viral-image/kendall-jenner-said-she-didnt-edit-share-altered-b/   \n",
       "96  /factchecks/2022/feb/11/facebook-posts/covid-spelled-backward-divoc-which-means-possessio/   \n",
       "\n",
       "    veracity  \n",
       "0          0  \n",
       "10         0  \n",
       "20         0  \n",
       "32         1  \n",
       "42         1  \n",
       "52         0  \n",
       "64         1  \n",
       "74         0  \n",
       "85         0  \n",
       "96         0  "
      ]
     },
     "execution_count": 75,
     "metadata": {},
     "output_type": "execute_result"
    }
   ],
   "source": [
    "ver_df_united[:100:10]"
   ]
  },
  {
   "cell_type": "code",
   "execution_count": 76,
   "id": "fe26ac64",
   "metadata": {},
   "outputs": [],
   "source": [
    "ver_df_united.to_csv('2022_03_13_politifact_cleaned_data.csv')"
   ]
  },
  {
   "cell_type": "markdown",
   "id": "bb985152",
   "metadata": {},
   "source": [
    "# We'll use a begins-with-and-ends-with-quotations filter going forward"
   ]
  },
  {
   "cell_type": "code",
   "execution_count": 77,
   "id": "8eaa73db",
   "metadata": {},
   "outputs": [
    {
     "name": "stdout",
     "output_type": "stream",
     "text": [
      "<class 'pandas.core.frame.DataFrame'>\n",
      "Int64Index: 3332 entries, 0 to 24987\n",
      "Data columns (total 4 columns):\n",
      " #   Column     Non-Null Count  Dtype \n",
      "---  ------     --------------  ----- \n",
      " 0   statement  3332 non-null   object\n",
      " 1   source     3332 non-null   object\n",
      " 2   link       3332 non-null   object\n",
      " 3   veracity   3332 non-null   object\n",
      "dtypes: object(4)\n",
      "memory usage: 130.2+ KB\n"
     ]
    }
   ],
   "source": [
    "quote_df = df[df.statement.str.match(r'\\\"')==True]\n",
    "quote_df.info()"
   ]
  },
  {
   "cell_type": "code",
   "execution_count": 78,
   "id": "5ee58147",
   "metadata": {},
   "outputs": [
    {
     "name": "stdout",
     "output_type": "stream",
     "text": [
      "<class 'pandas.core.frame.DataFrame'>\n",
      "Int64Index: 1666 entries, 0 to 24982\n",
      "Data columns (total 4 columns):\n",
      " #   Column     Non-Null Count  Dtype \n",
      "---  ------     --------------  ----- \n",
      " 0   statement  1666 non-null   object\n",
      " 1   source     1666 non-null   object\n",
      " 2   link       1666 non-null   object\n",
      " 3   veracity   1666 non-null   object\n",
      "dtypes: object(4)\n",
      "memory usage: 65.1+ KB\n"
     ]
    }
   ],
   "source": [
    "# remove sentences that don't end with a quotation\n",
    "quote_df = quote_df[quote_df.statement.str.endswith('\"')==True]\n",
    "quote_df.info()"
   ]
  },
  {
   "cell_type": "code",
   "execution_count": null,
   "id": "209c2a66",
   "metadata": {},
   "outputs": [],
   "source": []
  }
 ],
 "metadata": {
  "kernelspec": {
   "display_name": "Python 3 (ipykernel)",
   "language": "python",
   "name": "python3"
  },
  "language_info": {
   "codemirror_mode": {
    "name": "ipython",
    "version": 3
   },
   "file_extension": ".py",
   "mimetype": "text/x-python",
   "name": "python",
   "nbconvert_exporter": "python",
   "pygments_lexer": "ipython3",
   "version": "3.9.7"
  }
 },
 "nbformat": 4,
 "nbformat_minor": 5
}
